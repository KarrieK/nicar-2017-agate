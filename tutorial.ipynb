{
 "cells": [
  {
   "cell_type": "markdown",
   "metadata": {
    "deletable": true,
    "editable": true
   },
   "source": [
    "# NICAR 2017 agate hands-on\n",
    "\n",
    "### Christopher Groskopf, Quartz ([@onyxfish](https://twitter.com/onyxfish))\n",
    "### Neil Bedi, Tampa Bay Times ([@_neilbedi](https://twitter.com/_neilbedi))\n",
    "\n",
    "### URL for this tutorial: https://github.com/onyxfish/nicar-2017-agate"
   ]
  },
  {
   "cell_type": "markdown",
   "metadata": {
    "deletable": true,
    "editable": true
   },
   "source": [
    "## How do I import agate?"
   ]
  },
  {
   "cell_type": "code",
   "execution_count": 1,
   "metadata": {
    "collapsed": false,
    "deletable": true,
    "editable": true
   },
   "outputs": [
    {
     "name": "stderr",
     "output_type": "stream",
     "text": [
      "/Users/cgroskopf/.pyenv/versions/3.6.0/lib/python3.6/json/encoder.py:199: DeprecationWarning: Interpreting naive datetime as local 2017-03-02 09:32:21.633489. Please add timezone info to timestamps.\n"
     ]
    }
   ],
   "source": [
    "import agate"
   ]
  },
  {
   "cell_type": "markdown",
   "metadata": {
    "deletable": true,
    "editable": true
   },
   "source": [
    "## How do I load my alligator data from a CSV?"
   ]
  },
  {
   "cell_type": "code",
   "execution_count": 2,
   "metadata": {
    "collapsed": false,
    "deletable": true,
    "editable": true
   },
   "outputs": [
    {
     "name": "stderr",
     "output_type": "stream",
     "text": [
      "/Users/cgroskopf/.pyenv/versions/3.6.0/lib/python3.6/json/encoder.py:199: DeprecationWarning: Interpreting naive datetime as local 2017-03-02 09:32:21.839027. Please add timezone info to timestamps.\n"
     ]
    }
   ],
   "source": [
    "alligators = agate.Table.from_csv('alligators.csv')"
   ]
  },
  {
   "cell_type": "markdown",
   "metadata": {
    "deletable": true,
    "editable": true
   },
   "source": [
    "## How do I figure out what the data are?"
   ]
  },
  {
   "cell_type": "code",
   "execution_count": 3,
   "metadata": {
    "collapsed": false,
    "deletable": true,
    "editable": true,
    "scrolled": false
   },
   "outputs": [
    {
     "name": "stdout",
     "output_type": "stream",
     "text": [
      "| column       | data_type |\n",
      "| ------------ | --------- |\n",
      "| Year         | Number    |\n",
      "| Area Number  | Number    |\n",
      "| Area Name    | Text      |\n",
      "| Carcass Size | Text      |\n",
      "| Size         | Number    |\n",
      "| Harvest Date | Date      |\n",
      "\n"
     ]
    },
    {
     "name": "stderr",
     "output_type": "stream",
     "text": [
      "/Users/cgroskopf/.pyenv/versions/3.6.0/lib/python3.6/json/encoder.py:199: DeprecationWarning: Interpreting naive datetime as local 2017-03-02 09:32:50.806749. Please add timezone info to timestamps.\n"
     ]
    }
   ],
   "source": [
    "print(alligators)"
   ]
  },
  {
   "cell_type": "code",
   "execution_count": 4,
   "metadata": {
    "collapsed": false,
    "deletable": true,
    "editable": true
   },
   "outputs": [
    {
     "data": {
      "text/plain": [
       "87181"
      ]
     },
     "execution_count": 4,
     "metadata": {},
     "output_type": "execute_result"
    },
    {
     "name": "stderr",
     "output_type": "stream",
     "text": [
      "/Users/cgroskopf/.pyenv/versions/3.6.0/lib/python3.6/json/encoder.py:199: DeprecationWarning: Interpreting naive datetime as local 2017-03-02 09:32:50.817876. Please add timezone info to timestamps.\n"
     ]
    }
   ],
   "source": [
    "len(alligators)"
   ]
  },
  {
   "cell_type": "code",
   "execution_count": 5,
   "metadata": {
    "collapsed": false,
    "deletable": true,
    "editable": true
   },
   "outputs": [
    {
     "name": "stdout",
     "output_type": "stream",
     "text": [
      "|  Year | Area Number | Area Name   | Carcass Size  |    Size | Harvest Date |\n",
      "| ----- | ----------- | ----------- | ------------- | ------- | ------------ |\n",
      "| 2,000 |         101 | LAKE PIERCE | 11 ft. 5 in.  | 11.417… |   2000-09-22 |\n",
      "| 2,000 |         101 | LAKE PIERCE | 9 ft. 0 in.   |  9.000… |   2000-10-02 |\n",
      "| 2,000 |         101 | LAKE PIERCE | 8 ft. 10 in.  |  8.833… |   2000-10-06 |\n",
      "| 2,000 |         101 | LAKE PIERCE | 8 ft. 0 in.   |  8.000… |   2000-09-25 |\n",
      "| 2,000 |         101 | LAKE PIERCE | 8 ft. 0 in.   |  8.000… |   2000-10-07 |\n",
      "| 2,000 |         101 | LAKE PIERCE | 8 ft. 0 in.   |  8.000… |   2000-09-22 |\n",
      "| 2,000 |         101 | LAKE PIERCE | 7 ft. 2 in.   |  7.167… |   2000-09-21 |\n",
      "| 2,000 |         101 | LAKE PIERCE | 7 ft. 1 in.   |  7.083… |   2000-09-21 |\n",
      "| 2,000 |         101 | LAKE PIERCE | 6 ft. 11 in.  |  6.917… |   2000-09-25 |\n",
      "| 2,000 |         101 | LAKE PIERCE | 6 ft. 7 in.   |  6.583… |   2000-09-25 |\n",
      "| 2,000 |         101 | LAKE PIERCE | 6 ft. 6 in.   |  6.500… |   2000-09-15 |\n",
      "| 2,000 |         101 | LAKE PIERCE | 6 ft. 3 in.   |  6.250… |   2000-10-07 |\n",
      "| 2,000 |         102 | LAKE MARIAN | 12 ft. 7 in.  | 12.583… |   2000-09-04 |\n",
      "| 2,000 |         102 | LAKE MARIAN | 12 ft. 3 in.  | 12.250… |   2000-09-10 |\n",
      "| 2,000 |         102 | LAKE MARIAN | 12 ft. 3 in.  | 12.250… |   2000-09-03 |\n",
      "| 2,000 |         102 | LAKE MARIAN | 12 ft. 2 in.  | 12.167… |   2000-09-25 |\n",
      "| 2,000 |         102 | LAKE MARIAN | 12 ft. 0 in.  | 12.000… |   2000-09-27 |\n",
      "| 2,000 |         102 | LAKE MARIAN | 11 ft. 10 in. | 11.833… |   2000-09-09 |\n",
      "| 2,000 |         102 | LAKE MARIAN | 11 ft. 7 in.  | 11.583… |   2000-09-10 |\n",
      "| 2,000 |         102 | LAKE MARIAN | 11 ft. 1 in.  | 11.083… |   2000-10-07 |\n",
      "|   ... |         ... | ...         | ...           |     ... |          ... |\n"
     ]
    },
    {
     "name": "stderr",
     "output_type": "stream",
     "text": [
      "/Users/cgroskopf/.pyenv/versions/3.6.0/lib/python3.6/json/encoder.py:199: DeprecationWarning: Interpreting naive datetime as local 2017-03-02 09:32:50.838625. Please add timezone info to timestamps.\n"
     ]
    }
   ],
   "source": [
    "alligators.print_table()"
   ]
  },
  {
   "cell_type": "markdown",
   "metadata": {
    "collapsed": true,
    "deletable": true,
    "editable": true
   },
   "source": [
    "## How do I fix the \"Year\" column so it isn't a number?"
   ]
  },
  {
   "cell_type": "code",
   "execution_count": 6,
   "metadata": {
    "collapsed": false,
    "deletable": true,
    "editable": true
   },
   "outputs": [
    {
     "name": "stdout",
     "output_type": "stream",
     "text": [
      "| Year | Area Number | Area Name   | Carcass Size  |    Size | Harvest Date |\n",
      "| ---- | ----------- | ----------- | ------------- | ------- | ------------ |\n",
      "| 2000 |         101 | LAKE PIERCE | 11 ft. 5 in.  | 11.417… |   2000-09-22 |\n",
      "| 2000 |         101 | LAKE PIERCE | 9 ft. 0 in.   |  9.000… |   2000-10-02 |\n",
      "| 2000 |         101 | LAKE PIERCE | 8 ft. 10 in.  |  8.833… |   2000-10-06 |\n",
      "| 2000 |         101 | LAKE PIERCE | 8 ft. 0 in.   |  8.000… |   2000-09-25 |\n",
      "| 2000 |         101 | LAKE PIERCE | 8 ft. 0 in.   |  8.000… |   2000-10-07 |\n",
      "| 2000 |         101 | LAKE PIERCE | 8 ft. 0 in.   |  8.000… |   2000-09-22 |\n",
      "| 2000 |         101 | LAKE PIERCE | 7 ft. 2 in.   |  7.167… |   2000-09-21 |\n",
      "| 2000 |         101 | LAKE PIERCE | 7 ft. 1 in.   |  7.083… |   2000-09-21 |\n",
      "| 2000 |         101 | LAKE PIERCE | 6 ft. 11 in.  |  6.917… |   2000-09-25 |\n",
      "| 2000 |         101 | LAKE PIERCE | 6 ft. 7 in.   |  6.583… |   2000-09-25 |\n",
      "| 2000 |         101 | LAKE PIERCE | 6 ft. 6 in.   |  6.500… |   2000-09-15 |\n",
      "| 2000 |         101 | LAKE PIERCE | 6 ft. 3 in.   |  6.250… |   2000-10-07 |\n",
      "| 2000 |         102 | LAKE MARIAN | 12 ft. 7 in.  | 12.583… |   2000-09-04 |\n",
      "| 2000 |         102 | LAKE MARIAN | 12 ft. 3 in.  | 12.250… |   2000-09-10 |\n",
      "| 2000 |         102 | LAKE MARIAN | 12 ft. 3 in.  | 12.250… |   2000-09-03 |\n",
      "| 2000 |         102 | LAKE MARIAN | 12 ft. 2 in.  | 12.167… |   2000-09-25 |\n",
      "| 2000 |         102 | LAKE MARIAN | 12 ft. 0 in.  | 12.000… |   2000-09-27 |\n",
      "| 2000 |         102 | LAKE MARIAN | 11 ft. 10 in. | 11.833… |   2000-09-09 |\n",
      "| 2000 |         102 | LAKE MARIAN | 11 ft. 7 in.  | 11.583… |   2000-09-10 |\n",
      "| 2000 |         102 | LAKE MARIAN | 11 ft. 1 in.  | 11.083… |   2000-10-07 |\n",
      "| ...  |         ... | ...         | ...           |     ... |          ... |\n"
     ]
    },
    {
     "name": "stderr",
     "output_type": "stream",
     "text": [
      "/Users/cgroskopf/.pyenv/versions/3.6.0/lib/python3.6/json/encoder.py:199: DeprecationWarning: Interpreting naive datetime as local 2017-03-02 09:32:51.422908. Please add timezone info to timestamps.\n"
     ]
    }
   ],
   "source": [
    "type_tester = agate.TypeTester(force={'Year': agate.Text()})\n",
    "\n",
    "alligators = agate.Table.from_csv('alligators.csv', column_types=type_tester)\n",
    "\n",
    "alligators.print_table()"
   ]
  },
  {
   "cell_type": "markdown",
   "metadata": {
    "deletable": true,
    "editable": true
   },
   "source": [
    "## How many alligators were harvest in 2015?"
   ]
  },
  {
   "cell_type": "code",
   "execution_count": 7,
   "metadata": {
    "collapsed": false,
    "deletable": true,
    "editable": true
   },
   "outputs": [
    {
     "data": {
      "text/plain": [
       "6726"
      ]
     },
     "execution_count": 7,
     "metadata": {},
     "output_type": "execute_result"
    },
    {
     "name": "stderr",
     "output_type": "stream",
     "text": [
      "/Users/cgroskopf/.pyenv/versions/3.6.0/lib/python3.6/json/encoder.py:199: DeprecationWarning: Interpreting naive datetime as local 2017-03-02 09:33:25.470357. Please add timezone info to timestamps.\n"
     ]
    }
   ],
   "source": [
    "alligators.aggregate(agate.Count('Year', '2015'))"
   ]
  },
  {
   "cell_type": "markdown",
   "metadata": {
    "deletable": true,
    "editable": true
   },
   "source": [
    "## What is the median size of all harvested alligators?"
   ]
  },
  {
   "cell_type": "code",
   "execution_count": 8,
   "metadata": {
    "collapsed": false,
    "deletable": true,
    "editable": true
   },
   "outputs": [
    {
     "data": {
      "text/plain": [
       "Decimal('8.166666667')"
      ]
     },
     "execution_count": 8,
     "metadata": {},
     "output_type": "execute_result"
    },
    {
     "name": "stderr",
     "output_type": "stream",
     "text": [
      "/Users/cgroskopf/.pyenv/versions/3.6.0/lib/python3.6/json/encoder.py:199: DeprecationWarning: Interpreting naive datetime as local 2017-03-02 09:33:25.565511. Please add timezone info to timestamps.\n"
     ]
    }
   ],
   "source": [
    "alligators.aggregate(agate.Median('Size'))"
   ]
  },
  {
   "cell_type": "markdown",
   "metadata": {
    "deletable": true,
    "editable": true
   },
   "source": [
    "## Are Lake Pierce's gators bigger or smaller than gators elsewhere?"
   ]
  },
  {
   "cell_type": "code",
   "execution_count": 9,
   "metadata": {
    "collapsed": false,
    "deletable": true,
    "editable": true
   },
   "outputs": [
    {
     "data": {
      "text/plain": [
       "284"
      ]
     },
     "execution_count": 9,
     "metadata": {},
     "output_type": "execute_result"
    },
    {
     "name": "stderr",
     "output_type": "stream",
     "text": [
      "/Users/cgroskopf/.pyenv/versions/3.6.0/lib/python3.6/json/encoder.py:199: DeprecationWarning: Interpreting naive datetime as local 2017-03-02 09:33:25.952092. Please add timezone info to timestamps.\n"
     ]
    }
   ],
   "source": [
    "lake_pierce_gators = alligators.where(lambda row: row['Area Name'] == 'LAKE PIERCE')\n",
    "\n",
    "len(lake_pierce_gators)"
   ]
  },
  {
   "cell_type": "code",
   "execution_count": 10,
   "metadata": {
    "collapsed": false,
    "deletable": true,
    "editable": true
   },
   "outputs": [
    {
     "data": {
      "text/plain": [
       "Decimal('7.833333333')"
      ]
     },
     "execution_count": 10,
     "metadata": {},
     "output_type": "execute_result"
    },
    {
     "name": "stderr",
     "output_type": "stream",
     "text": [
      "/Users/cgroskopf/.pyenv/versions/3.6.0/lib/python3.6/json/encoder.py:199: DeprecationWarning: Interpreting naive datetime as local 2017-03-02 09:33:26.503980. Please add timezone info to timestamps.\n"
     ]
    }
   ],
   "source": [
    "lake_pierce_gators.aggregate(agate.Median('Size'))"
   ]
  },
  {
   "cell_type": "markdown",
   "metadata": {
    "deletable": true,
    "editable": true
   },
   "source": [
    "## How big would these gators be in Europe?"
   ]
  },
  {
   "cell_type": "code",
   "execution_count": 11,
   "metadata": {
    "collapsed": false,
    "deletable": true,
    "editable": true
   },
   "outputs": [
    {
     "data": {
      "text/plain": [
       "Decimal('4.343400000000000218958184917')"
      ]
     },
     "execution_count": 11,
     "metadata": {},
     "output_type": "execute_result"
    },
    {
     "name": "stderr",
     "output_type": "stream",
     "text": [
      "/Users/cgroskopf/.pyenv/versions/3.6.0/lib/python3.6/json/encoder.py:199: DeprecationWarning: Interpreting naive datetime as local 2017-03-02 09:33:26.527168. Please add timezone info to timestamps.\n"
     ]
    }
   ],
   "source": [
    "import decimal\n",
    "\n",
    "metric_gators = alligators.compute([\n",
    "    ('size_meters', agate.Formula(agate.Number(), lambda row: row['Size'] * decimal.Decimal(0.3048)))\n",
    "])\n",
    "\n",
    "metric_gators.aggregate(agate.Max('size_meters'))"
   ]
  },
  {
   "cell_type": "markdown",
   "metadata": {
    "deletable": true,
    "editable": true
   },
   "source": [
    "## Where were the largest alligators harvested?"
   ]
  },
  {
   "cell_type": "code",
   "execution_count": 12,
   "metadata": {
    "collapsed": false,
    "deletable": true,
    "editable": true,
    "scrolled": true
   },
   "outputs": [
    {
     "name": "stdout",
     "output_type": "stream",
     "text": [
      "| Year | Area Number | Area Name            | Carcass Size  |    Size | Harvest Date |\n",
      "| ---- | ----------- | -------------------- | ------------- | ------- | ------------ |\n",
      "| 2010 |         502 | ST. JOHNS RIVER (... | 14 ft. 3 in.  | 14.250… |   2010-10-31 |\n",
      "| 2014 |         828 | HIGHLANDS COUNTY     | 14 ft. 3 in.  | 14.250… |   2014-10-28 |\n",
      "| 2008 |         510 | LAKE JESUP           | 14 ft. 1 in.  | 14.083… |   2008-08-26 |\n",
      "| 2013 |         733 | LAKE TALQUIN         | 14 ft. 1 in.  | 14.083… |   2013-09-02 |\n",
      "| 2012 |         828 | HIGHLANDS COUNTY     | 14 ft. 0 in.  | 14.000… |   2012-10-31 |\n",
      "| 2008 |         508 | CRESCENT LAKE        | 13 ft. 11 in. | 13.917… |   2008-09-21 |\n",
      "| 2007 |         823 | GULF COUNTY          | 13 ft. 10 in. | 13.833… |   2007-08-16 |\n",
      "| 2007 |         103 | KISSIMMEE RIVER (... | 13 ft. 9 in.  | 13.750… |   2007-08-30 |\n",
      "| 2008 |         864 | VOLUSIA COUNTY       | 13 ft. 9 in.  | 13.750… |   2008-11-30 |\n",
      "| 2013 |         852 | PINELLAS COUNTY      | 13 ft. 9 in.  | 13.750… |   2013-09-25 |\n"
     ]
    },
    {
     "name": "stderr",
     "output_type": "stream",
     "text": [
      "/Users/cgroskopf/.pyenv/versions/3.6.0/lib/python3.6/json/encoder.py:199: DeprecationWarning: Interpreting naive datetime as local 2017-03-02 09:33:27.689263. Please add timezone info to timestamps.\n"
     ]
    }
   ],
   "source": [
    "sorted_by_size = alligators.order_by('Size', reverse=True).limit(10)\n",
    "\n",
    "biggest_gators = sorted_by_size.limit(10)\n",
    "\n",
    "biggest_gators.print_table()"
   ]
  },
  {
   "cell_type": "markdown",
   "metadata": {
    "deletable": true,
    "editable": true
   },
   "source": [
    "## What is the distribution of alligator sizes?"
   ]
  },
  {
   "cell_type": "code",
   "execution_count": 13,
   "metadata": {
    "collapsed": false,
    "deletable": true,
    "editable": true
   },
   "outputs": [
    {
     "name": "stdout",
     "output_type": "stream",
     "text": [
      "Size       Count\n",
      "[0 - 2)       91 ▓                                                                                  \n",
      "[2 - 4)      307 ▓░                                                                                 \n",
      "[4 - 6)    5,824 ▓░░░░░░░░░░░░                                                                      \n",
      "[6 - 8)   32,041 ▓░░░░░░░░░░░░░░░░░░░░░░░░░░░░░░░░░░░░░░░░░░░░░░░░░░░░░░░░░░░░░░░░░░                \n",
      "[8 - 10)  30,523 ▓░░░░░░░░░░░░░░░░░░░░░░░░░░░░░░░░░░░░░░░░░░░░░░░░░░░░░░░░░░░░░░░                   \n",
      "[10 - 12) 16,341 ▓░░░░░░░░░░░░░░░░░░░░░░░░░░░░░░░░░                                                 \n",
      "[12 - 14)  2,049 ▓░░░░                                                                              \n",
      "[14 - 16)      5 ▓                                                                                  \n",
      "                 +-------------------+--------------------+--------------------+-------------------+\n",
      "                 0                10,000               20,000               30,000            40,000\n"
     ]
    },
    {
     "name": "stderr",
     "output_type": "stream",
     "text": [
      "/Users/cgroskopf/.pyenv/versions/3.6.0/lib/python3.6/json/encoder.py:199: DeprecationWarning: Interpreting naive datetime as local 2017-03-02 09:33:28.849895. Please add timezone info to timestamps.\n"
     ]
    }
   ],
   "source": [
    "binned_sizes = alligators.bins('Size')\n",
    "binned_sizes.print_bars('Size', 'Count', width=100)"
   ]
  },
  {
   "cell_type": "markdown",
   "metadata": {
    "deletable": true,
    "editable": true
   },
   "source": [
    "## Which area harvests the most alligators?"
   ]
  },
  {
   "cell_type": "code",
   "execution_count": 14,
   "metadata": {
    "collapsed": false,
    "deletable": true,
    "editable": true,
    "scrolled": true
   },
   "outputs": [
    {
     "name": "stdout",
     "output_type": "stream",
     "text": [
      "| Area Name                       | count |\n",
      "| ------------------------------- | ----- |\n",
      "| ST. JOHNS RIVER (LAKE POINSETT) | 5,188 |\n",
      "| LAKE OKEECHOBEE (SOUTH)         | 4,122 |\n",
      "| ORANGE LAKE                     | 3,110 |\n",
      "| LAKE OKEECHOBEE (WEST)          | 3,073 |\n",
      "| KISSIMMEE RIVER                 | 2,978 |\n",
      "| ...                             |   ... |\n"
     ]
    },
    {
     "name": "stderr",
     "output_type": "stream",
     "text": [
      "/Users/cgroskopf/.pyenv/versions/3.6.0/lib/python3.6/json/encoder.py:199: DeprecationWarning: Interpreting naive datetime as local 2017-03-02 09:33:30.088156. Please add timezone info to timestamps.\n"
     ]
    }
   ],
   "source": [
    "by_area = alligators.group_by('Area Name')\n",
    "\n",
    "area_totals = by_area.aggregate([\n",
    "    ('count', agate.Count())\n",
    "])\n",
    "\n",
    "sorted_totals = area_totals.order_by('count', reverse=True)\n",
    "\n",
    "sorted_totals.print_table(max_rows=5, max_column_width=40)"
   ]
  },
  {
   "cell_type": "markdown",
   "metadata": {
    "deletable": true,
    "editable": true
   },
   "source": [
    "## Which area harvests the largest alligators?"
   ]
  },
  {
   "cell_type": "code",
   "execution_count": 15,
   "metadata": {
    "collapsed": false,
    "deletable": true,
    "editable": true
   },
   "outputs": [
    {
     "name": "stdout",
     "output_type": "stream",
     "text": [
      "| Area Name         | count | median_size |\n",
      "| ----------------- | ----- | ----------- |\n",
      "| ST. JOHNS         |     1 |     11.583… |\n",
      "| LAKE              |     2 |     10.500… |\n",
      "| STICK MARSH       |   503 |     10.417… |\n",
      "| LAKE PARKER       |    25 |     10.250… |\n",
      "| PALM BEACH COUNTY |    82 |      9.750… |\n",
      "| ...               |   ... |         ... |\n"
     ]
    },
    {
     "name": "stderr",
     "output_type": "stream",
     "text": [
      "/Users/cgroskopf/.pyenv/versions/3.6.0/lib/python3.6/json/encoder.py:199: DeprecationWarning: Interpreting naive datetime as local 2017-03-02 09:33:31.380378. Please add timezone info to timestamps.\n"
     ]
    }
   ],
   "source": [
    "area_medians = by_area.aggregate([\n",
    "    ('count', agate.Count()),\n",
    "    ('median_size', agate.Median('Size'))\n",
    "])\n",
    "\n",
    "sorted_medians = area_medians.order_by('median_size', reverse=True)\n",
    "\n",
    "sorted_medians.print_table(max_rows=5, max_column_width=40)"
   ]
  },
  {
   "cell_type": "markdown",
   "metadata": {
    "deletable": true,
    "editable": true
   },
   "source": [
    "## Where and when was the largest concentration of big alligators harvested?"
   ]
  },
  {
   "cell_type": "code",
   "execution_count": 16,
   "metadata": {
    "collapsed": false,
    "deletable": true,
    "editable": true
   },
   "outputs": [
    {
     "name": "stdout",
     "output_type": "stream",
     "text": [
      "| Area Name            | Year | count |\n",
      "| -------------------- | ---- | ----- |\n",
      "| LAKE OKEECHOBEE (... | 2000 |    43 |\n",
      "| LAKE OKEECHOBEE (... | 2006 |    34 |\n",
      "| LAKE JESUP           | 2009 |    32 |\n",
      "| LAKE OKEECHOBEE (... | 2001 |    26 |\n",
      "| LAKE GEORGE          | 2005 |    22 |\n",
      "| LAKE OKEECHOBEE (... | 2006 |    20 |\n",
      "| LAKE GEORGE          | 2013 |    20 |\n",
      "| LAKE OKEECHOBEE (... | 2000 |    18 |\n",
      "| LAKE GEORGE          | 2006 |    18 |\n",
      "| LAKE GEORGE          | 2007 |    18 |\n",
      "| LAKE JESUP           | 2008 |    17 |\n",
      "| LAKE GEORGE          | 2011 |    17 |\n",
      "| LAKE OKEECHOBEE (... | 2004 |    16 |\n",
      "| LAKE GEORGE          | 2010 |    16 |\n",
      "| PUTNAM COUNTY        | 2011 |    16 |\n",
      "| LAKE OKEECHOBEE (... | 2007 |    15 |\n",
      "| LAKE JESUP           | 2010 |    14 |\n",
      "| LAKE OKEECHOBEE (... | 2000 |    14 |\n",
      "| LAKE OKEECHOBEE (... | 2001 |    14 |\n",
      "| LAKE COUNTY          | 2011 |    14 |\n",
      "| ...                  | ...  |   ... |\n"
     ]
    },
    {
     "name": "stderr",
     "output_type": "stream",
     "text": [
      "/Users/cgroskopf/.pyenv/versions/3.6.0/lib/python3.6/json/encoder.py:199: DeprecationWarning: Interpreting naive datetime as local 2017-03-02 09:33:32.386718. Please add timezone info to timestamps.\n"
     ]
    }
   ],
   "source": [
    "by_area_and_year = by_area.group_by('Year')\n",
    "\n",
    "bigguns = by_area_and_year.where(lambda row: row['Size'] >= 12)\n",
    "\n",
    "biggun_groups = bigguns.aggregate([\n",
    "    ('count', agate.Count())\n",
    "])\n",
    "\n",
    "sorted_groups = biggun_groups.order_by('count', reverse=True)\n",
    "\n",
    "sorted_groups.print_table()"
   ]
  },
  {
   "cell_type": "markdown",
   "metadata": {
    "deletable": true,
    "editable": true
   },
   "source": [
    "Leather will try to maintain a reasonable aspect ratio for chart. In this case the chart is too short to display correctly. We've used the `height` argument to make the chart a little taller."
   ]
  },
  {
   "cell_type": "markdown",
   "metadata": {
    "deletable": true,
    "editable": true
   },
   "source": [
    "## What's the gator trend?"
   ]
  },
  {
   "cell_type": "code",
   "execution_count": 17,
   "metadata": {
    "collapsed": false,
    "deletable": true,
    "editable": true
   },
   "outputs": [
    {
     "data": {
      "image/svg+xml": [
       "<svg height=\"600\" version=\"1.1\" width=\"800\" xmlns=\"http://www.w3.org/2000/svg\"><g><rect fill=\"#f9f9f9\" height=\"600\" width=\"800\" x=\"0\" y=\"0\"/><g transform=\"translate(40 40)\"><g transform=\"translate(78 0)\"/><g transform=\"translate(0 0)\"><g transform=\"translate(78 0)\"><g class=\"axis bottom\"><text dy=\"1em\" fill=\"#666\" font-family=\"Monaco\" text-anchor=\"middle\" transform=\"\" x=\"321.0\" y=\"506.0\">Year</text><g class=\"tick\"><line stroke=\"#eee\" stroke-width=\"1\" x1=\"20.0625\" x2=\"20.0625\" y1=\"0\" y2=\"472.0\"/><text dy=\"1em\" fill=\"#9c9c9c\" font-family=\"Monaco\" text-anchor=\"middle\" x=\"20.0625\" y=\"476.0\">2000</text></g><g class=\"tick\"><line stroke=\"#eee\" stroke-width=\"1\" x1=\"60.1875\" x2=\"60.1875\" y1=\"0\" y2=\"472.0\"/><text dy=\"1em\" fill=\"#9c9c9c\" font-family=\"Monaco\" text-anchor=\"middle\" x=\"60.1875\" y=\"476.0\">2001</text></g><g class=\"tick\"><line stroke=\"#eee\" stroke-width=\"1\" x1=\"100.3125\" x2=\"100.3125\" y1=\"0\" y2=\"472.0\"/><text dy=\"1em\" fill=\"#9c9c9c\" font-family=\"Monaco\" text-anchor=\"middle\" x=\"100.3125\" y=\"476.0\">2002</text></g><g class=\"tick\"><line stroke=\"#eee\" stroke-width=\"1\" x1=\"140.4375\" x2=\"140.4375\" y1=\"0\" y2=\"472.0\"/><text dy=\"1em\" fill=\"#9c9c9c\" font-family=\"Monaco\" text-anchor=\"middle\" x=\"140.4375\" y=\"476.0\">2003</text></g><g class=\"tick\"><line stroke=\"#eee\" stroke-width=\"1\" x1=\"180.5625\" x2=\"180.5625\" y1=\"0\" y2=\"472.0\"/><text dy=\"1em\" fill=\"#9c9c9c\" font-family=\"Monaco\" text-anchor=\"middle\" x=\"180.5625\" y=\"476.0\">2004</text></g><g class=\"tick\"><line stroke=\"#eee\" stroke-width=\"1\" x1=\"220.6875\" x2=\"220.6875\" y1=\"0\" y2=\"472.0\"/><text dy=\"1em\" fill=\"#9c9c9c\" font-family=\"Monaco\" text-anchor=\"middle\" x=\"220.6875\" y=\"476.0\">2005</text></g><g class=\"tick\"><line stroke=\"#eee\" stroke-width=\"1\" x1=\"260.8125\" x2=\"260.8125\" y1=\"0\" y2=\"472.0\"/><text dy=\"1em\" fill=\"#9c9c9c\" font-family=\"Monaco\" text-anchor=\"middle\" x=\"260.8125\" y=\"476.0\">2006</text></g><g class=\"tick\"><line stroke=\"#eee\" stroke-width=\"1\" x1=\"300.9375\" x2=\"300.9375\" y1=\"0\" y2=\"472.0\"/><text dy=\"1em\" fill=\"#9c9c9c\" font-family=\"Monaco\" text-anchor=\"middle\" x=\"300.9375\" y=\"476.0\">2007</text></g><g class=\"tick\"><line stroke=\"#eee\" stroke-width=\"1\" x1=\"341.0625\" x2=\"341.0625\" y1=\"0\" y2=\"472.0\"/><text dy=\"1em\" fill=\"#9c9c9c\" font-family=\"Monaco\" text-anchor=\"middle\" x=\"341.0625\" y=\"476.0\">2008</text></g><g class=\"tick\"><line stroke=\"#eee\" stroke-width=\"1\" x1=\"381.1875\" x2=\"381.1875\" y1=\"0\" y2=\"472.0\"/><text dy=\"1em\" fill=\"#9c9c9c\" font-family=\"Monaco\" text-anchor=\"middle\" x=\"381.1875\" y=\"476.0\">2009</text></g><g class=\"tick\"><line stroke=\"#eee\" stroke-width=\"1\" x1=\"421.3125\" x2=\"421.3125\" y1=\"0\" y2=\"472.0\"/><text dy=\"1em\" fill=\"#9c9c9c\" font-family=\"Monaco\" text-anchor=\"middle\" x=\"421.3125\" y=\"476.0\">2010</text></g><g class=\"tick\"><line stroke=\"#eee\" stroke-width=\"1\" x1=\"461.4375\" x2=\"461.4375\" y1=\"0\" y2=\"472.0\"/><text dy=\"1em\" fill=\"#9c9c9c\" font-family=\"Monaco\" text-anchor=\"middle\" x=\"461.4375\" y=\"476.0\">2011</text></g><g class=\"tick\"><line stroke=\"#eee\" stroke-width=\"1\" x1=\"501.5625\" x2=\"501.5625\" y1=\"0\" y2=\"472.0\"/><text dy=\"1em\" fill=\"#9c9c9c\" font-family=\"Monaco\" text-anchor=\"middle\" x=\"501.5625\" y=\"476.0\">2012</text></g><g class=\"tick\"><line stroke=\"#eee\" stroke-width=\"1\" x1=\"541.6875\" x2=\"541.6875\" y1=\"0\" y2=\"472.0\"/><text dy=\"1em\" fill=\"#9c9c9c\" font-family=\"Monaco\" text-anchor=\"middle\" x=\"541.6875\" y=\"476.0\">2013</text></g><g class=\"tick\"><line stroke=\"#eee\" stroke-width=\"1\" x1=\"581.8125\" x2=\"581.8125\" y1=\"0\" y2=\"472.0\"/><text dy=\"1em\" fill=\"#9c9c9c\" font-family=\"Monaco\" text-anchor=\"middle\" x=\"581.8125\" y=\"476.0\">2014</text></g><g class=\"tick\"><line stroke=\"#eee\" stroke-width=\"1\" x1=\"621.9375\" x2=\"621.9375\" y1=\"0\" y2=\"472.0\"/><text dy=\"1em\" fill=\"#9c9c9c\" font-family=\"Monaco\" text-anchor=\"middle\" x=\"621.9375\" y=\"476.0\">2015</text></g></g><g class=\"axis left\"><text dy=\"\" fill=\"#666\" font-family=\"Monaco\" text-anchor=\"middle\" transform=\"rotate(270 -56 234)\" x=\"-56\" y=\"234.0\">count</text><g class=\"tick\"><line stroke=\"#eee\" stroke-width=\"1\" x1=\"-4\" x2=\"642.0\" y1=\"351.00\" y2=\"351.00\"/><text dy=\"0.32em\" fill=\"#9c9c9c\" font-family=\"Monaco\" text-anchor=\"end\" x=\"-8\" y=\"351.00\">2500</text></g><g class=\"tick\"><line stroke=\"#eee\" stroke-width=\"1\" x1=\"-4\" x2=\"642.0\" y1=\"234.0\" y2=\"234.0\"/><text dy=\"0.32em\" fill=\"#9c9c9c\" font-family=\"Monaco\" text-anchor=\"end\" x=\"-8\" y=\"234.0\">5000</text></g><g class=\"tick\"><line stroke=\"#eee\" stroke-width=\"1\" x1=\"-4\" x2=\"642.0\" y1=\"117.00\" y2=\"117.00\"/><text dy=\"0.32em\" fill=\"#9c9c9c\" font-family=\"Monaco\" text-anchor=\"end\" x=\"-8\" y=\"117.00\">7500</text></g><g class=\"tick\"><line stroke=\"#eee\" stroke-width=\"1\" x1=\"-4\" x2=\"642.0\" y1=\"0\" y2=\"0\"/><text dy=\"0.32em\" fill=\"#9c9c9c\" font-family=\"Monaco\" text-anchor=\"end\" x=\"-8\" y=\"0\">10000</text></g><g class=\"tick\"><line stroke=\"#a8a8a8\" stroke-width=\"1\" x1=\"-4\" x2=\"642.0\" y1=\"468\" y2=\"468\"/><text dy=\"0.32em\" fill=\"#9c9c9c\" font-family=\"Monaco\" text-anchor=\"end\" x=\"-8\" y=\"468\">0</text></g></g><g><g class=\"series columns\"><rect fill=\"#e41a1c\" height=\"119.1996\" width=\"36.11250\" x=\"2.00625\" y=\"348.8004\"/><rect fill=\"#e41a1c\" height=\"105.8616\" width=\"36.11250\" x=\"42.13125\" y=\"362.1384\"/><rect fill=\"#e41a1c\" height=\"100.8540\" width=\"36.11250\" x=\"82.25625\" y=\"367.1460\"/><rect fill=\"#e41a1c\" height=\"131.9292\" width=\"36.11250\" x=\"122.38125\" y=\"336.0708\"/><rect fill=\"#e41a1c\" height=\"151.0236\" width=\"36.11250\" x=\"162.50625\" y=\"316.9764\"/><rect fill=\"#e41a1c\" height=\"161.6004\" width=\"36.11250\" x=\"202.63125\" y=\"306.3996\"/><rect fill=\"#e41a1c\" height=\"300.456\" width=\"36.11250\" x=\"242.75625\" y=\"167.544\"/><rect fill=\"#e41a1c\" height=\"278.5536\" width=\"36.11250\" x=\"282.88125\" y=\"189.4464\"/><rect fill=\"#e41a1c\" height=\"290.2068\" width=\"36.11250\" x=\"323.00625\" y=\"177.7932\"/><rect fill=\"#e41a1c\" height=\"362.4192\" width=\"36.11250\" x=\"363.13125\" y=\"105.5808\"/><rect fill=\"#e41a1c\" height=\"358.2072\" width=\"36.11250\" x=\"403.25625\" y=\"109.7928\"/><rect fill=\"#e41a1c\" height=\"374.9148\" width=\"36.11250\" x=\"443.38125\" y=\"93.0852\"/><rect fill=\"#e41a1c\" height=\"311.5476\" width=\"36.11250\" x=\"483.50625\" y=\"156.4524\"/><rect fill=\"#e41a1c\" height=\"373.4172\" width=\"36.11250\" x=\"523.63125\" y=\"94.5828\"/><rect fill=\"#e41a1c\" height=\"345.1032\" width=\"36.11250\" x=\"563.75625\" y=\"122.8968\"/><rect fill=\"#e41a1c\" height=\"314.7768\" width=\"36.11250\" x=\"603.88125\" y=\"153.2232\"/></g></g></g></g></g></g></svg>"
      ],
      "text/plain": [
       "<IPython.core.display.SVG object>"
      ]
     },
     "execution_count": 17,
     "metadata": {},
     "output_type": "execute_result"
    },
    {
     "name": "stderr",
     "output_type": "stream",
     "text": [
      "/Users/cgroskopf/.pyenv/versions/3.6.0/lib/python3.6/json/encoder.py:199: DeprecationWarning: Interpreting naive datetime as local 2017-03-02 09:33:35.199320. Please add timezone info to timestamps.\n"
     ]
    }
   ],
   "source": [
    "by_year_alligators = alligators.group_by('Year')\n",
    "\n",
    "counts = by_year_alligators.aggregate([\n",
    "    ('count', agate.Count())\n",
    "])\n",
    "\n",
    "counts.order_by('Year').column_chart('Year', 'count')"
   ]
  },
  {
   "cell_type": "markdown",
   "metadata": {
    "deletable": true,
    "editable": true
   },
   "source": [
    "## What's the gator trend in the top gator harvesting areas?"
   ]
  },
  {
   "cell_type": "code",
   "execution_count": 18,
   "metadata": {
    "collapsed": false,
    "deletable": true,
    "editable": true,
    "scrolled": false
   },
   "outputs": [
    {
     "data": {
      "image/svg+xml": [
       "<svg height=\"1800\" version=\"1.1\" width=\"3200\" xmlns=\"http://www.w3.org/2000/svg\"><g><rect fill=\"#f9f9f9\" height=\"1800\" width=\"3200\" x=\"0\" y=\"0\"/><g><g transform=\"translate(0 0)\"><g><rect fill=\"#f9f9f9\" height=\"600.0\" width=\"800.0\" x=\"0\" y=\"0\"/><g transform=\"translate(40 40)\"><g transform=\"translate(70 0)\"><text fill=\"#333\" font-family=\"Monaco\" font-size=\"16\" x=\"0\" y=\"0\">LAKE KISSIMMEE</text></g><g transform=\"translate(0 20)\"><g transform=\"translate(70 0)\"><g class=\"axis bottom\"><text dy=\"1em\" fill=\"#666\" font-family=\"Monaco\" text-anchor=\"middle\" transform=\"\" x=\"325.0\" y=\"486.0\">Year</text><g class=\"tick\"><line stroke=\"#eee\" stroke-width=\"1\" x1=\"20.3125\" x2=\"20.3125\" y1=\"0\" y2=\"452.0\"/><text dy=\"1em\" fill=\"#9c9c9c\" font-family=\"Monaco\" text-anchor=\"middle\" x=\"20.3125\" y=\"456.0\">2000</text></g><g class=\"tick\"><line stroke=\"#eee\" stroke-width=\"1\" x1=\"60.9375\" x2=\"60.9375\" y1=\"0\" y2=\"452.0\"/><text dy=\"1em\" fill=\"#9c9c9c\" font-family=\"Monaco\" text-anchor=\"middle\" x=\"60.9375\" y=\"456.0\">2001</text></g><g class=\"tick\"><line stroke=\"#eee\" stroke-width=\"1\" x1=\"101.5625\" x2=\"101.5625\" y1=\"0\" y2=\"452.0\"/><text dy=\"1em\" fill=\"#9c9c9c\" font-family=\"Monaco\" text-anchor=\"middle\" x=\"101.5625\" y=\"456.0\">2002</text></g><g class=\"tick\"><line stroke=\"#eee\" stroke-width=\"1\" x1=\"142.1875\" x2=\"142.1875\" y1=\"0\" y2=\"452.0\"/><text dy=\"1em\" fill=\"#9c9c9c\" font-family=\"Monaco\" text-anchor=\"middle\" x=\"142.1875\" y=\"456.0\">2003</text></g><g class=\"tick\"><line stroke=\"#eee\" stroke-width=\"1\" x1=\"182.8125\" x2=\"182.8125\" y1=\"0\" y2=\"452.0\"/><text dy=\"1em\" fill=\"#9c9c9c\" font-family=\"Monaco\" text-anchor=\"middle\" x=\"182.8125\" y=\"456.0\">2004</text></g><g class=\"tick\"><line stroke=\"#eee\" stroke-width=\"1\" x1=\"223.4375\" x2=\"223.4375\" y1=\"0\" y2=\"452.0\"/><text dy=\"1em\" fill=\"#9c9c9c\" font-family=\"Monaco\" text-anchor=\"middle\" x=\"223.4375\" y=\"456.0\">2005</text></g><g class=\"tick\"><line stroke=\"#eee\" stroke-width=\"1\" x1=\"264.0625\" x2=\"264.0625\" y1=\"0\" y2=\"452.0\"/><text dy=\"1em\" fill=\"#9c9c9c\" font-family=\"Monaco\" text-anchor=\"middle\" x=\"264.0625\" y=\"456.0\">2006</text></g><g class=\"tick\"><line stroke=\"#eee\" stroke-width=\"1\" x1=\"304.6875\" x2=\"304.6875\" y1=\"0\" y2=\"452.0\"/><text dy=\"1em\" fill=\"#9c9c9c\" font-family=\"Monaco\" text-anchor=\"middle\" x=\"304.6875\" y=\"456.0\">2007</text></g><g class=\"tick\"><line stroke=\"#eee\" stroke-width=\"1\" x1=\"345.3125\" x2=\"345.3125\" y1=\"0\" y2=\"452.0\"/><text dy=\"1em\" fill=\"#9c9c9c\" font-family=\"Monaco\" text-anchor=\"middle\" x=\"345.3125\" y=\"456.0\">2008</text></g><g class=\"tick\"><line stroke=\"#eee\" stroke-width=\"1\" x1=\"385.9375\" x2=\"385.9375\" y1=\"0\" y2=\"452.0\"/><text dy=\"1em\" fill=\"#9c9c9c\" font-family=\"Monaco\" text-anchor=\"middle\" x=\"385.9375\" y=\"456.0\">2009</text></g><g class=\"tick\"><line stroke=\"#eee\" stroke-width=\"1\" x1=\"426.5625\" x2=\"426.5625\" y1=\"0\" y2=\"452.0\"/><text dy=\"1em\" fill=\"#9c9c9c\" font-family=\"Monaco\" text-anchor=\"middle\" x=\"426.5625\" y=\"456.0\">2010</text></g><g class=\"tick\"><line stroke=\"#eee\" stroke-width=\"1\" x1=\"467.1875\" x2=\"467.1875\" y1=\"0\" y2=\"452.0\"/><text dy=\"1em\" fill=\"#9c9c9c\" font-family=\"Monaco\" text-anchor=\"middle\" x=\"467.1875\" y=\"456.0\">2011</text></g><g class=\"tick\"><line stroke=\"#eee\" stroke-width=\"1\" x1=\"507.8125\" x2=\"507.8125\" y1=\"0\" y2=\"452.0\"/><text dy=\"1em\" fill=\"#9c9c9c\" font-family=\"Monaco\" text-anchor=\"middle\" x=\"507.8125\" y=\"456.0\">2012</text></g><g class=\"tick\"><line stroke=\"#eee\" stroke-width=\"1\" x1=\"548.4375\" x2=\"548.4375\" y1=\"0\" y2=\"452.0\"/><text dy=\"1em\" fill=\"#9c9c9c\" font-family=\"Monaco\" text-anchor=\"middle\" x=\"548.4375\" y=\"456.0\">2013</text></g><g class=\"tick\"><line stroke=\"#eee\" stroke-width=\"1\" x1=\"589.0625\" x2=\"589.0625\" y1=\"0\" y2=\"452.0\"/><text dy=\"1em\" fill=\"#9c9c9c\" font-family=\"Monaco\" text-anchor=\"middle\" x=\"589.0625\" y=\"456.0\">2014</text></g><g class=\"tick\"><line stroke=\"#eee\" stroke-width=\"1\" x1=\"629.6875\" x2=\"629.6875\" y1=\"0\" y2=\"452.0\"/><text dy=\"1em\" fill=\"#9c9c9c\" font-family=\"Monaco\" text-anchor=\"middle\" x=\"629.6875\" y=\"456.0\">2015</text></g></g><g class=\"axis left\"><text dy=\"\" fill=\"#666\" font-family=\"Monaco\" text-anchor=\"middle\" transform=\"rotate(270 -48 224)\" x=\"-48\" y=\"224.0\">count</text><g class=\"tick\"><line stroke=\"#eee\" stroke-width=\"1\" x1=\"-4\" x2=\"650.0\" y1=\"336.00\" y2=\"336.00\"/><text dy=\"0.32em\" fill=\"#9c9c9c\" font-family=\"Monaco\" text-anchor=\"end\" x=\"-8\" y=\"336.00\">250</text></g><g class=\"tick\"><line stroke=\"#eee\" stroke-width=\"1\" x1=\"-4\" x2=\"650.0\" y1=\"224.0\" y2=\"224.0\"/><text dy=\"0.32em\" fill=\"#9c9c9c\" font-family=\"Monaco\" text-anchor=\"end\" x=\"-8\" y=\"224.0\">500</text></g><g class=\"tick\"><line stroke=\"#eee\" stroke-width=\"1\" x1=\"-4\" x2=\"650.0\" y1=\"112.00\" y2=\"112.00\"/><text dy=\"0.32em\" fill=\"#9c9c9c\" font-family=\"Monaco\" text-anchor=\"end\" x=\"-8\" y=\"112.00\">750</text></g><g class=\"tick\"><line stroke=\"#eee\" stroke-width=\"1\" x1=\"-4\" x2=\"650.0\" y1=\"0\" y2=\"0\"/><text dy=\"0.32em\" fill=\"#9c9c9c\" font-family=\"Monaco\" text-anchor=\"end\" x=\"-8\" y=\"0\">1000</text></g><g class=\"tick\"><line stroke=\"#a8a8a8\" stroke-width=\"1\" x1=\"-4\" x2=\"650.0\" y1=\"448\" y2=\"448\"/><text dy=\"0.32em\" fill=\"#9c9c9c\" font-family=\"Monaco\" text-anchor=\"end\" x=\"-8\" y=\"448\">0</text></g></g><g><g class=\"series columns\"><rect fill=\"#e41a1c\" height=\"77.056\" width=\"36.56250\" x=\"2.03125\" y=\"370.944\"/><rect fill=\"#e41a1c\" height=\"63.616\" width=\"36.56250\" x=\"42.65625\" y=\"384.384\"/><rect fill=\"#e41a1c\" height=\"64.064\" width=\"36.56250\" x=\"83.28125\" y=\"383.936\"/><rect fill=\"#e41a1c\" height=\"61.824\" width=\"36.56250\" x=\"123.90625\" y=\"386.176\"/><rect fill=\"#e41a1c\" height=\"56.000\" width=\"36.56250\" x=\"164.53125\" y=\"392.000\"/><rect fill=\"#e41a1c\" height=\"47.936\" width=\"36.56250\" x=\"205.15625\" y=\"400.064\"/><rect fill=\"#e41a1c\" height=\"54.208\" width=\"36.56250\" x=\"245.78125\" y=\"393.792\"/><rect fill=\"#e41a1c\" height=\"54.208\" width=\"36.56250\" x=\"286.40625\" y=\"393.792\"/><rect fill=\"#e41a1c\" height=\"65.408\" width=\"36.56250\" x=\"327.03125\" y=\"382.592\"/><rect fill=\"#e41a1c\" height=\"65.856\" width=\"36.56250\" x=\"367.65625\" y=\"382.144\"/><rect fill=\"#e41a1c\" height=\"71.68\" width=\"36.56250\" x=\"408.28125\" y=\"376.32\"/><rect fill=\"#e41a1c\" height=\"70.336\" width=\"36.56250\" x=\"448.90625\" y=\"377.664\"/><rect fill=\"#e41a1c\" height=\"79.744\" width=\"36.56250\" x=\"489.53125\" y=\"368.256\"/><rect fill=\"#e41a1c\" height=\"80.192\" width=\"36.56250\" x=\"530.15625\" y=\"367.808\"/><rect fill=\"#e41a1c\" height=\"72.576\" width=\"36.56250\" x=\"570.78125\" y=\"375.424\"/><rect fill=\"#e41a1c\" height=\"83.776\" width=\"36.56250\" x=\"611.40625\" y=\"364.224\"/></g></g></g></g></g></g></g><g transform=\"translate(800 0)\"><g><rect fill=\"#f9f9f9\" height=\"600.0\" width=\"800.0\" x=\"0\" y=\"0\"/><g transform=\"translate(40 40)\"><g transform=\"translate(70 0)\"><text fill=\"#333\" font-family=\"Monaco\" font-size=\"16\" x=\"0\" y=\"0\">LAKE OKEECHOBEE (WEST)</text></g><g transform=\"translate(0 20)\"><g transform=\"translate(70 0)\"><g class=\"axis bottom\"><text dy=\"1em\" fill=\"#666\" font-family=\"Monaco\" text-anchor=\"middle\" transform=\"\" x=\"325.0\" y=\"486.0\">Year</text><g class=\"tick\"><line stroke=\"#eee\" stroke-width=\"1\" x1=\"20.3125\" x2=\"20.3125\" y1=\"0\" y2=\"452.0\"/><text dy=\"1em\" fill=\"#9c9c9c\" font-family=\"Monaco\" text-anchor=\"middle\" x=\"20.3125\" y=\"456.0\">2000</text></g><g class=\"tick\"><line stroke=\"#eee\" stroke-width=\"1\" x1=\"60.9375\" x2=\"60.9375\" y1=\"0\" y2=\"452.0\"/><text dy=\"1em\" fill=\"#9c9c9c\" font-family=\"Monaco\" text-anchor=\"middle\" x=\"60.9375\" y=\"456.0\">2001</text></g><g class=\"tick\"><line stroke=\"#eee\" stroke-width=\"1\" x1=\"101.5625\" x2=\"101.5625\" y1=\"0\" y2=\"452.0\"/><text dy=\"1em\" fill=\"#9c9c9c\" font-family=\"Monaco\" text-anchor=\"middle\" x=\"101.5625\" y=\"456.0\">2002</text></g><g class=\"tick\"><line stroke=\"#eee\" stroke-width=\"1\" x1=\"142.1875\" x2=\"142.1875\" y1=\"0\" y2=\"452.0\"/><text dy=\"1em\" fill=\"#9c9c9c\" font-family=\"Monaco\" text-anchor=\"middle\" x=\"142.1875\" y=\"456.0\">2003</text></g><g class=\"tick\"><line stroke=\"#eee\" stroke-width=\"1\" x1=\"182.8125\" x2=\"182.8125\" y1=\"0\" y2=\"452.0\"/><text dy=\"1em\" fill=\"#9c9c9c\" font-family=\"Monaco\" text-anchor=\"middle\" x=\"182.8125\" y=\"456.0\">2004</text></g><g class=\"tick\"><line stroke=\"#eee\" stroke-width=\"1\" x1=\"223.4375\" x2=\"223.4375\" y1=\"0\" y2=\"452.0\"/><text dy=\"1em\" fill=\"#9c9c9c\" font-family=\"Monaco\" text-anchor=\"middle\" x=\"223.4375\" y=\"456.0\">2005</text></g><g class=\"tick\"><line stroke=\"#eee\" stroke-width=\"1\" x1=\"264.0625\" x2=\"264.0625\" y1=\"0\" y2=\"452.0\"/><text dy=\"1em\" fill=\"#9c9c9c\" font-family=\"Monaco\" text-anchor=\"middle\" x=\"264.0625\" y=\"456.0\">2006</text></g><g class=\"tick\"><line stroke=\"#eee\" stroke-width=\"1\" x1=\"304.6875\" x2=\"304.6875\" y1=\"0\" y2=\"452.0\"/><text dy=\"1em\" fill=\"#9c9c9c\" font-family=\"Monaco\" text-anchor=\"middle\" x=\"304.6875\" y=\"456.0\">2007</text></g><g class=\"tick\"><line stroke=\"#eee\" stroke-width=\"1\" x1=\"345.3125\" x2=\"345.3125\" y1=\"0\" y2=\"452.0\"/><text dy=\"1em\" fill=\"#9c9c9c\" font-family=\"Monaco\" text-anchor=\"middle\" x=\"345.3125\" y=\"456.0\">2008</text></g><g class=\"tick\"><line stroke=\"#eee\" stroke-width=\"1\" x1=\"385.9375\" x2=\"385.9375\" y1=\"0\" y2=\"452.0\"/><text dy=\"1em\" fill=\"#9c9c9c\" font-family=\"Monaco\" text-anchor=\"middle\" x=\"385.9375\" y=\"456.0\">2009</text></g><g class=\"tick\"><line stroke=\"#eee\" stroke-width=\"1\" x1=\"426.5625\" x2=\"426.5625\" y1=\"0\" y2=\"452.0\"/><text dy=\"1em\" fill=\"#9c9c9c\" font-family=\"Monaco\" text-anchor=\"middle\" x=\"426.5625\" y=\"456.0\">2010</text></g><g class=\"tick\"><line stroke=\"#eee\" stroke-width=\"1\" x1=\"467.1875\" x2=\"467.1875\" y1=\"0\" y2=\"452.0\"/><text dy=\"1em\" fill=\"#9c9c9c\" font-family=\"Monaco\" text-anchor=\"middle\" x=\"467.1875\" y=\"456.0\">2011</text></g><g class=\"tick\"><line stroke=\"#eee\" stroke-width=\"1\" x1=\"507.8125\" x2=\"507.8125\" y1=\"0\" y2=\"452.0\"/><text dy=\"1em\" fill=\"#9c9c9c\" font-family=\"Monaco\" text-anchor=\"middle\" x=\"507.8125\" y=\"456.0\">2012</text></g><g class=\"tick\"><line stroke=\"#eee\" stroke-width=\"1\" x1=\"548.4375\" x2=\"548.4375\" y1=\"0\" y2=\"452.0\"/><text dy=\"1em\" fill=\"#9c9c9c\" font-family=\"Monaco\" text-anchor=\"middle\" x=\"548.4375\" y=\"456.0\">2013</text></g><g class=\"tick\"><line stroke=\"#eee\" stroke-width=\"1\" x1=\"589.0625\" x2=\"589.0625\" y1=\"0\" y2=\"452.0\"/><text dy=\"1em\" fill=\"#9c9c9c\" font-family=\"Monaco\" text-anchor=\"middle\" x=\"589.0625\" y=\"456.0\">2014</text></g><g class=\"tick\"><line stroke=\"#eee\" stroke-width=\"1\" x1=\"629.6875\" x2=\"629.6875\" y1=\"0\" y2=\"452.0\"/><text dy=\"1em\" fill=\"#9c9c9c\" font-family=\"Monaco\" text-anchor=\"middle\" x=\"629.6875\" y=\"456.0\">2015</text></g></g><g class=\"axis left\"><text dy=\"\" fill=\"#666\" font-family=\"Monaco\" text-anchor=\"middle\" transform=\"rotate(270 -48 224)\" x=\"-48\" y=\"224.0\">count</text><g class=\"tick\"><line stroke=\"#eee\" stroke-width=\"1\" x1=\"-4\" x2=\"650.0\" y1=\"336.00\" y2=\"336.00\"/><text dy=\"0.32em\" fill=\"#9c9c9c\" font-family=\"Monaco\" text-anchor=\"end\" x=\"-8\" y=\"336.00\">250</text></g><g class=\"tick\"><line stroke=\"#eee\" stroke-width=\"1\" x1=\"-4\" x2=\"650.0\" y1=\"224.0\" y2=\"224.0\"/><text dy=\"0.32em\" fill=\"#9c9c9c\" font-family=\"Monaco\" text-anchor=\"end\" x=\"-8\" y=\"224.0\">500</text></g><g class=\"tick\"><line stroke=\"#eee\" stroke-width=\"1\" x1=\"-4\" x2=\"650.0\" y1=\"112.00\" y2=\"112.00\"/><text dy=\"0.32em\" fill=\"#9c9c9c\" font-family=\"Monaco\" text-anchor=\"end\" x=\"-8\" y=\"112.00\">750</text></g><g class=\"tick\"><line stroke=\"#eee\" stroke-width=\"1\" x1=\"-4\" x2=\"650.0\" y1=\"0\" y2=\"0\"/><text dy=\"0.32em\" fill=\"#9c9c9c\" font-family=\"Monaco\" text-anchor=\"end\" x=\"-8\" y=\"0\">1000</text></g><g class=\"tick\"><line stroke=\"#a8a8a8\" stroke-width=\"1\" x1=\"-4\" x2=\"650.0\" y1=\"448\" y2=\"448\"/><text dy=\"0.32em\" fill=\"#9c9c9c\" font-family=\"Monaco\" text-anchor=\"end\" x=\"-8\" y=\"448\">0</text></g></g><g><g class=\"series columns\"><rect fill=\"#e41a1c\" height=\"202.944\" width=\"36.56250\" x=\"2.03125\" y=\"245.056\"/><rect fill=\"#e41a1c\" height=\"129.472\" width=\"36.56250\" x=\"42.65625\" y=\"318.528\"/><rect fill=\"#e41a1c\" height=\"129.92\" width=\"36.56250\" x=\"164.53125\" y=\"318.08\"/><rect fill=\"#e41a1c\" height=\"113.344\" width=\"36.56250\" x=\"205.15625\" y=\"334.656\"/><rect fill=\"#e41a1c\" height=\"201.152\" width=\"36.56250\" x=\"245.78125\" y=\"246.848\"/><rect fill=\"#e41a1c\" height=\"102.144\" width=\"36.56250\" x=\"286.40625\" y=\"345.856\"/><rect fill=\"#e41a1c\" height=\"90.048\" width=\"36.56250\" x=\"327.03125\" y=\"357.952\"/><rect fill=\"#e41a1c\" height=\"201.60\" width=\"36.56250\" x=\"367.65625\" y=\"246.40\"/><rect fill=\"#e41a1c\" height=\"206.08\" width=\"36.56250\" x=\"408.28125\" y=\"241.92\"/></g></g></g></g></g></g></g><g transform=\"translate(1600 0)\"><g><rect fill=\"#f9f9f9\" height=\"600.0\" width=\"800.0\" x=\"0\" y=\"0\"/><g transform=\"translate(40 40)\"><g transform=\"translate(70 0)\"><text fill=\"#333\" font-family=\"Monaco\" font-size=\"16\" x=\"0\" y=\"0\">LAKE OKEECHOBEE (SOUTH)</text></g><g transform=\"translate(0 20)\"><g transform=\"translate(70 0)\"><g class=\"axis bottom\"><text dy=\"1em\" fill=\"#666\" font-family=\"Monaco\" text-anchor=\"middle\" transform=\"\" x=\"325.0\" y=\"486.0\">Year</text><g class=\"tick\"><line stroke=\"#eee\" stroke-width=\"1\" x1=\"20.3125\" x2=\"20.3125\" y1=\"0\" y2=\"452.0\"/><text dy=\"1em\" fill=\"#9c9c9c\" font-family=\"Monaco\" text-anchor=\"middle\" x=\"20.3125\" y=\"456.0\">2000</text></g><g class=\"tick\"><line stroke=\"#eee\" stroke-width=\"1\" x1=\"60.9375\" x2=\"60.9375\" y1=\"0\" y2=\"452.0\"/><text dy=\"1em\" fill=\"#9c9c9c\" font-family=\"Monaco\" text-anchor=\"middle\" x=\"60.9375\" y=\"456.0\">2001</text></g><g class=\"tick\"><line stroke=\"#eee\" stroke-width=\"1\" x1=\"101.5625\" x2=\"101.5625\" y1=\"0\" y2=\"452.0\"/><text dy=\"1em\" fill=\"#9c9c9c\" font-family=\"Monaco\" text-anchor=\"middle\" x=\"101.5625\" y=\"456.0\">2002</text></g><g class=\"tick\"><line stroke=\"#eee\" stroke-width=\"1\" x1=\"142.1875\" x2=\"142.1875\" y1=\"0\" y2=\"452.0\"/><text dy=\"1em\" fill=\"#9c9c9c\" font-family=\"Monaco\" text-anchor=\"middle\" x=\"142.1875\" y=\"456.0\">2003</text></g><g class=\"tick\"><line stroke=\"#eee\" stroke-width=\"1\" x1=\"182.8125\" x2=\"182.8125\" y1=\"0\" y2=\"452.0\"/><text dy=\"1em\" fill=\"#9c9c9c\" font-family=\"Monaco\" text-anchor=\"middle\" x=\"182.8125\" y=\"456.0\">2004</text></g><g class=\"tick\"><line stroke=\"#eee\" stroke-width=\"1\" x1=\"223.4375\" x2=\"223.4375\" y1=\"0\" y2=\"452.0\"/><text dy=\"1em\" fill=\"#9c9c9c\" font-family=\"Monaco\" text-anchor=\"middle\" x=\"223.4375\" y=\"456.0\">2005</text></g><g class=\"tick\"><line stroke=\"#eee\" stroke-width=\"1\" x1=\"264.0625\" x2=\"264.0625\" y1=\"0\" y2=\"452.0\"/><text dy=\"1em\" fill=\"#9c9c9c\" font-family=\"Monaco\" text-anchor=\"middle\" x=\"264.0625\" y=\"456.0\">2006</text></g><g class=\"tick\"><line stroke=\"#eee\" stroke-width=\"1\" x1=\"304.6875\" x2=\"304.6875\" y1=\"0\" y2=\"452.0\"/><text dy=\"1em\" fill=\"#9c9c9c\" font-family=\"Monaco\" text-anchor=\"middle\" x=\"304.6875\" y=\"456.0\">2007</text></g><g class=\"tick\"><line stroke=\"#eee\" stroke-width=\"1\" x1=\"345.3125\" x2=\"345.3125\" y1=\"0\" y2=\"452.0\"/><text dy=\"1em\" fill=\"#9c9c9c\" font-family=\"Monaco\" text-anchor=\"middle\" x=\"345.3125\" y=\"456.0\">2008</text></g><g class=\"tick\"><line stroke=\"#eee\" stroke-width=\"1\" x1=\"385.9375\" x2=\"385.9375\" y1=\"0\" y2=\"452.0\"/><text dy=\"1em\" fill=\"#9c9c9c\" font-family=\"Monaco\" text-anchor=\"middle\" x=\"385.9375\" y=\"456.0\">2009</text></g><g class=\"tick\"><line stroke=\"#eee\" stroke-width=\"1\" x1=\"426.5625\" x2=\"426.5625\" y1=\"0\" y2=\"452.0\"/><text dy=\"1em\" fill=\"#9c9c9c\" font-family=\"Monaco\" text-anchor=\"middle\" x=\"426.5625\" y=\"456.0\">2010</text></g><g class=\"tick\"><line stroke=\"#eee\" stroke-width=\"1\" x1=\"467.1875\" x2=\"467.1875\" y1=\"0\" y2=\"452.0\"/><text dy=\"1em\" fill=\"#9c9c9c\" font-family=\"Monaco\" text-anchor=\"middle\" x=\"467.1875\" y=\"456.0\">2011</text></g><g class=\"tick\"><line stroke=\"#eee\" stroke-width=\"1\" x1=\"507.8125\" x2=\"507.8125\" y1=\"0\" y2=\"452.0\"/><text dy=\"1em\" fill=\"#9c9c9c\" font-family=\"Monaco\" text-anchor=\"middle\" x=\"507.8125\" y=\"456.0\">2012</text></g><g class=\"tick\"><line stroke=\"#eee\" stroke-width=\"1\" x1=\"548.4375\" x2=\"548.4375\" y1=\"0\" y2=\"452.0\"/><text dy=\"1em\" fill=\"#9c9c9c\" font-family=\"Monaco\" text-anchor=\"middle\" x=\"548.4375\" y=\"456.0\">2013</text></g><g class=\"tick\"><line stroke=\"#eee\" stroke-width=\"1\" x1=\"589.0625\" x2=\"589.0625\" y1=\"0\" y2=\"452.0\"/><text dy=\"1em\" fill=\"#9c9c9c\" font-family=\"Monaco\" text-anchor=\"middle\" x=\"589.0625\" y=\"456.0\">2014</text></g><g class=\"tick\"><line stroke=\"#eee\" stroke-width=\"1\" x1=\"629.6875\" x2=\"629.6875\" y1=\"0\" y2=\"452.0\"/><text dy=\"1em\" fill=\"#9c9c9c\" font-family=\"Monaco\" text-anchor=\"middle\" x=\"629.6875\" y=\"456.0\">2015</text></g></g><g class=\"axis left\"><text dy=\"\" fill=\"#666\" font-family=\"Monaco\" text-anchor=\"middle\" transform=\"rotate(270 -48 224)\" x=\"-48\" y=\"224.0\">count</text><g class=\"tick\"><line stroke=\"#eee\" stroke-width=\"1\" x1=\"-4\" x2=\"650.0\" y1=\"336.00\" y2=\"336.00\"/><text dy=\"0.32em\" fill=\"#9c9c9c\" font-family=\"Monaco\" text-anchor=\"end\" x=\"-8\" y=\"336.00\">250</text></g><g class=\"tick\"><line stroke=\"#eee\" stroke-width=\"1\" x1=\"-4\" x2=\"650.0\" y1=\"224.0\" y2=\"224.0\"/><text dy=\"0.32em\" fill=\"#9c9c9c\" font-family=\"Monaco\" text-anchor=\"end\" x=\"-8\" y=\"224.0\">500</text></g><g class=\"tick\"><line stroke=\"#eee\" stroke-width=\"1\" x1=\"-4\" x2=\"650.0\" y1=\"112.00\" y2=\"112.00\"/><text dy=\"0.32em\" fill=\"#9c9c9c\" font-family=\"Monaco\" text-anchor=\"end\" x=\"-8\" y=\"112.00\">750</text></g><g class=\"tick\"><line stroke=\"#eee\" stroke-width=\"1\" x1=\"-4\" x2=\"650.0\" y1=\"0\" y2=\"0\"/><text dy=\"0.32em\" fill=\"#9c9c9c\" font-family=\"Monaco\" text-anchor=\"end\" x=\"-8\" y=\"0\">1000</text></g><g class=\"tick\"><line stroke=\"#a8a8a8\" stroke-width=\"1\" x1=\"-4\" x2=\"650.0\" y1=\"448\" y2=\"448\"/><text dy=\"0.32em\" fill=\"#9c9c9c\" font-family=\"Monaco\" text-anchor=\"end\" x=\"-8\" y=\"448\">0</text></g></g><g><g class=\"series columns\"><rect fill=\"#e41a1c\" height=\"144.704\" width=\"36.56250\" x=\"2.03125\" y=\"303.296\"/><rect fill=\"#e41a1c\" height=\"68.544\" width=\"36.56250\" x=\"42.65625\" y=\"379.456\"/><rect fill=\"#e41a1c\" height=\"65.408\" width=\"36.56250\" x=\"164.53125\" y=\"382.592\"/><rect fill=\"#e41a1c\" height=\"57.344\" width=\"36.56250\" x=\"205.15625\" y=\"390.656\"/><rect fill=\"#e41a1c\" height=\"396.480\" width=\"36.56250\" x=\"245.78125\" y=\"51.520\"/><rect fill=\"#e41a1c\" height=\"192.64\" width=\"36.56250\" x=\"286.40625\" y=\"255.36\"/><rect fill=\"#e41a1c\" height=\"116.928\" width=\"36.56250\" x=\"327.03125\" y=\"331.072\"/><rect fill=\"#e41a1c\" height=\"405.440\" width=\"36.56250\" x=\"367.65625\" y=\"42.560\"/><rect fill=\"#e41a1c\" height=\"399.168\" width=\"36.56250\" x=\"408.28125\" y=\"48.832\"/></g></g></g></g></g></g></g><g transform=\"translate(2400 0)\"><g><rect fill=\"#f9f9f9\" height=\"600.0\" width=\"800.0\" x=\"0\" y=\"0\"/><g transform=\"translate(40 40)\"><g transform=\"translate(70 0)\"><text fill=\"#333\" font-family=\"Monaco\" font-size=\"16\" x=\"0\" y=\"0\">ORANGE LAKE</text></g><g transform=\"translate(0 20)\"><g transform=\"translate(70 0)\"><g class=\"axis bottom\"><text dy=\"1em\" fill=\"#666\" font-family=\"Monaco\" text-anchor=\"middle\" transform=\"\" x=\"325.0\" y=\"486.0\">Year</text><g class=\"tick\"><line stroke=\"#eee\" stroke-width=\"1\" x1=\"20.3125\" x2=\"20.3125\" y1=\"0\" y2=\"452.0\"/><text dy=\"1em\" fill=\"#9c9c9c\" font-family=\"Monaco\" text-anchor=\"middle\" x=\"20.3125\" y=\"456.0\">2000</text></g><g class=\"tick\"><line stroke=\"#eee\" stroke-width=\"1\" x1=\"60.9375\" x2=\"60.9375\" y1=\"0\" y2=\"452.0\"/><text dy=\"1em\" fill=\"#9c9c9c\" font-family=\"Monaco\" text-anchor=\"middle\" x=\"60.9375\" y=\"456.0\">2001</text></g><g class=\"tick\"><line stroke=\"#eee\" stroke-width=\"1\" x1=\"101.5625\" x2=\"101.5625\" y1=\"0\" y2=\"452.0\"/><text dy=\"1em\" fill=\"#9c9c9c\" font-family=\"Monaco\" text-anchor=\"middle\" x=\"101.5625\" y=\"456.0\">2002</text></g><g class=\"tick\"><line stroke=\"#eee\" stroke-width=\"1\" x1=\"142.1875\" x2=\"142.1875\" y1=\"0\" y2=\"452.0\"/><text dy=\"1em\" fill=\"#9c9c9c\" font-family=\"Monaco\" text-anchor=\"middle\" x=\"142.1875\" y=\"456.0\">2003</text></g><g class=\"tick\"><line stroke=\"#eee\" stroke-width=\"1\" x1=\"182.8125\" x2=\"182.8125\" y1=\"0\" y2=\"452.0\"/><text dy=\"1em\" fill=\"#9c9c9c\" font-family=\"Monaco\" text-anchor=\"middle\" x=\"182.8125\" y=\"456.0\">2004</text></g><g class=\"tick\"><line stroke=\"#eee\" stroke-width=\"1\" x1=\"223.4375\" x2=\"223.4375\" y1=\"0\" y2=\"452.0\"/><text dy=\"1em\" fill=\"#9c9c9c\" font-family=\"Monaco\" text-anchor=\"middle\" x=\"223.4375\" y=\"456.0\">2005</text></g><g class=\"tick\"><line stroke=\"#eee\" stroke-width=\"1\" x1=\"264.0625\" x2=\"264.0625\" y1=\"0\" y2=\"452.0\"/><text dy=\"1em\" fill=\"#9c9c9c\" font-family=\"Monaco\" text-anchor=\"middle\" x=\"264.0625\" y=\"456.0\">2006</text></g><g class=\"tick\"><line stroke=\"#eee\" stroke-width=\"1\" x1=\"304.6875\" x2=\"304.6875\" y1=\"0\" y2=\"452.0\"/><text dy=\"1em\" fill=\"#9c9c9c\" font-family=\"Monaco\" text-anchor=\"middle\" x=\"304.6875\" y=\"456.0\">2007</text></g><g class=\"tick\"><line stroke=\"#eee\" stroke-width=\"1\" x1=\"345.3125\" x2=\"345.3125\" y1=\"0\" y2=\"452.0\"/><text dy=\"1em\" fill=\"#9c9c9c\" font-family=\"Monaco\" text-anchor=\"middle\" x=\"345.3125\" y=\"456.0\">2008</text></g><g class=\"tick\"><line stroke=\"#eee\" stroke-width=\"1\" x1=\"385.9375\" x2=\"385.9375\" y1=\"0\" y2=\"452.0\"/><text dy=\"1em\" fill=\"#9c9c9c\" font-family=\"Monaco\" text-anchor=\"middle\" x=\"385.9375\" y=\"456.0\">2009</text></g><g class=\"tick\"><line stroke=\"#eee\" stroke-width=\"1\" x1=\"426.5625\" x2=\"426.5625\" y1=\"0\" y2=\"452.0\"/><text dy=\"1em\" fill=\"#9c9c9c\" font-family=\"Monaco\" text-anchor=\"middle\" x=\"426.5625\" y=\"456.0\">2010</text></g><g class=\"tick\"><line stroke=\"#eee\" stroke-width=\"1\" x1=\"467.1875\" x2=\"467.1875\" y1=\"0\" y2=\"452.0\"/><text dy=\"1em\" fill=\"#9c9c9c\" font-family=\"Monaco\" text-anchor=\"middle\" x=\"467.1875\" y=\"456.0\">2011</text></g><g class=\"tick\"><line stroke=\"#eee\" stroke-width=\"1\" x1=\"507.8125\" x2=\"507.8125\" y1=\"0\" y2=\"452.0\"/><text dy=\"1em\" fill=\"#9c9c9c\" font-family=\"Monaco\" text-anchor=\"middle\" x=\"507.8125\" y=\"456.0\">2012</text></g><g class=\"tick\"><line stroke=\"#eee\" stroke-width=\"1\" x1=\"548.4375\" x2=\"548.4375\" y1=\"0\" y2=\"452.0\"/><text dy=\"1em\" fill=\"#9c9c9c\" font-family=\"Monaco\" text-anchor=\"middle\" x=\"548.4375\" y=\"456.0\">2013</text></g><g class=\"tick\"><line stroke=\"#eee\" stroke-width=\"1\" x1=\"589.0625\" x2=\"589.0625\" y1=\"0\" y2=\"452.0\"/><text dy=\"1em\" fill=\"#9c9c9c\" font-family=\"Monaco\" text-anchor=\"middle\" x=\"589.0625\" y=\"456.0\">2014</text></g><g class=\"tick\"><line stroke=\"#eee\" stroke-width=\"1\" x1=\"629.6875\" x2=\"629.6875\" y1=\"0\" y2=\"452.0\"/><text dy=\"1em\" fill=\"#9c9c9c\" font-family=\"Monaco\" text-anchor=\"middle\" x=\"629.6875\" y=\"456.0\">2015</text></g></g><g class=\"axis left\"><text dy=\"\" fill=\"#666\" font-family=\"Monaco\" text-anchor=\"middle\" transform=\"rotate(270 -48 224)\" x=\"-48\" y=\"224.0\">count</text><g class=\"tick\"><line stroke=\"#eee\" stroke-width=\"1\" x1=\"-4\" x2=\"650.0\" y1=\"336.00\" y2=\"336.00\"/><text dy=\"0.32em\" fill=\"#9c9c9c\" font-family=\"Monaco\" text-anchor=\"end\" x=\"-8\" y=\"336.00\">250</text></g><g class=\"tick\"><line stroke=\"#eee\" stroke-width=\"1\" x1=\"-4\" x2=\"650.0\" y1=\"224.0\" y2=\"224.0\"/><text dy=\"0.32em\" fill=\"#9c9c9c\" font-family=\"Monaco\" text-anchor=\"end\" x=\"-8\" y=\"224.0\">500</text></g><g class=\"tick\"><line stroke=\"#eee\" stroke-width=\"1\" x1=\"-4\" x2=\"650.0\" y1=\"112.00\" y2=\"112.00\"/><text dy=\"0.32em\" fill=\"#9c9c9c\" font-family=\"Monaco\" text-anchor=\"end\" x=\"-8\" y=\"112.00\">750</text></g><g class=\"tick\"><line stroke=\"#eee\" stroke-width=\"1\" x1=\"-4\" x2=\"650.0\" y1=\"0\" y2=\"0\"/><text dy=\"0.32em\" fill=\"#9c9c9c\" font-family=\"Monaco\" text-anchor=\"end\" x=\"-8\" y=\"0\">1000</text></g><g class=\"tick\"><line stroke=\"#a8a8a8\" stroke-width=\"1\" x1=\"-4\" x2=\"650.0\" y1=\"448\" y2=\"448\"/><text dy=\"0.32em\" fill=\"#9c9c9c\" font-family=\"Monaco\" text-anchor=\"end\" x=\"-8\" y=\"448\">0</text></g></g><g><g class=\"series columns\"><rect fill=\"#e41a1c\" height=\"56.000\" width=\"36.56250\" x=\"2.03125\" y=\"392.000\"/><rect fill=\"#e41a1c\" height=\"27.776\" width=\"36.56250\" x=\"123.90625\" y=\"420.224\"/><rect fill=\"#e41a1c\" height=\"43.008\" width=\"36.56250\" x=\"164.53125\" y=\"404.992\"/><rect fill=\"#e41a1c\" height=\"56.896\" width=\"36.56250\" x=\"205.15625\" y=\"391.104\"/><rect fill=\"#e41a1c\" height=\"150.976\" width=\"36.56250\" x=\"245.78125\" y=\"297.024\"/><rect fill=\"#e41a1c\" height=\"130.816\" width=\"36.56250\" x=\"286.40625\" y=\"317.184\"/><rect fill=\"#e41a1c\" height=\"182.336\" width=\"36.56250\" x=\"327.03125\" y=\"265.664\"/><rect fill=\"#e41a1c\" height=\"199.808\" width=\"36.56250\" x=\"367.65625\" y=\"248.192\"/><rect fill=\"#e41a1c\" height=\"179.2\" width=\"36.56250\" x=\"408.28125\" y=\"268.8\"/><rect fill=\"#e41a1c\" height=\"217.280\" width=\"36.56250\" x=\"448.90625\" y=\"230.720\"/><rect fill=\"#e41a1c\" height=\"49.28\" width=\"36.56250\" x=\"530.15625\" y=\"398.72\"/><rect fill=\"#e41a1c\" height=\"63.168\" width=\"36.56250\" x=\"570.78125\" y=\"384.832\"/><rect fill=\"#e41a1c\" height=\"36.736\" width=\"36.56250\" x=\"611.40625\" y=\"411.264\"/></g></g></g></g></g></g></g><g transform=\"translate(0 600)\"><g><rect fill=\"#f9f9f9\" height=\"600.0\" width=\"800.0\" x=\"0\" y=\"0\"/><g transform=\"translate(40 40)\"><g transform=\"translate(70 0)\"><text fill=\"#333\" font-family=\"Monaco\" font-size=\"16\" x=\"0\" y=\"0\">LAKE GEORGE</text></g><g transform=\"translate(0 20)\"><g transform=\"translate(70 0)\"><g class=\"axis bottom\"><text dy=\"1em\" fill=\"#666\" font-family=\"Monaco\" text-anchor=\"middle\" transform=\"\" x=\"325.0\" y=\"486.0\">Year</text><g class=\"tick\"><line stroke=\"#eee\" stroke-width=\"1\" x1=\"20.3125\" x2=\"20.3125\" y1=\"0\" y2=\"452.0\"/><text dy=\"1em\" fill=\"#9c9c9c\" font-family=\"Monaco\" text-anchor=\"middle\" x=\"20.3125\" y=\"456.0\">2000</text></g><g class=\"tick\"><line stroke=\"#eee\" stroke-width=\"1\" x1=\"60.9375\" x2=\"60.9375\" y1=\"0\" y2=\"452.0\"/><text dy=\"1em\" fill=\"#9c9c9c\" font-family=\"Monaco\" text-anchor=\"middle\" x=\"60.9375\" y=\"456.0\">2001</text></g><g class=\"tick\"><line stroke=\"#eee\" stroke-width=\"1\" x1=\"101.5625\" x2=\"101.5625\" y1=\"0\" y2=\"452.0\"/><text dy=\"1em\" fill=\"#9c9c9c\" font-family=\"Monaco\" text-anchor=\"middle\" x=\"101.5625\" y=\"456.0\">2002</text></g><g class=\"tick\"><line stroke=\"#eee\" stroke-width=\"1\" x1=\"142.1875\" x2=\"142.1875\" y1=\"0\" y2=\"452.0\"/><text dy=\"1em\" fill=\"#9c9c9c\" font-family=\"Monaco\" text-anchor=\"middle\" x=\"142.1875\" y=\"456.0\">2003</text></g><g class=\"tick\"><line stroke=\"#eee\" stroke-width=\"1\" x1=\"182.8125\" x2=\"182.8125\" y1=\"0\" y2=\"452.0\"/><text dy=\"1em\" fill=\"#9c9c9c\" font-family=\"Monaco\" text-anchor=\"middle\" x=\"182.8125\" y=\"456.0\">2004</text></g><g class=\"tick\"><line stroke=\"#eee\" stroke-width=\"1\" x1=\"223.4375\" x2=\"223.4375\" y1=\"0\" y2=\"452.0\"/><text dy=\"1em\" fill=\"#9c9c9c\" font-family=\"Monaco\" text-anchor=\"middle\" x=\"223.4375\" y=\"456.0\">2005</text></g><g class=\"tick\"><line stroke=\"#eee\" stroke-width=\"1\" x1=\"264.0625\" x2=\"264.0625\" y1=\"0\" y2=\"452.0\"/><text dy=\"1em\" fill=\"#9c9c9c\" font-family=\"Monaco\" text-anchor=\"middle\" x=\"264.0625\" y=\"456.0\">2006</text></g><g class=\"tick\"><line stroke=\"#eee\" stroke-width=\"1\" x1=\"304.6875\" x2=\"304.6875\" y1=\"0\" y2=\"452.0\"/><text dy=\"1em\" fill=\"#9c9c9c\" font-family=\"Monaco\" text-anchor=\"middle\" x=\"304.6875\" y=\"456.0\">2007</text></g><g class=\"tick\"><line stroke=\"#eee\" stroke-width=\"1\" x1=\"345.3125\" x2=\"345.3125\" y1=\"0\" y2=\"452.0\"/><text dy=\"1em\" fill=\"#9c9c9c\" font-family=\"Monaco\" text-anchor=\"middle\" x=\"345.3125\" y=\"456.0\">2008</text></g><g class=\"tick\"><line stroke=\"#eee\" stroke-width=\"1\" x1=\"385.9375\" x2=\"385.9375\" y1=\"0\" y2=\"452.0\"/><text dy=\"1em\" fill=\"#9c9c9c\" font-family=\"Monaco\" text-anchor=\"middle\" x=\"385.9375\" y=\"456.0\">2009</text></g><g class=\"tick\"><line stroke=\"#eee\" stroke-width=\"1\" x1=\"426.5625\" x2=\"426.5625\" y1=\"0\" y2=\"452.0\"/><text dy=\"1em\" fill=\"#9c9c9c\" font-family=\"Monaco\" text-anchor=\"middle\" x=\"426.5625\" y=\"456.0\">2010</text></g><g class=\"tick\"><line stroke=\"#eee\" stroke-width=\"1\" x1=\"467.1875\" x2=\"467.1875\" y1=\"0\" y2=\"452.0\"/><text dy=\"1em\" fill=\"#9c9c9c\" font-family=\"Monaco\" text-anchor=\"middle\" x=\"467.1875\" y=\"456.0\">2011</text></g><g class=\"tick\"><line stroke=\"#eee\" stroke-width=\"1\" x1=\"507.8125\" x2=\"507.8125\" y1=\"0\" y2=\"452.0\"/><text dy=\"1em\" fill=\"#9c9c9c\" font-family=\"Monaco\" text-anchor=\"middle\" x=\"507.8125\" y=\"456.0\">2012</text></g><g class=\"tick\"><line stroke=\"#eee\" stroke-width=\"1\" x1=\"548.4375\" x2=\"548.4375\" y1=\"0\" y2=\"452.0\"/><text dy=\"1em\" fill=\"#9c9c9c\" font-family=\"Monaco\" text-anchor=\"middle\" x=\"548.4375\" y=\"456.0\">2013</text></g><g class=\"tick\"><line stroke=\"#eee\" stroke-width=\"1\" x1=\"589.0625\" x2=\"589.0625\" y1=\"0\" y2=\"452.0\"/><text dy=\"1em\" fill=\"#9c9c9c\" font-family=\"Monaco\" text-anchor=\"middle\" x=\"589.0625\" y=\"456.0\">2014</text></g><g class=\"tick\"><line stroke=\"#eee\" stroke-width=\"1\" x1=\"629.6875\" x2=\"629.6875\" y1=\"0\" y2=\"452.0\"/><text dy=\"1em\" fill=\"#9c9c9c\" font-family=\"Monaco\" text-anchor=\"middle\" x=\"629.6875\" y=\"456.0\">2015</text></g></g><g class=\"axis left\"><text dy=\"\" fill=\"#666\" font-family=\"Monaco\" text-anchor=\"middle\" transform=\"rotate(270 -48 224)\" x=\"-48\" y=\"224.0\">count</text><g class=\"tick\"><line stroke=\"#eee\" stroke-width=\"1\" x1=\"-4\" x2=\"650.0\" y1=\"336.00\" y2=\"336.00\"/><text dy=\"0.32em\" fill=\"#9c9c9c\" font-family=\"Monaco\" text-anchor=\"end\" x=\"-8\" y=\"336.00\">250</text></g><g class=\"tick\"><line stroke=\"#eee\" stroke-width=\"1\" x1=\"-4\" x2=\"650.0\" y1=\"224.0\" y2=\"224.0\"/><text dy=\"0.32em\" fill=\"#9c9c9c\" font-family=\"Monaco\" text-anchor=\"end\" x=\"-8\" y=\"224.0\">500</text></g><g class=\"tick\"><line stroke=\"#eee\" stroke-width=\"1\" x1=\"-4\" x2=\"650.0\" y1=\"112.00\" y2=\"112.00\"/><text dy=\"0.32em\" fill=\"#9c9c9c\" font-family=\"Monaco\" text-anchor=\"end\" x=\"-8\" y=\"112.00\">750</text></g><g class=\"tick\"><line stroke=\"#eee\" stroke-width=\"1\" x1=\"-4\" x2=\"650.0\" y1=\"0\" y2=\"0\"/><text dy=\"0.32em\" fill=\"#9c9c9c\" font-family=\"Monaco\" text-anchor=\"end\" x=\"-8\" y=\"0\">1000</text></g><g class=\"tick\"><line stroke=\"#a8a8a8\" stroke-width=\"1\" x1=\"-4\" x2=\"650.0\" y1=\"448\" y2=\"448\"/><text dy=\"0.32em\" fill=\"#9c9c9c\" font-family=\"Monaco\" text-anchor=\"end\" x=\"-8\" y=\"448\">0</text></g></g><g><g class=\"series columns\"><rect fill=\"#e41a1c\" height=\"26.88\" width=\"36.56250\" x=\"2.03125\" y=\"421.12\"/><rect fill=\"#e41a1c\" height=\"39.872\" width=\"36.56250\" x=\"42.65625\" y=\"408.128\"/><rect fill=\"#e41a1c\" height=\"32.256\" width=\"36.56250\" x=\"83.28125\" y=\"415.744\"/><rect fill=\"#e41a1c\" height=\"35.392\" width=\"36.56250\" x=\"123.90625\" y=\"412.608\"/><rect fill=\"#e41a1c\" height=\"64.512\" width=\"36.56250\" x=\"164.53125\" y=\"383.488\"/><rect fill=\"#e41a1c\" height=\"53.76\" width=\"36.56250\" x=\"205.15625\" y=\"394.24\"/><rect fill=\"#e41a1c\" height=\"90.048\" width=\"36.56250\" x=\"245.78125\" y=\"357.952\"/><rect fill=\"#e41a1c\" height=\"73.024\" width=\"36.56250\" x=\"286.40625\" y=\"374.976\"/><rect fill=\"#e41a1c\" height=\"65.408\" width=\"36.56250\" x=\"327.03125\" y=\"382.592\"/><rect fill=\"#e41a1c\" height=\"63.168\" width=\"36.56250\" x=\"367.65625\" y=\"384.832\"/><rect fill=\"#e41a1c\" height=\"69.440\" width=\"36.56250\" x=\"408.28125\" y=\"378.560\"/><rect fill=\"#e41a1c\" height=\"86.016\" width=\"36.56250\" x=\"448.90625\" y=\"361.984\"/><rect fill=\"#e41a1c\" height=\"42.112\" width=\"36.56250\" x=\"489.53125\" y=\"405.888\"/><rect fill=\"#e41a1c\" height=\"52.864\" width=\"36.56250\" x=\"530.15625\" y=\"395.136\"/><rect fill=\"#e41a1c\" height=\"52.416\" width=\"36.56250\" x=\"570.78125\" y=\"395.584\"/><rect fill=\"#e41a1c\" height=\"56.896\" width=\"36.56250\" x=\"611.40625\" y=\"391.104\"/></g></g></g></g></g></g></g><g transform=\"translate(800 600)\"><g><rect fill=\"#f9f9f9\" height=\"600.0\" width=\"800.0\" x=\"0\" y=\"0\"/><g transform=\"translate(40 40)\"><g transform=\"translate(70 0)\"><text fill=\"#333\" font-family=\"Monaco\" font-size=\"16\" x=\"0\" y=\"0\">KISSIMMEE RIVER</text></g><g transform=\"translate(0 20)\"><g transform=\"translate(70 0)\"><g class=\"axis bottom\"><text dy=\"1em\" fill=\"#666\" font-family=\"Monaco\" text-anchor=\"middle\" transform=\"\" x=\"325.0\" y=\"486.0\">Year</text><g class=\"tick\"><line stroke=\"#eee\" stroke-width=\"1\" x1=\"20.3125\" x2=\"20.3125\" y1=\"0\" y2=\"452.0\"/><text dy=\"1em\" fill=\"#9c9c9c\" font-family=\"Monaco\" text-anchor=\"middle\" x=\"20.3125\" y=\"456.0\">2000</text></g><g class=\"tick\"><line stroke=\"#eee\" stroke-width=\"1\" x1=\"60.9375\" x2=\"60.9375\" y1=\"0\" y2=\"452.0\"/><text dy=\"1em\" fill=\"#9c9c9c\" font-family=\"Monaco\" text-anchor=\"middle\" x=\"60.9375\" y=\"456.0\">2001</text></g><g class=\"tick\"><line stroke=\"#eee\" stroke-width=\"1\" x1=\"101.5625\" x2=\"101.5625\" y1=\"0\" y2=\"452.0\"/><text dy=\"1em\" fill=\"#9c9c9c\" font-family=\"Monaco\" text-anchor=\"middle\" x=\"101.5625\" y=\"456.0\">2002</text></g><g class=\"tick\"><line stroke=\"#eee\" stroke-width=\"1\" x1=\"142.1875\" x2=\"142.1875\" y1=\"0\" y2=\"452.0\"/><text dy=\"1em\" fill=\"#9c9c9c\" font-family=\"Monaco\" text-anchor=\"middle\" x=\"142.1875\" y=\"456.0\">2003</text></g><g class=\"tick\"><line stroke=\"#eee\" stroke-width=\"1\" x1=\"182.8125\" x2=\"182.8125\" y1=\"0\" y2=\"452.0\"/><text dy=\"1em\" fill=\"#9c9c9c\" font-family=\"Monaco\" text-anchor=\"middle\" x=\"182.8125\" y=\"456.0\">2004</text></g><g class=\"tick\"><line stroke=\"#eee\" stroke-width=\"1\" x1=\"223.4375\" x2=\"223.4375\" y1=\"0\" y2=\"452.0\"/><text dy=\"1em\" fill=\"#9c9c9c\" font-family=\"Monaco\" text-anchor=\"middle\" x=\"223.4375\" y=\"456.0\">2005</text></g><g class=\"tick\"><line stroke=\"#eee\" stroke-width=\"1\" x1=\"264.0625\" x2=\"264.0625\" y1=\"0\" y2=\"452.0\"/><text dy=\"1em\" fill=\"#9c9c9c\" font-family=\"Monaco\" text-anchor=\"middle\" x=\"264.0625\" y=\"456.0\">2006</text></g><g class=\"tick\"><line stroke=\"#eee\" stroke-width=\"1\" x1=\"304.6875\" x2=\"304.6875\" y1=\"0\" y2=\"452.0\"/><text dy=\"1em\" fill=\"#9c9c9c\" font-family=\"Monaco\" text-anchor=\"middle\" x=\"304.6875\" y=\"456.0\">2007</text></g><g class=\"tick\"><line stroke=\"#eee\" stroke-width=\"1\" x1=\"345.3125\" x2=\"345.3125\" y1=\"0\" y2=\"452.0\"/><text dy=\"1em\" fill=\"#9c9c9c\" font-family=\"Monaco\" text-anchor=\"middle\" x=\"345.3125\" y=\"456.0\">2008</text></g><g class=\"tick\"><line stroke=\"#eee\" stroke-width=\"1\" x1=\"385.9375\" x2=\"385.9375\" y1=\"0\" y2=\"452.0\"/><text dy=\"1em\" fill=\"#9c9c9c\" font-family=\"Monaco\" text-anchor=\"middle\" x=\"385.9375\" y=\"456.0\">2009</text></g><g class=\"tick\"><line stroke=\"#eee\" stroke-width=\"1\" x1=\"426.5625\" x2=\"426.5625\" y1=\"0\" y2=\"452.0\"/><text dy=\"1em\" fill=\"#9c9c9c\" font-family=\"Monaco\" text-anchor=\"middle\" x=\"426.5625\" y=\"456.0\">2010</text></g><g class=\"tick\"><line stroke=\"#eee\" stroke-width=\"1\" x1=\"467.1875\" x2=\"467.1875\" y1=\"0\" y2=\"452.0\"/><text dy=\"1em\" fill=\"#9c9c9c\" font-family=\"Monaco\" text-anchor=\"middle\" x=\"467.1875\" y=\"456.0\">2011</text></g><g class=\"tick\"><line stroke=\"#eee\" stroke-width=\"1\" x1=\"507.8125\" x2=\"507.8125\" y1=\"0\" y2=\"452.0\"/><text dy=\"1em\" fill=\"#9c9c9c\" font-family=\"Monaco\" text-anchor=\"middle\" x=\"507.8125\" y=\"456.0\">2012</text></g><g class=\"tick\"><line stroke=\"#eee\" stroke-width=\"1\" x1=\"548.4375\" x2=\"548.4375\" y1=\"0\" y2=\"452.0\"/><text dy=\"1em\" fill=\"#9c9c9c\" font-family=\"Monaco\" text-anchor=\"middle\" x=\"548.4375\" y=\"456.0\">2013</text></g><g class=\"tick\"><line stroke=\"#eee\" stroke-width=\"1\" x1=\"589.0625\" x2=\"589.0625\" y1=\"0\" y2=\"452.0\"/><text dy=\"1em\" fill=\"#9c9c9c\" font-family=\"Monaco\" text-anchor=\"middle\" x=\"589.0625\" y=\"456.0\">2014</text></g><g class=\"tick\"><line stroke=\"#eee\" stroke-width=\"1\" x1=\"629.6875\" x2=\"629.6875\" y1=\"0\" y2=\"452.0\"/><text dy=\"1em\" fill=\"#9c9c9c\" font-family=\"Monaco\" text-anchor=\"middle\" x=\"629.6875\" y=\"456.0\">2015</text></g></g><g class=\"axis left\"><text dy=\"\" fill=\"#666\" font-family=\"Monaco\" text-anchor=\"middle\" transform=\"rotate(270 -48 224)\" x=\"-48\" y=\"224.0\">count</text><g class=\"tick\"><line stroke=\"#eee\" stroke-width=\"1\" x1=\"-4\" x2=\"650.0\" y1=\"336.00\" y2=\"336.00\"/><text dy=\"0.32em\" fill=\"#9c9c9c\" font-family=\"Monaco\" text-anchor=\"end\" x=\"-8\" y=\"336.00\">250</text></g><g class=\"tick\"><line stroke=\"#eee\" stroke-width=\"1\" x1=\"-4\" x2=\"650.0\" y1=\"224.0\" y2=\"224.0\"/><text dy=\"0.32em\" fill=\"#9c9c9c\" font-family=\"Monaco\" text-anchor=\"end\" x=\"-8\" y=\"224.0\">500</text></g><g class=\"tick\"><line stroke=\"#eee\" stroke-width=\"1\" x1=\"-4\" x2=\"650.0\" y1=\"112.00\" y2=\"112.00\"/><text dy=\"0.32em\" fill=\"#9c9c9c\" font-family=\"Monaco\" text-anchor=\"end\" x=\"-8\" y=\"112.00\">750</text></g><g class=\"tick\"><line stroke=\"#eee\" stroke-width=\"1\" x1=\"-4\" x2=\"650.0\" y1=\"0\" y2=\"0\"/><text dy=\"0.32em\" fill=\"#9c9c9c\" font-family=\"Monaco\" text-anchor=\"end\" x=\"-8\" y=\"0\">1000</text></g><g class=\"tick\"><line stroke=\"#a8a8a8\" stroke-width=\"1\" x1=\"-4\" x2=\"650.0\" y1=\"448\" y2=\"448\"/><text dy=\"0.32em\" fill=\"#9c9c9c\" font-family=\"Monaco\" text-anchor=\"end\" x=\"-8\" y=\"448\">0</text></g></g><g><g class=\"series columns\"><rect fill=\"#e41a1c\" height=\"14.784\" width=\"36.56250\" x=\"42.65625\" y=\"433.216\"/><rect fill=\"#e41a1c\" height=\"27.776\" width=\"36.56250\" x=\"83.28125\" y=\"420.224\"/><rect fill=\"#e41a1c\" height=\"25.088\" width=\"36.56250\" x=\"123.90625\" y=\"422.912\"/><rect fill=\"#e41a1c\" height=\"15.680\" width=\"36.56250\" x=\"164.53125\" y=\"432.320\"/><rect fill=\"#e41a1c\" height=\"36.736\" width=\"36.56250\" x=\"205.15625\" y=\"411.264\"/><rect fill=\"#e41a1c\" height=\"49.28\" width=\"36.56250\" x=\"245.78125\" y=\"398.72\"/><rect fill=\"#e41a1c\" height=\"114.240\" width=\"36.56250\" x=\"286.40625\" y=\"333.760\"/><rect fill=\"#e41a1c\" height=\"215.488\" width=\"36.56250\" x=\"327.03125\" y=\"232.512\"/><rect fill=\"#e41a1c\" height=\"201.60\" width=\"36.56250\" x=\"367.65625\" y=\"246.40\"/><rect fill=\"#e41a1c\" height=\"252.672\" width=\"36.56250\" x=\"408.28125\" y=\"195.328\"/><rect fill=\"#e41a1c\" height=\"41.664\" width=\"36.56250\" x=\"448.90625\" y=\"406.336\"/><rect fill=\"#e41a1c\" height=\"104.832\" width=\"36.56250\" x=\"489.53125\" y=\"343.168\"/><rect fill=\"#e41a1c\" height=\"107.52\" width=\"36.56250\" x=\"530.15625\" y=\"340.48\"/><rect fill=\"#e41a1c\" height=\"57.344\" width=\"36.56250\" x=\"570.78125\" y=\"390.656\"/><rect fill=\"#e41a1c\" height=\"69.440\" width=\"36.56250\" x=\"611.40625\" y=\"378.560\"/></g></g></g></g></g></g></g><g transform=\"translate(1600 600)\"><g><rect fill=\"#f9f9f9\" height=\"600.0\" width=\"800.0\" x=\"0\" y=\"0\"/><g transform=\"translate(40 40)\"><g transform=\"translate(70 0)\"><text fill=\"#333\" font-family=\"Monaco\" font-size=\"16\" x=\"0\" y=\"0\">ST. JOHNS RIVER (LAKE HELL N' BLAZES)</text></g><g transform=\"translate(0 20)\"><g transform=\"translate(70 0)\"><g class=\"axis bottom\"><text dy=\"1em\" fill=\"#666\" font-family=\"Monaco\" text-anchor=\"middle\" transform=\"\" x=\"325.0\" y=\"486.0\">Year</text><g class=\"tick\"><line stroke=\"#eee\" stroke-width=\"1\" x1=\"20.3125\" x2=\"20.3125\" y1=\"0\" y2=\"452.0\"/><text dy=\"1em\" fill=\"#9c9c9c\" font-family=\"Monaco\" text-anchor=\"middle\" x=\"20.3125\" y=\"456.0\">2000</text></g><g class=\"tick\"><line stroke=\"#eee\" stroke-width=\"1\" x1=\"60.9375\" x2=\"60.9375\" y1=\"0\" y2=\"452.0\"/><text dy=\"1em\" fill=\"#9c9c9c\" font-family=\"Monaco\" text-anchor=\"middle\" x=\"60.9375\" y=\"456.0\">2001</text></g><g class=\"tick\"><line stroke=\"#eee\" stroke-width=\"1\" x1=\"101.5625\" x2=\"101.5625\" y1=\"0\" y2=\"452.0\"/><text dy=\"1em\" fill=\"#9c9c9c\" font-family=\"Monaco\" text-anchor=\"middle\" x=\"101.5625\" y=\"456.0\">2002</text></g><g class=\"tick\"><line stroke=\"#eee\" stroke-width=\"1\" x1=\"142.1875\" x2=\"142.1875\" y1=\"0\" y2=\"452.0\"/><text dy=\"1em\" fill=\"#9c9c9c\" font-family=\"Monaco\" text-anchor=\"middle\" x=\"142.1875\" y=\"456.0\">2003</text></g><g class=\"tick\"><line stroke=\"#eee\" stroke-width=\"1\" x1=\"182.8125\" x2=\"182.8125\" y1=\"0\" y2=\"452.0\"/><text dy=\"1em\" fill=\"#9c9c9c\" font-family=\"Monaco\" text-anchor=\"middle\" x=\"182.8125\" y=\"456.0\">2004</text></g><g class=\"tick\"><line stroke=\"#eee\" stroke-width=\"1\" x1=\"223.4375\" x2=\"223.4375\" y1=\"0\" y2=\"452.0\"/><text dy=\"1em\" fill=\"#9c9c9c\" font-family=\"Monaco\" text-anchor=\"middle\" x=\"223.4375\" y=\"456.0\">2005</text></g><g class=\"tick\"><line stroke=\"#eee\" stroke-width=\"1\" x1=\"264.0625\" x2=\"264.0625\" y1=\"0\" y2=\"452.0\"/><text dy=\"1em\" fill=\"#9c9c9c\" font-family=\"Monaco\" text-anchor=\"middle\" x=\"264.0625\" y=\"456.0\">2006</text></g><g class=\"tick\"><line stroke=\"#eee\" stroke-width=\"1\" x1=\"304.6875\" x2=\"304.6875\" y1=\"0\" y2=\"452.0\"/><text dy=\"1em\" fill=\"#9c9c9c\" font-family=\"Monaco\" text-anchor=\"middle\" x=\"304.6875\" y=\"456.0\">2007</text></g><g class=\"tick\"><line stroke=\"#eee\" stroke-width=\"1\" x1=\"345.3125\" x2=\"345.3125\" y1=\"0\" y2=\"452.0\"/><text dy=\"1em\" fill=\"#9c9c9c\" font-family=\"Monaco\" text-anchor=\"middle\" x=\"345.3125\" y=\"456.0\">2008</text></g><g class=\"tick\"><line stroke=\"#eee\" stroke-width=\"1\" x1=\"385.9375\" x2=\"385.9375\" y1=\"0\" y2=\"452.0\"/><text dy=\"1em\" fill=\"#9c9c9c\" font-family=\"Monaco\" text-anchor=\"middle\" x=\"385.9375\" y=\"456.0\">2009</text></g><g class=\"tick\"><line stroke=\"#eee\" stroke-width=\"1\" x1=\"426.5625\" x2=\"426.5625\" y1=\"0\" y2=\"452.0\"/><text dy=\"1em\" fill=\"#9c9c9c\" font-family=\"Monaco\" text-anchor=\"middle\" x=\"426.5625\" y=\"456.0\">2010</text></g><g class=\"tick\"><line stroke=\"#eee\" stroke-width=\"1\" x1=\"467.1875\" x2=\"467.1875\" y1=\"0\" y2=\"452.0\"/><text dy=\"1em\" fill=\"#9c9c9c\" font-family=\"Monaco\" text-anchor=\"middle\" x=\"467.1875\" y=\"456.0\">2011</text></g><g class=\"tick\"><line stroke=\"#eee\" stroke-width=\"1\" x1=\"507.8125\" x2=\"507.8125\" y1=\"0\" y2=\"452.0\"/><text dy=\"1em\" fill=\"#9c9c9c\" font-family=\"Monaco\" text-anchor=\"middle\" x=\"507.8125\" y=\"456.0\">2012</text></g><g class=\"tick\"><line stroke=\"#eee\" stroke-width=\"1\" x1=\"548.4375\" x2=\"548.4375\" y1=\"0\" y2=\"452.0\"/><text dy=\"1em\" fill=\"#9c9c9c\" font-family=\"Monaco\" text-anchor=\"middle\" x=\"548.4375\" y=\"456.0\">2013</text></g><g class=\"tick\"><line stroke=\"#eee\" stroke-width=\"1\" x1=\"589.0625\" x2=\"589.0625\" y1=\"0\" y2=\"452.0\"/><text dy=\"1em\" fill=\"#9c9c9c\" font-family=\"Monaco\" text-anchor=\"middle\" x=\"589.0625\" y=\"456.0\">2014</text></g><g class=\"tick\"><line stroke=\"#eee\" stroke-width=\"1\" x1=\"629.6875\" x2=\"629.6875\" y1=\"0\" y2=\"452.0\"/><text dy=\"1em\" fill=\"#9c9c9c\" font-family=\"Monaco\" text-anchor=\"middle\" x=\"629.6875\" y=\"456.0\">2015</text></g></g><g class=\"axis left\"><text dy=\"\" fill=\"#666\" font-family=\"Monaco\" text-anchor=\"middle\" transform=\"rotate(270 -48 224)\" x=\"-48\" y=\"224.0\">count</text><g class=\"tick\"><line stroke=\"#eee\" stroke-width=\"1\" x1=\"-4\" x2=\"650.0\" y1=\"336.00\" y2=\"336.00\"/><text dy=\"0.32em\" fill=\"#9c9c9c\" font-family=\"Monaco\" text-anchor=\"end\" x=\"-8\" y=\"336.00\">250</text></g><g class=\"tick\"><line stroke=\"#eee\" stroke-width=\"1\" x1=\"-4\" x2=\"650.0\" y1=\"224.0\" y2=\"224.0\"/><text dy=\"0.32em\" fill=\"#9c9c9c\" font-family=\"Monaco\" text-anchor=\"end\" x=\"-8\" y=\"224.0\">500</text></g><g class=\"tick\"><line stroke=\"#eee\" stroke-width=\"1\" x1=\"-4\" x2=\"650.0\" y1=\"112.00\" y2=\"112.00\"/><text dy=\"0.32em\" fill=\"#9c9c9c\" font-family=\"Monaco\" text-anchor=\"end\" x=\"-8\" y=\"112.00\">750</text></g><g class=\"tick\"><line stroke=\"#eee\" stroke-width=\"1\" x1=\"-4\" x2=\"650.0\" y1=\"0\" y2=\"0\"/><text dy=\"0.32em\" fill=\"#9c9c9c\" font-family=\"Monaco\" text-anchor=\"end\" x=\"-8\" y=\"0\">1000</text></g><g class=\"tick\"><line stroke=\"#a8a8a8\" stroke-width=\"1\" x1=\"-4\" x2=\"650.0\" y1=\"448\" y2=\"448\"/><text dy=\"0.32em\" fill=\"#9c9c9c\" font-family=\"Monaco\" text-anchor=\"end\" x=\"-8\" y=\"448\">0</text></g></g><g><g class=\"series columns\"><rect fill=\"#e41a1c\" height=\"53.76\" width=\"36.56250\" x=\"42.65625\" y=\"394.24\"/><rect fill=\"#e41a1c\" height=\"44.8\" width=\"36.56250\" x=\"83.28125\" y=\"403.2\"/><rect fill=\"#e41a1c\" height=\"48.384\" width=\"36.56250\" x=\"123.90625\" y=\"399.616\"/><rect fill=\"#e41a1c\" height=\"33.152\" width=\"36.56250\" x=\"164.53125\" y=\"414.848\"/><rect fill=\"#e41a1c\" height=\"50.176\" width=\"36.56250\" x=\"205.15625\" y=\"397.824\"/><rect fill=\"#e41a1c\" height=\"67.648\" width=\"36.56250\" x=\"245.78125\" y=\"380.352\"/><rect fill=\"#e41a1c\" height=\"103.488\" width=\"36.56250\" x=\"286.40625\" y=\"344.512\"/><rect fill=\"#e41a1c\" height=\"102.144\" width=\"36.56250\" x=\"327.03125\" y=\"345.856\"/><rect fill=\"#e41a1c\" height=\"142.912\" width=\"36.56250\" x=\"367.65625\" y=\"305.088\"/><rect fill=\"#e41a1c\" height=\"107.072\" width=\"36.56250\" x=\"408.28125\" y=\"340.928\"/><rect fill=\"#e41a1c\" height=\"77.952\" width=\"36.56250\" x=\"448.90625\" y=\"370.048\"/><rect fill=\"#e41a1c\" height=\"37.184\" width=\"36.56250\" x=\"489.53125\" y=\"410.816\"/><rect fill=\"#e41a1c\" height=\"65.408\" width=\"36.56250\" x=\"530.15625\" y=\"382.592\"/><rect fill=\"#e41a1c\" height=\"50.624\" width=\"36.56250\" x=\"570.78125\" y=\"397.376\"/><rect fill=\"#e41a1c\" height=\"43.456\" width=\"36.56250\" x=\"611.40625\" y=\"404.544\"/></g></g></g></g></g></g></g><g transform=\"translate(2400 600)\"><g><rect fill=\"#f9f9f9\" height=\"600.0\" width=\"800.0\" x=\"0\" y=\"0\"/><g transform=\"translate(40 40)\"><g transform=\"translate(70 0)\"><text fill=\"#333\" font-family=\"Monaco\" font-size=\"16\" x=\"0\" y=\"0\">ST. JOHNS RIVER (LAKE POINSETT)</text></g><g transform=\"translate(0 20)\"><g transform=\"translate(70 0)\"><g class=\"axis bottom\"><text dy=\"1em\" fill=\"#666\" font-family=\"Monaco\" text-anchor=\"middle\" transform=\"\" x=\"325.0\" y=\"486.0\">Year</text><g class=\"tick\"><line stroke=\"#eee\" stroke-width=\"1\" x1=\"20.3125\" x2=\"20.3125\" y1=\"0\" y2=\"452.0\"/><text dy=\"1em\" fill=\"#9c9c9c\" font-family=\"Monaco\" text-anchor=\"middle\" x=\"20.3125\" y=\"456.0\">2000</text></g><g class=\"tick\"><line stroke=\"#eee\" stroke-width=\"1\" x1=\"60.9375\" x2=\"60.9375\" y1=\"0\" y2=\"452.0\"/><text dy=\"1em\" fill=\"#9c9c9c\" font-family=\"Monaco\" text-anchor=\"middle\" x=\"60.9375\" y=\"456.0\">2001</text></g><g class=\"tick\"><line stroke=\"#eee\" stroke-width=\"1\" x1=\"101.5625\" x2=\"101.5625\" y1=\"0\" y2=\"452.0\"/><text dy=\"1em\" fill=\"#9c9c9c\" font-family=\"Monaco\" text-anchor=\"middle\" x=\"101.5625\" y=\"456.0\">2002</text></g><g class=\"tick\"><line stroke=\"#eee\" stroke-width=\"1\" x1=\"142.1875\" x2=\"142.1875\" y1=\"0\" y2=\"452.0\"/><text dy=\"1em\" fill=\"#9c9c9c\" font-family=\"Monaco\" text-anchor=\"middle\" x=\"142.1875\" y=\"456.0\">2003</text></g><g class=\"tick\"><line stroke=\"#eee\" stroke-width=\"1\" x1=\"182.8125\" x2=\"182.8125\" y1=\"0\" y2=\"452.0\"/><text dy=\"1em\" fill=\"#9c9c9c\" font-family=\"Monaco\" text-anchor=\"middle\" x=\"182.8125\" y=\"456.0\">2004</text></g><g class=\"tick\"><line stroke=\"#eee\" stroke-width=\"1\" x1=\"223.4375\" x2=\"223.4375\" y1=\"0\" y2=\"452.0\"/><text dy=\"1em\" fill=\"#9c9c9c\" font-family=\"Monaco\" text-anchor=\"middle\" x=\"223.4375\" y=\"456.0\">2005</text></g><g class=\"tick\"><line stroke=\"#eee\" stroke-width=\"1\" x1=\"264.0625\" x2=\"264.0625\" y1=\"0\" y2=\"452.0\"/><text dy=\"1em\" fill=\"#9c9c9c\" font-family=\"Monaco\" text-anchor=\"middle\" x=\"264.0625\" y=\"456.0\">2006</text></g><g class=\"tick\"><line stroke=\"#eee\" stroke-width=\"1\" x1=\"304.6875\" x2=\"304.6875\" y1=\"0\" y2=\"452.0\"/><text dy=\"1em\" fill=\"#9c9c9c\" font-family=\"Monaco\" text-anchor=\"middle\" x=\"304.6875\" y=\"456.0\">2007</text></g><g class=\"tick\"><line stroke=\"#eee\" stroke-width=\"1\" x1=\"345.3125\" x2=\"345.3125\" y1=\"0\" y2=\"452.0\"/><text dy=\"1em\" fill=\"#9c9c9c\" font-family=\"Monaco\" text-anchor=\"middle\" x=\"345.3125\" y=\"456.0\">2008</text></g><g class=\"tick\"><line stroke=\"#eee\" stroke-width=\"1\" x1=\"385.9375\" x2=\"385.9375\" y1=\"0\" y2=\"452.0\"/><text dy=\"1em\" fill=\"#9c9c9c\" font-family=\"Monaco\" text-anchor=\"middle\" x=\"385.9375\" y=\"456.0\">2009</text></g><g class=\"tick\"><line stroke=\"#eee\" stroke-width=\"1\" x1=\"426.5625\" x2=\"426.5625\" y1=\"0\" y2=\"452.0\"/><text dy=\"1em\" fill=\"#9c9c9c\" font-family=\"Monaco\" text-anchor=\"middle\" x=\"426.5625\" y=\"456.0\">2010</text></g><g class=\"tick\"><line stroke=\"#eee\" stroke-width=\"1\" x1=\"467.1875\" x2=\"467.1875\" y1=\"0\" y2=\"452.0\"/><text dy=\"1em\" fill=\"#9c9c9c\" font-family=\"Monaco\" text-anchor=\"middle\" x=\"467.1875\" y=\"456.0\">2011</text></g><g class=\"tick\"><line stroke=\"#eee\" stroke-width=\"1\" x1=\"507.8125\" x2=\"507.8125\" y1=\"0\" y2=\"452.0\"/><text dy=\"1em\" fill=\"#9c9c9c\" font-family=\"Monaco\" text-anchor=\"middle\" x=\"507.8125\" y=\"456.0\">2012</text></g><g class=\"tick\"><line stroke=\"#eee\" stroke-width=\"1\" x1=\"548.4375\" x2=\"548.4375\" y1=\"0\" y2=\"452.0\"/><text dy=\"1em\" fill=\"#9c9c9c\" font-family=\"Monaco\" text-anchor=\"middle\" x=\"548.4375\" y=\"456.0\">2013</text></g><g class=\"tick\"><line stroke=\"#eee\" stroke-width=\"1\" x1=\"589.0625\" x2=\"589.0625\" y1=\"0\" y2=\"452.0\"/><text dy=\"1em\" fill=\"#9c9c9c\" font-family=\"Monaco\" text-anchor=\"middle\" x=\"589.0625\" y=\"456.0\">2014</text></g><g class=\"tick\"><line stroke=\"#eee\" stroke-width=\"1\" x1=\"629.6875\" x2=\"629.6875\" y1=\"0\" y2=\"452.0\"/><text dy=\"1em\" fill=\"#9c9c9c\" font-family=\"Monaco\" text-anchor=\"middle\" x=\"629.6875\" y=\"456.0\">2015</text></g></g><g class=\"axis left\"><text dy=\"\" fill=\"#666\" font-family=\"Monaco\" text-anchor=\"middle\" transform=\"rotate(270 -48 224)\" x=\"-48\" y=\"224.0\">count</text><g class=\"tick\"><line stroke=\"#eee\" stroke-width=\"1\" x1=\"-4\" x2=\"650.0\" y1=\"336.00\" y2=\"336.00\"/><text dy=\"0.32em\" fill=\"#9c9c9c\" font-family=\"Monaco\" text-anchor=\"end\" x=\"-8\" y=\"336.00\">250</text></g><g class=\"tick\"><line stroke=\"#eee\" stroke-width=\"1\" x1=\"-4\" x2=\"650.0\" y1=\"224.0\" y2=\"224.0\"/><text dy=\"0.32em\" fill=\"#9c9c9c\" font-family=\"Monaco\" text-anchor=\"end\" x=\"-8\" y=\"224.0\">500</text></g><g class=\"tick\"><line stroke=\"#eee\" stroke-width=\"1\" x1=\"-4\" x2=\"650.0\" y1=\"112.00\" y2=\"112.00\"/><text dy=\"0.32em\" fill=\"#9c9c9c\" font-family=\"Monaco\" text-anchor=\"end\" x=\"-8\" y=\"112.00\">750</text></g><g class=\"tick\"><line stroke=\"#eee\" stroke-width=\"1\" x1=\"-4\" x2=\"650.0\" y1=\"0\" y2=\"0\"/><text dy=\"0.32em\" fill=\"#9c9c9c\" font-family=\"Monaco\" text-anchor=\"end\" x=\"-8\" y=\"0\">1000</text></g><g class=\"tick\"><line stroke=\"#a8a8a8\" stroke-width=\"1\" x1=\"-4\" x2=\"650.0\" y1=\"448\" y2=\"448\"/><text dy=\"0.32em\" fill=\"#9c9c9c\" font-family=\"Monaco\" text-anchor=\"end\" x=\"-8\" y=\"448\">0</text></g></g><g><g class=\"series columns\"><rect fill=\"#e41a1c\" height=\"60.480\" width=\"36.56250\" x=\"42.65625\" y=\"387.520\"/><rect fill=\"#e41a1c\" height=\"53.312\" width=\"36.56250\" x=\"83.28125\" y=\"394.688\"/><rect fill=\"#e41a1c\" height=\"64.064\" width=\"36.56250\" x=\"123.90625\" y=\"383.936\"/><rect fill=\"#e41a1c\" height=\"52.864\" width=\"36.56250\" x=\"164.53125\" y=\"395.136\"/><rect fill=\"#e41a1c\" height=\"81.536\" width=\"36.56250\" x=\"205.15625\" y=\"366.464\"/><rect fill=\"#e41a1c\" height=\"293.888\" width=\"36.56250\" x=\"245.78125\" y=\"154.112\"/><rect fill=\"#e41a1c\" height=\"242.816\" width=\"36.56250\" x=\"286.40625\" y=\"205.184\"/><rect fill=\"#e41a1c\" height=\"274.176\" width=\"36.56250\" x=\"327.03125\" y=\"173.824\"/><rect fill=\"#e41a1c\" height=\"330.176\" width=\"36.56250\" x=\"367.65625\" y=\"117.824\"/><rect fill=\"#e41a1c\" height=\"318.976\" width=\"36.56250\" x=\"408.28125\" y=\"129.024\"/><rect fill=\"#e41a1c\" height=\"191.744\" width=\"36.56250\" x=\"448.90625\" y=\"256.256\"/><rect fill=\"#e41a1c\" height=\"73.472\" width=\"36.56250\" x=\"489.53125\" y=\"374.528\"/><rect fill=\"#e41a1c\" height=\"78.848\" width=\"36.56250\" x=\"530.15625\" y=\"369.152\"/><rect fill=\"#e41a1c\" height=\"112.448\" width=\"36.56250\" x=\"570.78125\" y=\"335.552\"/><rect fill=\"#e41a1c\" height=\"95.424\" width=\"36.56250\" x=\"611.40625\" y=\"352.576\"/></g></g></g></g></g></g></g><g transform=\"translate(0 1200)\"><g><rect fill=\"#f9f9f9\" height=\"600.0\" width=\"800.0\" x=\"0\" y=\"0\"/><g transform=\"translate(40 40)\"><g transform=\"translate(70 0)\"><text fill=\"#333\" font-family=\"Monaco\" font-size=\"16\" x=\"0\" y=\"0\">ST. JOHNS RIVER (PUZZLE LAKE)</text></g><g transform=\"translate(0 20)\"><g transform=\"translate(70 0)\"><g class=\"axis bottom\"><text dy=\"1em\" fill=\"#666\" font-family=\"Monaco\" text-anchor=\"middle\" transform=\"\" x=\"325.0\" y=\"486.0\">Year</text><g class=\"tick\"><line stroke=\"#eee\" stroke-width=\"1\" x1=\"20.3125\" x2=\"20.3125\" y1=\"0\" y2=\"452.0\"/><text dy=\"1em\" fill=\"#9c9c9c\" font-family=\"Monaco\" text-anchor=\"middle\" x=\"20.3125\" y=\"456.0\">2000</text></g><g class=\"tick\"><line stroke=\"#eee\" stroke-width=\"1\" x1=\"60.9375\" x2=\"60.9375\" y1=\"0\" y2=\"452.0\"/><text dy=\"1em\" fill=\"#9c9c9c\" font-family=\"Monaco\" text-anchor=\"middle\" x=\"60.9375\" y=\"456.0\">2001</text></g><g class=\"tick\"><line stroke=\"#eee\" stroke-width=\"1\" x1=\"101.5625\" x2=\"101.5625\" y1=\"0\" y2=\"452.0\"/><text dy=\"1em\" fill=\"#9c9c9c\" font-family=\"Monaco\" text-anchor=\"middle\" x=\"101.5625\" y=\"456.0\">2002</text></g><g class=\"tick\"><line stroke=\"#eee\" stroke-width=\"1\" x1=\"142.1875\" x2=\"142.1875\" y1=\"0\" y2=\"452.0\"/><text dy=\"1em\" fill=\"#9c9c9c\" font-family=\"Monaco\" text-anchor=\"middle\" x=\"142.1875\" y=\"456.0\">2003</text></g><g class=\"tick\"><line stroke=\"#eee\" stroke-width=\"1\" x1=\"182.8125\" x2=\"182.8125\" y1=\"0\" y2=\"452.0\"/><text dy=\"1em\" fill=\"#9c9c9c\" font-family=\"Monaco\" text-anchor=\"middle\" x=\"182.8125\" y=\"456.0\">2004</text></g><g class=\"tick\"><line stroke=\"#eee\" stroke-width=\"1\" x1=\"223.4375\" x2=\"223.4375\" y1=\"0\" y2=\"452.0\"/><text dy=\"1em\" fill=\"#9c9c9c\" font-family=\"Monaco\" text-anchor=\"middle\" x=\"223.4375\" y=\"456.0\">2005</text></g><g class=\"tick\"><line stroke=\"#eee\" stroke-width=\"1\" x1=\"264.0625\" x2=\"264.0625\" y1=\"0\" y2=\"452.0\"/><text dy=\"1em\" fill=\"#9c9c9c\" font-family=\"Monaco\" text-anchor=\"middle\" x=\"264.0625\" y=\"456.0\">2006</text></g><g class=\"tick\"><line stroke=\"#eee\" stroke-width=\"1\" x1=\"304.6875\" x2=\"304.6875\" y1=\"0\" y2=\"452.0\"/><text dy=\"1em\" fill=\"#9c9c9c\" font-family=\"Monaco\" text-anchor=\"middle\" x=\"304.6875\" y=\"456.0\">2007</text></g><g class=\"tick\"><line stroke=\"#eee\" stroke-width=\"1\" x1=\"345.3125\" x2=\"345.3125\" y1=\"0\" y2=\"452.0\"/><text dy=\"1em\" fill=\"#9c9c9c\" font-family=\"Monaco\" text-anchor=\"middle\" x=\"345.3125\" y=\"456.0\">2008</text></g><g class=\"tick\"><line stroke=\"#eee\" stroke-width=\"1\" x1=\"385.9375\" x2=\"385.9375\" y1=\"0\" y2=\"452.0\"/><text dy=\"1em\" fill=\"#9c9c9c\" font-family=\"Monaco\" text-anchor=\"middle\" x=\"385.9375\" y=\"456.0\">2009</text></g><g class=\"tick\"><line stroke=\"#eee\" stroke-width=\"1\" x1=\"426.5625\" x2=\"426.5625\" y1=\"0\" y2=\"452.0\"/><text dy=\"1em\" fill=\"#9c9c9c\" font-family=\"Monaco\" text-anchor=\"middle\" x=\"426.5625\" y=\"456.0\">2010</text></g><g class=\"tick\"><line stroke=\"#eee\" stroke-width=\"1\" x1=\"467.1875\" x2=\"467.1875\" y1=\"0\" y2=\"452.0\"/><text dy=\"1em\" fill=\"#9c9c9c\" font-family=\"Monaco\" text-anchor=\"middle\" x=\"467.1875\" y=\"456.0\">2011</text></g><g class=\"tick\"><line stroke=\"#eee\" stroke-width=\"1\" x1=\"507.8125\" x2=\"507.8125\" y1=\"0\" y2=\"452.0\"/><text dy=\"1em\" fill=\"#9c9c9c\" font-family=\"Monaco\" text-anchor=\"middle\" x=\"507.8125\" y=\"456.0\">2012</text></g><g class=\"tick\"><line stroke=\"#eee\" stroke-width=\"1\" x1=\"548.4375\" x2=\"548.4375\" y1=\"0\" y2=\"452.0\"/><text dy=\"1em\" fill=\"#9c9c9c\" font-family=\"Monaco\" text-anchor=\"middle\" x=\"548.4375\" y=\"456.0\">2013</text></g><g class=\"tick\"><line stroke=\"#eee\" stroke-width=\"1\" x1=\"589.0625\" x2=\"589.0625\" y1=\"0\" y2=\"452.0\"/><text dy=\"1em\" fill=\"#9c9c9c\" font-family=\"Monaco\" text-anchor=\"middle\" x=\"589.0625\" y=\"456.0\">2014</text></g><g class=\"tick\"><line stroke=\"#eee\" stroke-width=\"1\" x1=\"629.6875\" x2=\"629.6875\" y1=\"0\" y2=\"452.0\"/><text dy=\"1em\" fill=\"#9c9c9c\" font-family=\"Monaco\" text-anchor=\"middle\" x=\"629.6875\" y=\"456.0\">2015</text></g></g><g class=\"axis left\"><text dy=\"\" fill=\"#666\" font-family=\"Monaco\" text-anchor=\"middle\" transform=\"rotate(270 -48 224)\" x=\"-48\" y=\"224.0\">count</text><g class=\"tick\"><line stroke=\"#eee\" stroke-width=\"1\" x1=\"-4\" x2=\"650.0\" y1=\"336.00\" y2=\"336.00\"/><text dy=\"0.32em\" fill=\"#9c9c9c\" font-family=\"Monaco\" text-anchor=\"end\" x=\"-8\" y=\"336.00\">250</text></g><g class=\"tick\"><line stroke=\"#eee\" stroke-width=\"1\" x1=\"-4\" x2=\"650.0\" y1=\"224.0\" y2=\"224.0\"/><text dy=\"0.32em\" fill=\"#9c9c9c\" font-family=\"Monaco\" text-anchor=\"end\" x=\"-8\" y=\"224.0\">500</text></g><g class=\"tick\"><line stroke=\"#eee\" stroke-width=\"1\" x1=\"-4\" x2=\"650.0\" y1=\"112.00\" y2=\"112.00\"/><text dy=\"0.32em\" fill=\"#9c9c9c\" font-family=\"Monaco\" text-anchor=\"end\" x=\"-8\" y=\"112.00\">750</text></g><g class=\"tick\"><line stroke=\"#eee\" stroke-width=\"1\" x1=\"-4\" x2=\"650.0\" y1=\"0\" y2=\"0\"/><text dy=\"0.32em\" fill=\"#9c9c9c\" font-family=\"Monaco\" text-anchor=\"end\" x=\"-8\" y=\"0\">1000</text></g><g class=\"tick\"><line stroke=\"#a8a8a8\" stroke-width=\"1\" x1=\"-4\" x2=\"650.0\" y1=\"448\" y2=\"448\"/><text dy=\"0.32em\" fill=\"#9c9c9c\" font-family=\"Monaco\" text-anchor=\"end\" x=\"-8\" y=\"448\">0</text></g></g><g><g class=\"series columns\"><rect fill=\"#e41a1c\" height=\"33.152\" width=\"36.56250\" x=\"42.65625\" y=\"414.848\"/><rect fill=\"#e41a1c\" height=\"38.080\" width=\"36.56250\" x=\"83.28125\" y=\"409.920\"/><rect fill=\"#e41a1c\" height=\"39.872\" width=\"36.56250\" x=\"123.90625\" y=\"408.128\"/><rect fill=\"#e41a1c\" height=\"38.080\" width=\"36.56250\" x=\"164.53125\" y=\"409.920\"/><rect fill=\"#e41a1c\" height=\"35.392\" width=\"36.56250\" x=\"205.15625\" y=\"412.608\"/><rect fill=\"#e41a1c\" height=\"110.208\" width=\"36.56250\" x=\"245.78125\" y=\"337.792\"/><rect fill=\"#e41a1c\" height=\"99.008\" width=\"36.56250\" x=\"286.40625\" y=\"348.992\"/><rect fill=\"#e41a1c\" height=\"92.288\" width=\"36.56250\" x=\"327.03125\" y=\"355.712\"/><rect fill=\"#e41a1c\" height=\"111.552\" width=\"36.56250\" x=\"367.65625\" y=\"336.448\"/><rect fill=\"#e41a1c\" height=\"107.968\" width=\"36.56250\" x=\"408.28125\" y=\"340.032\"/><rect fill=\"#e41a1c\" height=\"103.488\" width=\"36.56250\" x=\"448.90625\" y=\"344.512\"/><rect fill=\"#e41a1c\" height=\"69.440\" width=\"36.56250\" x=\"489.53125\" y=\"378.560\"/><rect fill=\"#e41a1c\" height=\"55.104\" width=\"36.56250\" x=\"530.15625\" y=\"392.896\"/><rect fill=\"#e41a1c\" height=\"44.8\" width=\"36.56250\" x=\"570.78125\" y=\"403.2\"/><rect fill=\"#e41a1c\" height=\"43.008\" width=\"36.56250\" x=\"611.40625\" y=\"404.992\"/></g></g></g></g></g></g></g><g transform=\"translate(800 1200)\"><g><rect fill=\"#f9f9f9\" height=\"600.0\" width=\"800.0\" x=\"0\" y=\"0\"/><g transform=\"translate(40 40)\"><g transform=\"translate(70 0)\"><text fill=\"#333\" font-family=\"Monaco\" font-size=\"16\" x=\"0\" y=\"0\">LAKE OKEECHOBEE WEST</text></g><g transform=\"translate(0 20)\"><g transform=\"translate(70 0)\"><g class=\"axis bottom\"><text dy=\"1em\" fill=\"#666\" font-family=\"Monaco\" text-anchor=\"middle\" transform=\"\" x=\"325.0\" y=\"486.0\">Year</text><g class=\"tick\"><line stroke=\"#eee\" stroke-width=\"1\" x1=\"20.3125\" x2=\"20.3125\" y1=\"0\" y2=\"452.0\"/><text dy=\"1em\" fill=\"#9c9c9c\" font-family=\"Monaco\" text-anchor=\"middle\" x=\"20.3125\" y=\"456.0\">2000</text></g><g class=\"tick\"><line stroke=\"#eee\" stroke-width=\"1\" x1=\"60.9375\" x2=\"60.9375\" y1=\"0\" y2=\"452.0\"/><text dy=\"1em\" fill=\"#9c9c9c\" font-family=\"Monaco\" text-anchor=\"middle\" x=\"60.9375\" y=\"456.0\">2001</text></g><g class=\"tick\"><line stroke=\"#eee\" stroke-width=\"1\" x1=\"101.5625\" x2=\"101.5625\" y1=\"0\" y2=\"452.0\"/><text dy=\"1em\" fill=\"#9c9c9c\" font-family=\"Monaco\" text-anchor=\"middle\" x=\"101.5625\" y=\"456.0\">2002</text></g><g class=\"tick\"><line stroke=\"#eee\" stroke-width=\"1\" x1=\"142.1875\" x2=\"142.1875\" y1=\"0\" y2=\"452.0\"/><text dy=\"1em\" fill=\"#9c9c9c\" font-family=\"Monaco\" text-anchor=\"middle\" x=\"142.1875\" y=\"456.0\">2003</text></g><g class=\"tick\"><line stroke=\"#eee\" stroke-width=\"1\" x1=\"182.8125\" x2=\"182.8125\" y1=\"0\" y2=\"452.0\"/><text dy=\"1em\" fill=\"#9c9c9c\" font-family=\"Monaco\" text-anchor=\"middle\" x=\"182.8125\" y=\"456.0\">2004</text></g><g class=\"tick\"><line stroke=\"#eee\" stroke-width=\"1\" x1=\"223.4375\" x2=\"223.4375\" y1=\"0\" y2=\"452.0\"/><text dy=\"1em\" fill=\"#9c9c9c\" font-family=\"Monaco\" text-anchor=\"middle\" x=\"223.4375\" y=\"456.0\">2005</text></g><g class=\"tick\"><line stroke=\"#eee\" stroke-width=\"1\" x1=\"264.0625\" x2=\"264.0625\" y1=\"0\" y2=\"452.0\"/><text dy=\"1em\" fill=\"#9c9c9c\" font-family=\"Monaco\" text-anchor=\"middle\" x=\"264.0625\" y=\"456.0\">2006</text></g><g class=\"tick\"><line stroke=\"#eee\" stroke-width=\"1\" x1=\"304.6875\" x2=\"304.6875\" y1=\"0\" y2=\"452.0\"/><text dy=\"1em\" fill=\"#9c9c9c\" font-family=\"Monaco\" text-anchor=\"middle\" x=\"304.6875\" y=\"456.0\">2007</text></g><g class=\"tick\"><line stroke=\"#eee\" stroke-width=\"1\" x1=\"345.3125\" x2=\"345.3125\" y1=\"0\" y2=\"452.0\"/><text dy=\"1em\" fill=\"#9c9c9c\" font-family=\"Monaco\" text-anchor=\"middle\" x=\"345.3125\" y=\"456.0\">2008</text></g><g class=\"tick\"><line stroke=\"#eee\" stroke-width=\"1\" x1=\"385.9375\" x2=\"385.9375\" y1=\"0\" y2=\"452.0\"/><text dy=\"1em\" fill=\"#9c9c9c\" font-family=\"Monaco\" text-anchor=\"middle\" x=\"385.9375\" y=\"456.0\">2009</text></g><g class=\"tick\"><line stroke=\"#eee\" stroke-width=\"1\" x1=\"426.5625\" x2=\"426.5625\" y1=\"0\" y2=\"452.0\"/><text dy=\"1em\" fill=\"#9c9c9c\" font-family=\"Monaco\" text-anchor=\"middle\" x=\"426.5625\" y=\"456.0\">2010</text></g><g class=\"tick\"><line stroke=\"#eee\" stroke-width=\"1\" x1=\"467.1875\" x2=\"467.1875\" y1=\"0\" y2=\"452.0\"/><text dy=\"1em\" fill=\"#9c9c9c\" font-family=\"Monaco\" text-anchor=\"middle\" x=\"467.1875\" y=\"456.0\">2011</text></g><g class=\"tick\"><line stroke=\"#eee\" stroke-width=\"1\" x1=\"507.8125\" x2=\"507.8125\" y1=\"0\" y2=\"452.0\"/><text dy=\"1em\" fill=\"#9c9c9c\" font-family=\"Monaco\" text-anchor=\"middle\" x=\"507.8125\" y=\"456.0\">2012</text></g><g class=\"tick\"><line stroke=\"#eee\" stroke-width=\"1\" x1=\"548.4375\" x2=\"548.4375\" y1=\"0\" y2=\"452.0\"/><text dy=\"1em\" fill=\"#9c9c9c\" font-family=\"Monaco\" text-anchor=\"middle\" x=\"548.4375\" y=\"456.0\">2013</text></g><g class=\"tick\"><line stroke=\"#eee\" stroke-width=\"1\" x1=\"589.0625\" x2=\"589.0625\" y1=\"0\" y2=\"452.0\"/><text dy=\"1em\" fill=\"#9c9c9c\" font-family=\"Monaco\" text-anchor=\"middle\" x=\"589.0625\" y=\"456.0\">2014</text></g><g class=\"tick\"><line stroke=\"#eee\" stroke-width=\"1\" x1=\"629.6875\" x2=\"629.6875\" y1=\"0\" y2=\"452.0\"/><text dy=\"1em\" fill=\"#9c9c9c\" font-family=\"Monaco\" text-anchor=\"middle\" x=\"629.6875\" y=\"456.0\">2015</text></g></g><g class=\"axis left\"><text dy=\"\" fill=\"#666\" font-family=\"Monaco\" text-anchor=\"middle\" transform=\"rotate(270 -48 224)\" x=\"-48\" y=\"224.0\">count</text><g class=\"tick\"><line stroke=\"#eee\" stroke-width=\"1\" x1=\"-4\" x2=\"650.0\" y1=\"336.00\" y2=\"336.00\"/><text dy=\"0.32em\" fill=\"#9c9c9c\" font-family=\"Monaco\" text-anchor=\"end\" x=\"-8\" y=\"336.00\">250</text></g><g class=\"tick\"><line stroke=\"#eee\" stroke-width=\"1\" x1=\"-4\" x2=\"650.0\" y1=\"224.0\" y2=\"224.0\"/><text dy=\"0.32em\" fill=\"#9c9c9c\" font-family=\"Monaco\" text-anchor=\"end\" x=\"-8\" y=\"224.0\">500</text></g><g class=\"tick\"><line stroke=\"#eee\" stroke-width=\"1\" x1=\"-4\" x2=\"650.0\" y1=\"112.00\" y2=\"112.00\"/><text dy=\"0.32em\" fill=\"#9c9c9c\" font-family=\"Monaco\" text-anchor=\"end\" x=\"-8\" y=\"112.00\">750</text></g><g class=\"tick\"><line stroke=\"#eee\" stroke-width=\"1\" x1=\"-4\" x2=\"650.0\" y1=\"0\" y2=\"0\"/><text dy=\"0.32em\" fill=\"#9c9c9c\" font-family=\"Monaco\" text-anchor=\"end\" x=\"-8\" y=\"0\">1000</text></g><g class=\"tick\"><line stroke=\"#a8a8a8\" stroke-width=\"1\" x1=\"-4\" x2=\"650.0\" y1=\"448\" y2=\"448\"/><text dy=\"0.32em\" fill=\"#9c9c9c\" font-family=\"Monaco\" text-anchor=\"end\" x=\"-8\" y=\"448\">0</text></g></g><g><g class=\"series columns\"><rect fill=\"#e41a1c\" height=\"81.088\" width=\"36.56250\" x=\"83.28125\" y=\"366.912\"/><rect fill=\"#e41a1c\" height=\"82.880\" width=\"36.56250\" x=\"123.90625\" y=\"365.120\"/><rect fill=\"#e41a1c\" height=\"202.496\" width=\"36.56250\" x=\"448.90625\" y=\"245.504\"/><rect fill=\"#e41a1c\" height=\"193.536\" width=\"36.56250\" x=\"489.53125\" y=\"254.464\"/><rect fill=\"#e41a1c\" height=\"170.688\" width=\"36.56250\" x=\"530.15625\" y=\"277.312\"/><rect fill=\"#e41a1c\" height=\"134.4\" width=\"36.56250\" x=\"570.78125\" y=\"313.6\"/><rect fill=\"#e41a1c\" height=\"87.360\" width=\"36.56250\" x=\"611.40625\" y=\"360.640\"/></g></g></g></g></g></g></g><g transform=\"translate(1600 1200)\"><g><rect fill=\"#f9f9f9\" height=\"600.0\" width=\"800.0\" x=\"0\" y=\"0\"/><g transform=\"translate(40 40)\"><g transform=\"translate(70 0)\"><text fill=\"#333\" font-family=\"Monaco\" font-size=\"16\" x=\"0\" y=\"0\">LAKE COUNTY</text></g><g transform=\"translate(0 20)\"><g transform=\"translate(70 0)\"><g class=\"axis bottom\"><text dy=\"1em\" fill=\"#666\" font-family=\"Monaco\" text-anchor=\"middle\" transform=\"\" x=\"325.0\" y=\"486.0\">Year</text><g class=\"tick\"><line stroke=\"#eee\" stroke-width=\"1\" x1=\"20.3125\" x2=\"20.3125\" y1=\"0\" y2=\"452.0\"/><text dy=\"1em\" fill=\"#9c9c9c\" font-family=\"Monaco\" text-anchor=\"middle\" x=\"20.3125\" y=\"456.0\">2000</text></g><g class=\"tick\"><line stroke=\"#eee\" stroke-width=\"1\" x1=\"60.9375\" x2=\"60.9375\" y1=\"0\" y2=\"452.0\"/><text dy=\"1em\" fill=\"#9c9c9c\" font-family=\"Monaco\" text-anchor=\"middle\" x=\"60.9375\" y=\"456.0\">2001</text></g><g class=\"tick\"><line stroke=\"#eee\" stroke-width=\"1\" x1=\"101.5625\" x2=\"101.5625\" y1=\"0\" y2=\"452.0\"/><text dy=\"1em\" fill=\"#9c9c9c\" font-family=\"Monaco\" text-anchor=\"middle\" x=\"101.5625\" y=\"456.0\">2002</text></g><g class=\"tick\"><line stroke=\"#eee\" stroke-width=\"1\" x1=\"142.1875\" x2=\"142.1875\" y1=\"0\" y2=\"452.0\"/><text dy=\"1em\" fill=\"#9c9c9c\" font-family=\"Monaco\" text-anchor=\"middle\" x=\"142.1875\" y=\"456.0\">2003</text></g><g class=\"tick\"><line stroke=\"#eee\" stroke-width=\"1\" x1=\"182.8125\" x2=\"182.8125\" y1=\"0\" y2=\"452.0\"/><text dy=\"1em\" fill=\"#9c9c9c\" font-family=\"Monaco\" text-anchor=\"middle\" x=\"182.8125\" y=\"456.0\">2004</text></g><g class=\"tick\"><line stroke=\"#eee\" stroke-width=\"1\" x1=\"223.4375\" x2=\"223.4375\" y1=\"0\" y2=\"452.0\"/><text dy=\"1em\" fill=\"#9c9c9c\" font-family=\"Monaco\" text-anchor=\"middle\" x=\"223.4375\" y=\"456.0\">2005</text></g><g class=\"tick\"><line stroke=\"#eee\" stroke-width=\"1\" x1=\"264.0625\" x2=\"264.0625\" y1=\"0\" y2=\"452.0\"/><text dy=\"1em\" fill=\"#9c9c9c\" font-family=\"Monaco\" text-anchor=\"middle\" x=\"264.0625\" y=\"456.0\">2006</text></g><g class=\"tick\"><line stroke=\"#eee\" stroke-width=\"1\" x1=\"304.6875\" x2=\"304.6875\" y1=\"0\" y2=\"452.0\"/><text dy=\"1em\" fill=\"#9c9c9c\" font-family=\"Monaco\" text-anchor=\"middle\" x=\"304.6875\" y=\"456.0\">2007</text></g><g class=\"tick\"><line stroke=\"#eee\" stroke-width=\"1\" x1=\"345.3125\" x2=\"345.3125\" y1=\"0\" y2=\"452.0\"/><text dy=\"1em\" fill=\"#9c9c9c\" font-family=\"Monaco\" text-anchor=\"middle\" x=\"345.3125\" y=\"456.0\">2008</text></g><g class=\"tick\"><line stroke=\"#eee\" stroke-width=\"1\" x1=\"385.9375\" x2=\"385.9375\" y1=\"0\" y2=\"452.0\"/><text dy=\"1em\" fill=\"#9c9c9c\" font-family=\"Monaco\" text-anchor=\"middle\" x=\"385.9375\" y=\"456.0\">2009</text></g><g class=\"tick\"><line stroke=\"#eee\" stroke-width=\"1\" x1=\"426.5625\" x2=\"426.5625\" y1=\"0\" y2=\"452.0\"/><text dy=\"1em\" fill=\"#9c9c9c\" font-family=\"Monaco\" text-anchor=\"middle\" x=\"426.5625\" y=\"456.0\">2010</text></g><g class=\"tick\"><line stroke=\"#eee\" stroke-width=\"1\" x1=\"467.1875\" x2=\"467.1875\" y1=\"0\" y2=\"452.0\"/><text dy=\"1em\" fill=\"#9c9c9c\" font-family=\"Monaco\" text-anchor=\"middle\" x=\"467.1875\" y=\"456.0\">2011</text></g><g class=\"tick\"><line stroke=\"#eee\" stroke-width=\"1\" x1=\"507.8125\" x2=\"507.8125\" y1=\"0\" y2=\"452.0\"/><text dy=\"1em\" fill=\"#9c9c9c\" font-family=\"Monaco\" text-anchor=\"middle\" x=\"507.8125\" y=\"456.0\">2012</text></g><g class=\"tick\"><line stroke=\"#eee\" stroke-width=\"1\" x1=\"548.4375\" x2=\"548.4375\" y1=\"0\" y2=\"452.0\"/><text dy=\"1em\" fill=\"#9c9c9c\" font-family=\"Monaco\" text-anchor=\"middle\" x=\"548.4375\" y=\"456.0\">2013</text></g><g class=\"tick\"><line stroke=\"#eee\" stroke-width=\"1\" x1=\"589.0625\" x2=\"589.0625\" y1=\"0\" y2=\"452.0\"/><text dy=\"1em\" fill=\"#9c9c9c\" font-family=\"Monaco\" text-anchor=\"middle\" x=\"589.0625\" y=\"456.0\">2014</text></g><g class=\"tick\"><line stroke=\"#eee\" stroke-width=\"1\" x1=\"629.6875\" x2=\"629.6875\" y1=\"0\" y2=\"452.0\"/><text dy=\"1em\" fill=\"#9c9c9c\" font-family=\"Monaco\" text-anchor=\"middle\" x=\"629.6875\" y=\"456.0\">2015</text></g></g><g class=\"axis left\"><text dy=\"\" fill=\"#666\" font-family=\"Monaco\" text-anchor=\"middle\" transform=\"rotate(270 -48 224)\" x=\"-48\" y=\"224.0\">count</text><g class=\"tick\"><line stroke=\"#eee\" stroke-width=\"1\" x1=\"-4\" x2=\"650.0\" y1=\"336.00\" y2=\"336.00\"/><text dy=\"0.32em\" fill=\"#9c9c9c\" font-family=\"Monaco\" text-anchor=\"end\" x=\"-8\" y=\"336.00\">250</text></g><g class=\"tick\"><line stroke=\"#eee\" stroke-width=\"1\" x1=\"-4\" x2=\"650.0\" y1=\"224.0\" y2=\"224.0\"/><text dy=\"0.32em\" fill=\"#9c9c9c\" font-family=\"Monaco\" text-anchor=\"end\" x=\"-8\" y=\"224.0\">500</text></g><g class=\"tick\"><line stroke=\"#eee\" stroke-width=\"1\" x1=\"-4\" x2=\"650.0\" y1=\"112.00\" y2=\"112.00\"/><text dy=\"0.32em\" fill=\"#9c9c9c\" font-family=\"Monaco\" text-anchor=\"end\" x=\"-8\" y=\"112.00\">750</text></g><g class=\"tick\"><line stroke=\"#eee\" stroke-width=\"1\" x1=\"-4\" x2=\"650.0\" y1=\"0\" y2=\"0\"/><text dy=\"0.32em\" fill=\"#9c9c9c\" font-family=\"Monaco\" text-anchor=\"end\" x=\"-8\" y=\"0\">1000</text></g><g class=\"tick\"><line stroke=\"#a8a8a8\" stroke-width=\"1\" x1=\"-4\" x2=\"650.0\" y1=\"448\" y2=\"448\"/><text dy=\"0.32em\" fill=\"#9c9c9c\" font-family=\"Monaco\" text-anchor=\"end\" x=\"-8\" y=\"448\">0</text></g></g><g><g class=\"series columns\"><rect fill=\"#e41a1c\" height=\"51.072\" width=\"36.56250\" x=\"123.90625\" y=\"396.928\"/><rect fill=\"#e41a1c\" height=\"46.144\" width=\"36.56250\" x=\"164.53125\" y=\"401.856\"/><rect fill=\"#e41a1c\" height=\"51.968\" width=\"36.56250\" x=\"205.15625\" y=\"396.032\"/><rect fill=\"#e41a1c\" height=\"54.208\" width=\"36.56250\" x=\"245.78125\" y=\"393.792\"/><rect fill=\"#e41a1c\" height=\"51.072\" width=\"36.56250\" x=\"286.40625\" y=\"396.928\"/><rect fill=\"#e41a1c\" height=\"54.208\" width=\"36.56250\" x=\"327.03125\" y=\"393.792\"/><rect fill=\"#e41a1c\" height=\"49.28\" width=\"36.56250\" x=\"367.65625\" y=\"398.72\"/><rect fill=\"#e41a1c\" height=\"42.112\" width=\"36.56250\" x=\"408.28125\" y=\"405.888\"/><rect fill=\"#e41a1c\" height=\"142.912\" width=\"36.56250\" x=\"448.90625\" y=\"305.088\"/><rect fill=\"#e41a1c\" height=\"137.984\" width=\"36.56250\" x=\"489.53125\" y=\"310.016\"/><rect fill=\"#e41a1c\" height=\"145.600\" width=\"36.56250\" x=\"530.15625\" y=\"302.400\"/><rect fill=\"#e41a1c\" height=\"146.048\" width=\"36.56250\" x=\"570.78125\" y=\"301.952\"/><rect fill=\"#e41a1c\" height=\"132.160\" width=\"36.56250\" x=\"611.40625\" y=\"315.840\"/></g></g></g></g></g></g></g></g></g></svg>"
      ],
      "text/plain": [
       "<IPython.core.display.SVG object>"
      ]
     },
     "execution_count": 18,
     "metadata": {},
     "output_type": "execute_result"
    },
    {
     "name": "stderr",
     "output_type": "stream",
     "text": [
      "/Users/cgroskopf/.pyenv/versions/3.6.0/lib/python3.6/json/encoder.py:199: DeprecationWarning: Interpreting naive datetime as local 2017-03-02 09:33:35.948007. Please add timezone info to timestamps.\n"
     ]
    }
   ],
   "source": [
    "top_areas = alligators.group_by('Area Name').having([\n",
    "    ('count', agate.Count())\n",
    "], lambda t: t['count'] > 2000)\n",
    "\n",
    "by_year = top_areas.group_by('Year')\n",
    "\n",
    "counts = by_year.aggregate([\n",
    "    ('count', agate.Count())\n",
    "])\n",
    "\n",
    "by_area = counts.group_by('Area Name')\n",
    "\n",
    "by_area.column_chart('Year', 'count')"
   ]
  },
  {
   "cell_type": "markdown",
   "metadata": {
    "collapsed": true,
    "deletable": true,
    "editable": true
   },
   "source": [
    "## Where to go next\n",
    "\n",
    "### http://agate.rtfd.io"
   ]
  },
  {
   "cell_type": "code",
   "execution_count": null,
   "metadata": {
    "collapsed": true
   },
   "outputs": [],
   "source": []
  }
 ],
 "metadata": {
  "kernelspec": {
   "display_name": "Python 3",
   "language": "python",
   "name": "python3"
  },
  "language_info": {
   "codemirror_mode": {
    "name": "ipython",
    "version": 3
   },
   "file_extension": ".py",
   "mimetype": "text/x-python",
   "name": "python",
   "nbconvert_exporter": "python",
   "pygments_lexer": "ipython3",
   "version": "3.6.0"
  }
 },
 "nbformat": 4,
 "nbformat_minor": 0
}
