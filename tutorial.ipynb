{
 "cells": [
  {
   "cell_type": "markdown",
   "metadata": {
    "deletable": true,
    "editable": true
   },
   "source": [
    "# NICAR 2017 agate hands-on    "
   ]
  },
  {
   "cell_type": "markdown",
   "metadata": {
    "deletable": true,
    "editable": true
   },
   "source": [
    "## Importing agate\n",
    "\n",
    "Let's get started!"
   ]
  },
  {
   "cell_type": "code",
   "execution_count": 1,
   "metadata": {
    "collapsed": false,
    "deletable": true,
    "editable": true
   },
   "outputs": [
    {
     "name": "stderr",
     "output_type": "stream",
     "text": [
      "/Users/cgroskopf/.pyenv/versions/3.6.0/lib/python3.6/json/encoder.py:199: DeprecationWarning: Interpreting naive datetime as local 2017-02-25 12:46:01.289629. Please add timezone info to timestamps.\n"
     ]
    }
   ],
   "source": [
    "import agate"
   ]
  },
  {
   "cell_type": "markdown",
   "metadata": {
    "deletable": true,
    "editable": true
   },
   "source": [
    "## Loading data from a CSV"
   ]
  },
  {
   "cell_type": "code",
   "execution_count": 3,
   "metadata": {
    "collapsed": false,
    "deletable": true,
    "editable": true
   },
   "outputs": [
    {
     "name": "stderr",
     "output_type": "stream",
     "text": [
      "/Users/cgroskopf/src/nicar-2017-agate/.venv/lib/python3.6/site-packages/babel/localtime/_unix.py:8: DeprecationWarning: Flags not at the start of the expression ^Time Zone: (.*)$(?m (truncated)\n",
      "/Users/cgroskopf/.pyenv/versions/3.6.0/lib/python3.6/json/encoder.py:199: DeprecationWarning: Interpreting naive datetime as local 2017-02-25 12:46:32.168775. Please add timezone info to timestamps.\n"
     ]
    }
   ],
   "source": [
    "alligators = agate.Table.from_csv('alligators.csv')"
   ]
  },
  {
   "cell_type": "markdown",
   "metadata": {
    "deletable": true,
    "editable": true
   },
   "source": [
    "## Describing and viewing the table"
   ]
  },
  {
   "cell_type": "code",
   "execution_count": 4,
   "metadata": {
    "collapsed": false,
    "deletable": true,
    "editable": true,
    "scrolled": true
   },
   "outputs": [
    {
     "name": "stdout",
     "output_type": "stream",
     "text": [
      "| column       | data_type |\n",
      "| ------------ | --------- |\n",
      "| Year         | Number    |\n",
      "| Area Number  | Number    |\n",
      "| Area Name    | Text      |\n",
      "| Carcass Size | Text      |\n",
      "| Size         | Number    |\n",
      "| Harvest Date | Date      |\n",
      "\n"
     ]
    },
    {
     "name": "stderr",
     "output_type": "stream",
     "text": [
      "/Users/cgroskopf/.pyenv/versions/3.6.0/lib/python3.6/json/encoder.py:199: DeprecationWarning: Interpreting naive datetime as local 2017-02-25 12:47:38.884812. Please add timezone info to timestamps.\n"
     ]
    }
   ],
   "source": [
    "print(alligators)"
   ]
  },
  {
   "cell_type": "code",
   "execution_count": 36,
   "metadata": {
    "collapsed": false
   },
   "outputs": [
    {
     "data": {
      "text/plain": [
       "87181"
      ]
     },
     "execution_count": 36,
     "metadata": {},
     "output_type": "execute_result"
    },
    {
     "name": "stderr",
     "output_type": "stream",
     "text": [
      "/Users/cgroskopf/.pyenv/versions/3.6.0/lib/python3.6/json/encoder.py:199: DeprecationWarning: Interpreting naive datetime as local 2017-02-25 16:32:24.223980. Please add timezone info to timestamps.\n"
     ]
    }
   ],
   "source": [
    "len(alligators)"
   ]
  },
  {
   "cell_type": "code",
   "execution_count": 35,
   "metadata": {
    "collapsed": false
   },
   "outputs": [
    {
     "name": "stdout",
     "output_type": "stream",
     "text": [
      "|  Year | Area Number | Area Name   | Carcass Size  |    Size | Harvest Date |\n",
      "| ----- | ----------- | ----------- | ------------- | ------- | ------------ |\n",
      "| 2,000 |         101 | LAKE PIERCE | 11 ft. 5 in.  | 11.417… |   2000-09-22 |\n",
      "| 2,000 |         101 | LAKE PIERCE | 9 ft. 0 in.   |  9.000… |   2000-10-02 |\n",
      "| 2,000 |         101 | LAKE PIERCE | 8 ft. 10 in.  |  8.833… |   2000-10-06 |\n",
      "| 2,000 |         101 | LAKE PIERCE | 8 ft. 0 in.   |  8.000… |   2000-09-25 |\n",
      "| 2,000 |         101 | LAKE PIERCE | 8 ft. 0 in.   |  8.000… |   2000-10-07 |\n",
      "| 2,000 |         101 | LAKE PIERCE | 8 ft. 0 in.   |  8.000… |   2000-09-22 |\n",
      "| 2,000 |         101 | LAKE PIERCE | 7 ft. 2 in.   |  7.167… |   2000-09-21 |\n",
      "| 2,000 |         101 | LAKE PIERCE | 7 ft. 1 in.   |  7.083… |   2000-09-21 |\n",
      "| 2,000 |         101 | LAKE PIERCE | 6 ft. 11 in.  |  6.917… |   2000-09-25 |\n",
      "| 2,000 |         101 | LAKE PIERCE | 6 ft. 7 in.   |  6.583… |   2000-09-25 |\n",
      "| 2,000 |         101 | LAKE PIERCE | 6 ft. 6 in.   |  6.500… |   2000-09-15 |\n",
      "| 2,000 |         101 | LAKE PIERCE | 6 ft. 3 in.   |  6.250… |   2000-10-07 |\n",
      "| 2,000 |         102 | LAKE MARIAN | 12 ft. 7 in.  | 12.583… |   2000-09-04 |\n",
      "| 2,000 |         102 | LAKE MARIAN | 12 ft. 3 in.  | 12.250… |   2000-09-10 |\n",
      "| 2,000 |         102 | LAKE MARIAN | 12 ft. 3 in.  | 12.250… |   2000-09-03 |\n",
      "| 2,000 |         102 | LAKE MARIAN | 12 ft. 2 in.  | 12.167… |   2000-09-25 |\n",
      "| 2,000 |         102 | LAKE MARIAN | 12 ft. 0 in.  | 12.000… |   2000-09-27 |\n",
      "| 2,000 |         102 | LAKE MARIAN | 11 ft. 10 in. | 11.833… |   2000-09-09 |\n",
      "| 2,000 |         102 | LAKE MARIAN | 11 ft. 7 in.  | 11.583… |   2000-09-10 |\n",
      "| 2,000 |         102 | LAKE MARIAN | 11 ft. 1 in.  | 11.083… |   2000-10-07 |\n",
      "|   ... |         ... | ...         | ...           |     ... |          ... |\n"
     ]
    },
    {
     "name": "stderr",
     "output_type": "stream",
     "text": [
      "/Users/cgroskopf/.pyenv/versions/3.6.0/lib/python3.6/json/encoder.py:199: DeprecationWarning: Interpreting naive datetime as local 2017-02-25 16:31:05.590908. Please add timezone info to timestamps.\n"
     ]
    }
   ],
   "source": [
    "alligators.print_table()"
   ]
  },
  {
   "cell_type": "markdown",
   "metadata": {
    "deletable": true,
    "editable": true
   },
   "source": [
    "## Aggregating column data\n",
    "\n",
    "**Question:** How many alligators were harvest in 2015?"
   ]
  },
  {
   "cell_type": "code",
   "execution_count": 13,
   "metadata": {
    "collapsed": false,
    "deletable": true,
    "editable": true
   },
   "outputs": [
    {
     "data": {
      "text/plain": [
       "6726"
      ]
     },
     "execution_count": 13,
     "metadata": {},
     "output_type": "execute_result"
    },
    {
     "name": "stderr",
     "output_type": "stream",
     "text": [
      "/Users/cgroskopf/.pyenv/versions/3.6.0/lib/python3.6/json/encoder.py:199: DeprecationWarning: Interpreting naive datetime as local 2017-02-25 16:21:02.946066. Please add timezone info to timestamps.\n"
     ]
    }
   ],
   "source": [
    "alligators.aggregate(agate.Count('Year', 2015))"
   ]
  },
  {
   "cell_type": "markdown",
   "metadata": {
    "deletable": true,
    "editable": true
   },
   "source": [
    "**Question:** What was the median size of harvested alligators?"
   ]
  },
  {
   "cell_type": "code",
   "execution_count": 14,
   "metadata": {
    "collapsed": false,
    "deletable": true,
    "editable": true
   },
   "outputs": [
    {
     "data": {
      "text/plain": [
       "Decimal('8.166666667')"
      ]
     },
     "execution_count": 14,
     "metadata": {},
     "output_type": "execute_result"
    },
    {
     "name": "stderr",
     "output_type": "stream",
     "text": [
      "/Users/cgroskopf/.pyenv/versions/3.6.0/lib/python3.6/json/encoder.py:199: DeprecationWarning: Interpreting naive datetime as local 2017-02-25 16:21:25.277567. Please add timezone info to timestamps.\n"
     ]
    }
   ],
   "source": [
    "alligators.aggregate(agate.Median('Size'))"
   ]
  },
  {
   "cell_type": "markdown",
   "metadata": {
    "deletable": true,
    "editable": true
   },
   "source": [
    "## Selecting and filtering data\n",
    "\n",
    "**Question:** Are Lake Pierce's gators bigger or smaller than gators elsewhere?"
   ]
  },
  {
   "cell_type": "code",
   "execution_count": 23,
   "metadata": {
    "collapsed": false,
    "deletable": true,
    "editable": true
   },
   "outputs": [
    {
     "name": "stderr",
     "output_type": "stream",
     "text": [
      "/Users/cgroskopf/.pyenv/versions/3.6.0/lib/python3.6/json/encoder.py:199: DeprecationWarning: Interpreting naive datetime as local 2017-02-25 16:24:22.313736. Please add timezone info to timestamps.\n"
     ]
    }
   ],
   "source": [
    "lake_pierce_gators = alligators.where(lambda row: row['Area Name'] == 'LAKE PIERCE')"
   ]
  },
  {
   "cell_type": "code",
   "execution_count": 24,
   "metadata": {
    "collapsed": false,
    "deletable": true,
    "editable": true
   },
   "outputs": [
    {
     "data": {
      "text/plain": [
       "284"
      ]
     },
     "execution_count": 24,
     "metadata": {},
     "output_type": "execute_result"
    },
    {
     "name": "stderr",
     "output_type": "stream",
     "text": [
      "/Users/cgroskopf/.pyenv/versions/3.6.0/lib/python3.6/json/encoder.py:199: DeprecationWarning: Interpreting naive datetime as local 2017-02-25 16:24:25.622030. Please add timezone info to timestamps.\n"
     ]
    }
   ],
   "source": [
    "len(lake_pierce_gators.rows)"
   ]
  },
  {
   "cell_type": "code",
   "execution_count": 25,
   "metadata": {
    "collapsed": false,
    "deletable": true,
    "editable": true
   },
   "outputs": [
    {
     "data": {
      "text/plain": [
       "Decimal('7.833333333')"
      ]
     },
     "execution_count": 25,
     "metadata": {},
     "output_type": "execute_result"
    },
    {
     "name": "stderr",
     "output_type": "stream",
     "text": [
      "/Users/cgroskopf/.pyenv/versions/3.6.0/lib/python3.6/json/encoder.py:199: DeprecationWarning: Interpreting naive datetime as local 2017-02-25 16:24:47.815438. Please add timezone info to timestamps.\n"
     ]
    }
   ],
   "source": [
    "lake_pierce_gators.aggregate(agate.Median('Size'))"
   ]
  },
  {
   "cell_type": "markdown",
   "metadata": {
    "deletable": true,
    "editable": true
   },
   "source": [
    "## Computing new columns\n",
    "\n",
    "**Question:** How long did individuals remain in prison before being exonerated?"
   ]
  },
  {
   "cell_type": "code",
   "execution_count": 30,
   "metadata": {
    "collapsed": false,
    "deletable": true,
    "editable": true
   },
   "outputs": [
    {
     "data": {
      "text/plain": [
       "Decimal('4.343400000000000218958184917')"
      ]
     },
     "execution_count": 30,
     "metadata": {},
     "output_type": "execute_result"
    },
    {
     "name": "stderr",
     "output_type": "stream",
     "text": [
      "/Users/cgroskopf/.pyenv/versions/3.6.0/lib/python3.6/json/encoder.py:199: DeprecationWarning: Interpreting naive datetime as local 2017-02-25 16:28:56.653172. Please add timezone info to timestamps.\n"
     ]
    }
   ],
   "source": [
    "import decimal\n",
    "\n",
    "metric_gators = alligators.compute([\n",
    "    ('size_meters', agate.Formula(agate.Number(), lambda row: row['Size'] * decimal.Decimal(0.3048)))\n",
    "])\n",
    "\n",
    "metric_gators.aggregate(agate.Max('size_meters'))"
   ]
  },
  {
   "cell_type": "markdown",
   "metadata": {
    "deletable": true,
    "editable": true
   },
   "source": [
    "## Sorting and slicing\n",
    "\n",
    "**Question:** Where were the largest alligators harvested?"
   ]
  },
  {
   "cell_type": "code",
   "execution_count": 37,
   "metadata": {
    "collapsed": false,
    "deletable": true,
    "editable": true,
    "scrolled": true
   },
   "outputs": [
    {
     "name": "stdout",
     "output_type": "stream",
     "text": [
      "|  Year | Area Number | Area Name            | Carcass Size  |    Size | Harvest Date |\n",
      "| ----- | ----------- | -------------------- | ------------- | ------- | ------------ |\n",
      "| 2,010 |         502 | ST. JOHNS RIVER (... | 14 ft. 3 in.  | 14.250… |   2010-10-31 |\n",
      "| 2,014 |         828 | HIGHLANDS COUNTY     | 14 ft. 3 in.  | 14.250… |   2014-10-28 |\n",
      "| 2,008 |         510 | LAKE JESUP           | 14 ft. 1 in.  | 14.083… |   2008-08-26 |\n",
      "| 2,013 |         733 | LAKE TALQUIN         | 14 ft. 1 in.  | 14.083… |   2013-09-02 |\n",
      "| 2,012 |         828 | HIGHLANDS COUNTY     | 14 ft. 0 in.  | 14.000… |   2012-10-31 |\n",
      "| 2,008 |         508 | CRESCENT LAKE        | 13 ft. 11 in. | 13.917… |   2008-09-21 |\n",
      "| 2,007 |         823 | GULF COUNTY          | 13 ft. 10 in. | 13.833… |   2007-08-16 |\n",
      "| 2,007 |         103 | KISSIMMEE RIVER (... | 13 ft. 9 in.  | 13.750… |   2007-08-30 |\n",
      "| 2,008 |         864 | VOLUSIA COUNTY       | 13 ft. 9 in.  | 13.750… |   2008-11-30 |\n",
      "| 2,013 |         852 | PINELLAS COUNTY      | 13 ft. 9 in.  | 13.750… |   2013-09-25 |\n"
     ]
    },
    {
     "name": "stderr",
     "output_type": "stream",
     "text": [
      "/Users/cgroskopf/.pyenv/versions/3.6.0/lib/python3.6/json/encoder.py:199: DeprecationWarning: Interpreting naive datetime as local 2017-02-25 16:33:21.386812. Please add timezone info to timestamps.\n"
     ]
    }
   ],
   "source": [
    "sorted_by_size = alligators.order_by('Size', reverse=True).limit(10)\n",
    "\n",
    "biggest_gators = sorted_by_size.limit(10)\n",
    "\n",
    "biggest_gators.print_table()"
   ]
  },
  {
   "cell_type": "markdown",
   "metadata": {},
   "source": [
    "**Question**: What is the distribution of alligator sizes?"
   ]
  },
  {
   "cell_type": "code",
   "execution_count": 38,
   "metadata": {
    "collapsed": false,
    "deletable": true,
    "editable": true
   },
   "outputs": [
    {
     "name": "stdout",
     "output_type": "stream",
     "text": [
      "Size       Count\n",
      "[0 - 2)       91 ▓                                                              \n",
      "[2 - 4)      307 ▓                                                              \n",
      "[4 - 6)    5,824 ▓░░░░░░░░░                                                     \n",
      "[6 - 8)   32,041 ▓░░░░░░░░░░░░░░░░░░░░░░░░░░░░░░░░░░░░░░░░░░░░░░░░░░            \n",
      "[8 - 10)  30,523 ▓░░░░░░░░░░░░░░░░░░░░░░░░░░░░░░░░░░░░░░░░░░░░░░░               \n",
      "[10 - 12) 16,341 ▓░░░░░░░░░░░░░░░░░░░░░░░░░                                     \n",
      "[12 - 14)  2,049 ▓░░░                                                           \n",
      "[14 - 16)      5 ▓                                                              \n",
      "                 +---------------+--------------+--------------+---------------+\n",
      "                 0            10,000         20,000         30,000        40,000\n"
     ]
    },
    {
     "name": "stderr",
     "output_type": "stream",
     "text": [
      "/Users/cgroskopf/.pyenv/versions/3.6.0/lib/python3.6/json/encoder.py:199: DeprecationWarning: Interpreting naive datetime as local 2017-02-25 16:34:04.231545. Please add timezone info to timestamps.\n"
     ]
    }
   ],
   "source": [
    "binned_sizes = alligators.bins('Size')\n",
    "binned_sizes.print_bars('Size', 'Count', width=80)"
   ]
  },
  {
   "cell_type": "markdown",
   "metadata": {
    "deletable": true,
    "editable": true
   },
   "source": [
    "Grouping and aggregating\n",
    "========================\n",
    "\n",
    "**Question:** Which area has harvested the most alligators?"
   ]
  },
  {
   "cell_type": "code",
   "execution_count": 46,
   "metadata": {
    "collapsed": false,
    "deletable": true,
    "editable": true,
    "scrolled": true
   },
   "outputs": [
    {
     "name": "stdout",
     "output_type": "stream",
     "text": [
      "| Area Name                       | count |\n",
      "| ------------------------------- | ----- |\n",
      "| ST. JOHNS RIVER (LAKE POINSETT) | 5,188 |\n",
      "| LAKE OKEECHOBEE (SOUTH)         | 4,122 |\n",
      "| ORANGE LAKE                     | 3,110 |\n",
      "| LAKE OKEECHOBEE (WEST)          | 3,073 |\n",
      "| KISSIMMEE RIVER                 | 2,978 |\n",
      "| ...                             |   ... |\n"
     ]
    },
    {
     "name": "stderr",
     "output_type": "stream",
     "text": [
      "/Users/cgroskopf/.pyenv/versions/3.6.0/lib/python3.6/json/encoder.py:199: DeprecationWarning: Interpreting naive datetime as local 2017-02-25 16:36:48.706039. Please add timezone info to timestamps.\n"
     ]
    }
   ],
   "source": [
    "by_area = alligators.group_by('Area Name')\n",
    "\n",
    "area_totals = by_area.aggregate([\n",
    "    ('count', agate.Count())\n",
    "])\n",
    "\n",
    "sorted_totals = area_totals.order_by('count', reverse=True)\n",
    "\n",
    "sorted_totals.print_table(max_rows=5, max_column_width=40)"
   ]
  },
  {
   "cell_type": "markdown",
   "metadata": {},
   "source": [
    "**Question**: Which area harvests the largest alligators?"
   ]
  },
  {
   "cell_type": "code",
   "execution_count": 48,
   "metadata": {
    "collapsed": false
   },
   "outputs": [
    {
     "name": "stdout",
     "output_type": "stream",
     "text": [
      "| Area Name         | count | median_size |\n",
      "| ----------------- | ----- | ----------- |\n",
      "| ST. JOHNS         |     1 |     11.583… |\n",
      "| LAKE              |     2 |     10.500… |\n",
      "| STICK MARSH       |   503 |     10.417… |\n",
      "| LAKE PARKER       |    25 |     10.250… |\n",
      "| PALM BEACH COUNTY |    82 |      9.750… |\n",
      "| ...               |   ... |         ... |\n"
     ]
    },
    {
     "name": "stderr",
     "output_type": "stream",
     "text": [
      "/Users/cgroskopf/.pyenv/versions/3.6.0/lib/python3.6/json/encoder.py:199: DeprecationWarning: Interpreting naive datetime as local 2017-02-25 16:39:01.693914. Please add timezone info to timestamps.\n"
     ]
    }
   ],
   "source": [
    "area_medians = by_area.aggregate([\n",
    "    ('count', agate.Count()),\n",
    "    ('median_size', agate.Median('Size'))\n",
    "])\n",
    "\n",
    "sorted_medians = area_medians.order_by('median_size', reverse=True)\n",
    "\n",
    "sorted_medians.print_table(max_rows=5, max_column_width=40)"
   ]
  },
  {
   "cell_type": "markdown",
   "metadata": {
    "deletable": true,
    "editable": true
   },
   "source": [
    "## Multi-dimensional aggregation\n",
    "\n",
    "**Question**: Where and when was the largest concentration of big alligators harvested?"
   ]
  },
  {
   "cell_type": "code",
   "execution_count": 51,
   "metadata": {
    "collapsed": false,
    "deletable": true,
    "editable": true
   },
   "outputs": [
    {
     "name": "stdout",
     "output_type": "stream",
     "text": [
      "| Area Name            |  Year | count |\n",
      "| -------------------- | ----- | ----- |\n",
      "| LAKE OKEECHOBEE (... | 2,000 |    43 |\n",
      "| LAKE OKEECHOBEE (... | 2,006 |    34 |\n",
      "| LAKE JESUP           | 2,009 |    32 |\n",
      "| LAKE OKEECHOBEE (... | 2,001 |    26 |\n",
      "| LAKE GEORGE          | 2,005 |    22 |\n",
      "| LAKE OKEECHOBEE (... | 2,006 |    20 |\n",
      "| LAKE GEORGE          | 2,013 |    20 |\n",
      "| LAKE OKEECHOBEE (... | 2,000 |    18 |\n",
      "| LAKE GEORGE          | 2,006 |    18 |\n",
      "| LAKE GEORGE          | 2,007 |    18 |\n",
      "| LAKE JESUP           | 2,008 |    17 |\n",
      "| LAKE GEORGE          | 2,011 |    17 |\n",
      "| LAKE OKEECHOBEE (... | 2,004 |    16 |\n",
      "| LAKE GEORGE          | 2,010 |    16 |\n",
      "| PUTNAM COUNTY        | 2,011 |    16 |\n",
      "| LAKE OKEECHOBEE (... | 2,007 |    15 |\n",
      "| LAKE JESUP           | 2,010 |    14 |\n",
      "| LAKE OKEECHOBEE (... | 2,000 |    14 |\n",
      "| LAKE OKEECHOBEE (... | 2,001 |    14 |\n",
      "| LAKE COUNTY          | 2,011 |    14 |\n",
      "| ...                  |   ... |   ... |\n"
     ]
    },
    {
     "name": "stderr",
     "output_type": "stream",
     "text": [
      "/Users/cgroskopf/.pyenv/versions/3.6.0/lib/python3.6/json/encoder.py:199: DeprecationWarning: Interpreting naive datetime as local 2017-02-25 16:42:12.003829. Please add timezone info to timestamps.\n"
     ]
    }
   ],
   "source": [
    "by_area_and_year = by_area.group_by('Year')\n",
    "\n",
    "bigguns = by_area_and_year.where(lambda row: row['Size'] >= 12)\n",
    "\n",
    "biggun_groups = bigguns.aggregate([\n",
    "    ('count', agate.Count())\n",
    "])\n",
    "\n",
    "sorted_groups = biggun_groups.order_by('count', reverse=True)\n",
    "\n",
    "sorted_groups.print_table()"
   ]
  },
  {
   "cell_type": "markdown",
   "metadata": {
    "deletable": true,
    "editable": true
   },
   "source": [
    "## Exploratory charting\n",
    "\n",
    "Beginning with version 1.5.0, agate includes the pure-Python SVG charting library [leather](http://leather.readthedocs.io/en/latest/). Leather allows you to generate \"good enough\" charts with as little as one line of code. It's especially useful if you're working in a Jupyter Notebook, as the results will render inline.\n",
    "\n",
    "There are currently four chart types support: [`Table.bar_chart`](http://agate.readthedocs.io/en/1.5.6/api/table.html#agate.Table.bar_chart), [`Table.column_chart`](http://agate.readthedocs.io/en/1.5.6/api/table.html#agate.Table.column_chart), [`Table.line_chart`](http://agate.readthedocs.io/en/1.5.6/api/table.html#agate.Table.line_chart), and [`Table.scatterplot`](http://agate.readthedocs.io/en/1.5.6/api/table.html#agate.Table.scatterplot).\n",
    "\n",
    "Let's create charts from a few slices of data we've made in this tutorial."
   ]
  },
  {
   "cell_type": "markdown",
   "metadata": {
    "deletable": true,
    "editable": true
   },
   "source": [
    "### Exonerations by state"
   ]
  },
  {
   "cell_type": "code",
   "execution_count": 35,
   "metadata": {
    "collapsed": false,
    "deletable": true,
    "editable": true
   },
   "outputs": [
    {
     "data": {
      "image/svg+xml": [
       "<svg height=\"1000\" version=\"1.1\" width=\"800\" xmlns=\"http://www.w3.org/2000/svg\"><g><rect fill=\"#f9f9f9\" height=\"1000\" width=\"800\" x=\"0\" y=\"0\"/><g transform=\"translate(40 40)\"><g transform=\"translate(62 0)\"/><g transform=\"translate(0 0)\"><g transform=\"translate(62 0)\"><g class=\"axis bottom\"><text dy=\"1em\" fill=\"#666\" font-family=\"Monaco\" text-anchor=\"middle\" transform=\"\" x=\"329.0\" y=\"906.0\">count</text><g class=\"tick\"><line stroke=\"#eee\" stroke-width=\"1\" x1=\"219.3333333333333333333333333\" x2=\"219.3333333333333333333333333\" y1=\"0\" y2=\"872.0\"/><text dy=\"1em\" fill=\"#9c9c9c\" font-family=\"Monaco\" text-anchor=\"middle\" x=\"219.3333333333333333333333333\" y=\"876.0\">100</text></g><g class=\"tick\"><line stroke=\"#eee\" stroke-width=\"1\" x1=\"438.6666666666666666666666667\" x2=\"438.6666666666666666666666667\" y1=\"0\" y2=\"872.0\"/><text dy=\"1em\" fill=\"#9c9c9c\" font-family=\"Monaco\" text-anchor=\"middle\" x=\"438.6666666666666666666666667\" y=\"876.0\">200</text></g><g class=\"tick\"><line stroke=\"#eee\" stroke-width=\"1\" x1=\"658\" x2=\"658\" y1=\"0\" y2=\"872.0\"/><text dy=\"1em\" fill=\"#9c9c9c\" font-family=\"Monaco\" text-anchor=\"middle\" x=\"658\" y=\"876.0\">300</text></g><g class=\"tick\"><line stroke=\"#a8a8a8\" stroke-width=\"1\" x1=\"0\" x2=\"0\" y1=\"0\" y2=\"872.0\"/><text dy=\"1em\" fill=\"#9c9c9c\" font-family=\"Monaco\" text-anchor=\"middle\" x=\"0\" y=\"876.0\">0</text></g></g><g class=\"axis left\"><text dy=\"\" fill=\"#666\" font-family=\"Monaco\" text-anchor=\"middle\" transform=\"rotate(270 -40 434)\" x=\"-40\" y=\"434.0\">state</text><g class=\"tick\"><line stroke=\"#eee\" stroke-width=\"1\" x1=\"-4\" x2=\"658.0\" y1=\"859.9629629629629629629629630\" y2=\"859.9629629629629629629629630\"/><text dy=\"0.32em\" fill=\"#9c9c9c\" font-family=\"Monaco\" text-anchor=\"end\" x=\"-8\" y=\"859.9629629629629629629629630\">GU</text></g><g class=\"tick\"><line stroke=\"#eee\" stroke-width=\"1\" x1=\"-4\" x2=\"658.0\" y1=\"843.8888888888888888888888889\" y2=\"843.8888888888888888888888889\"/><text dy=\"0.32em\" fill=\"#9c9c9c\" font-family=\"Monaco\" text-anchor=\"end\" x=\"-8\" y=\"843.8888888888888888888888889\">VT</text></g><g class=\"tick\"><line stroke=\"#eee\" stroke-width=\"1\" x1=\"-4\" x2=\"658.0\" y1=\"827.8148148148148148148148149\" y2=\"827.8148148148148148148148149\"/><text dy=\"0.32em\" fill=\"#9c9c9c\" font-family=\"Monaco\" text-anchor=\"end\" x=\"-8\" y=\"827.8148148148148148148148149\">DE</text></g><g class=\"tick\"><line stroke=\"#eee\" stroke-width=\"1\" x1=\"-4\" x2=\"658.0\" y1=\"811.7407407407407407407407408\" y2=\"811.7407407407407407407407408\"/><text dy=\"0.32em\" fill=\"#9c9c9c\" font-family=\"Monaco\" text-anchor=\"end\" x=\"-8\" y=\"811.7407407407407407407407408\">NH</text></g><g class=\"tick\"><line stroke=\"#eee\" stroke-width=\"1\" x1=\"-4\" x2=\"658.0\" y1=\"795.6666666666666666666666667\" y2=\"795.6666666666666666666666667\"/><text dy=\"0.32em\" fill=\"#9c9c9c\" font-family=\"Monaco\" text-anchor=\"end\" x=\"-8\" y=\"795.6666666666666666666666667\">ME</text></g><g class=\"tick\"><line stroke=\"#eee\" stroke-width=\"1\" x1=\"-4\" x2=\"658.0\" y1=\"779.5925925925925925925925926\" y2=\"779.5925925925925925925925926\"/><text dy=\"0.32em\" fill=\"#9c9c9c\" font-family=\"Monaco\" text-anchor=\"end\" x=\"-8\" y=\"779.5925925925925925925925926\">ID</text></g><g class=\"tick\"><line stroke=\"#eee\" stroke-width=\"1\" x1=\"-4\" x2=\"658.0\" y1=\"763.5185185185185185185185186\" y2=\"763.5185185185185185185185186\"/><text dy=\"0.32em\" fill=\"#9c9c9c\" font-family=\"Monaco\" text-anchor=\"end\" x=\"-8\" y=\"763.5185185185185185185185186\">WY</text></g><g class=\"tick\"><line stroke=\"#eee\" stroke-width=\"1\" x1=\"-4\" x2=\"658.0\" y1=\"747.4444444444444444444444445\" y2=\"747.4444444444444444444444445\"/><text dy=\"0.32em\" fill=\"#9c9c9c\" font-family=\"Monaco\" text-anchor=\"end\" x=\"-8\" y=\"747.4444444444444444444444445\">PR</text></g><g class=\"tick\"><line stroke=\"#eee\" stroke-width=\"1\" x1=\"-4\" x2=\"658.0\" y1=\"731.3703703703703703703703704\" y2=\"731.3703703703703703703703704\"/><text dy=\"0.32em\" fill=\"#9c9c9c\" font-family=\"Monaco\" text-anchor=\"end\" x=\"-8\" y=\"731.3703703703703703703703704\">ND</text></g><g class=\"tick\"><line stroke=\"#eee\" stroke-width=\"1\" x1=\"-4\" x2=\"658.0\" y1=\"715.2962962962962962962962964\" y2=\"715.2962962962962962962962964\"/><text dy=\"0.32em\" fill=\"#9c9c9c\" font-family=\"Monaco\" text-anchor=\"end\" x=\"-8\" y=\"715.2962962962962962962962964\">HI</text></g><g class=\"tick\"><line stroke=\"#eee\" stroke-width=\"1\" x1=\"-4\" x2=\"658.0\" y1=\"699.2222222222222222222222223\" y2=\"699.2222222222222222222222223\"/><text dy=\"0.32em\" fill=\"#9c9c9c\" font-family=\"Monaco\" text-anchor=\"end\" x=\"-8\" y=\"699.2222222222222222222222223\">AK</text></g><g class=\"tick\"><line stroke=\"#eee\" stroke-width=\"1\" x1=\"-4\" x2=\"658.0\" y1=\"683.1481481481481481481481482\" y2=\"683.1481481481481481481481482\"/><text dy=\"0.32em\" fill=\"#9c9c9c\" font-family=\"Monaco\" text-anchor=\"end\" x=\"-8\" y=\"683.1481481481481481481481482\">MIL</text></g><g class=\"tick\"><line stroke=\"#eee\" stroke-width=\"1\" x1=\"-4\" x2=\"658.0\" y1=\"667.0740740740740740740740742\" y2=\"667.0740740740740740740740742\"/><text dy=\"0.32em\" fill=\"#9c9c9c\" font-family=\"Monaco\" text-anchor=\"end\" x=\"-8\" y=\"667.0740740740740740740740742\">CO</text></g><g class=\"tick\"><line stroke=\"#eee\" stroke-width=\"1\" x1=\"-4\" x2=\"658.0\" y1=\"651.0000000000000000000000001\" y2=\"651.0000000000000000000000001\"/><text dy=\"0.32em\" fill=\"#9c9c9c\" font-family=\"Monaco\" text-anchor=\"end\" x=\"-8\" y=\"651.0000000000000000000000001\">NM</text></g><g class=\"tick\"><line stroke=\"#eee\" stroke-width=\"1\" x1=\"-4\" x2=\"658.0\" y1=\"634.9259259259259259259259260\" y2=\"634.9259259259259259259259260\"/><text dy=\"0.32em\" fill=\"#9c9c9c\" font-family=\"Monaco\" text-anchor=\"end\" x=\"-8\" y=\"634.9259259259259259259259260\">SD</text></g><g class=\"tick\"><line stroke=\"#eee\" stroke-width=\"1\" x1=\"-4\" x2=\"658.0\" y1=\"618.8518518518518518518518520\" y2=\"618.8518518518518518518518520\"/><text dy=\"0.32em\" fill=\"#9c9c9c\" font-family=\"Monaco\" text-anchor=\"end\" x=\"-8\" y=\"618.8518518518518518518518520\">RI</text></g><g class=\"tick\"><line stroke=\"#eee\" stroke-width=\"1\" x1=\"-4\" x2=\"658.0\" y1=\"602.7777777777777777777777779\" y2=\"602.7777777777777777777777779\"/><text dy=\"0.32em\" fill=\"#9c9c9c\" font-family=\"Monaco\" text-anchor=\"end\" x=\"-8\" y=\"602.7777777777777777777777779\">AR</text></g><g class=\"tick\"><line stroke=\"#eee\" stroke-width=\"1\" x1=\"-4\" x2=\"658.0\" y1=\"586.7037037037037037037037038\" y2=\"586.7037037037037037037037038\"/><text dy=\"0.32em\" fill=\"#9c9c9c\" font-family=\"Monaco\" text-anchor=\"end\" x=\"-8\" y=\"586.7037037037037037037037038\">SC</text></g><g class=\"tick\"><line stroke=\"#eee\" stroke-width=\"1\" x1=\"-4\" x2=\"658.0\" y1=\"570.6296296296296296296296297\" y2=\"570.6296296296296296296296297\"/><text dy=\"0.32em\" fill=\"#9c9c9c\" font-family=\"Monaco\" text-anchor=\"end\" x=\"-8\" y=\"570.6296296296296296296296297\">KS</text></g><g class=\"tick\"><line stroke=\"#eee\" stroke-width=\"1\" x1=\"-4\" x2=\"658.0\" y1=\"554.5555555555555555555555557\" y2=\"554.5555555555555555555555557\"/><text dy=\"0.32em\" fill=\"#9c9c9c\" font-family=\"Monaco\" text-anchor=\"end\" x=\"-8\" y=\"554.5555555555555555555555557\">MT</text></g><g class=\"tick\"><line stroke=\"#eee\" stroke-width=\"1\" x1=\"-4\" x2=\"658.0\" y1=\"538.4814814814814814814814816\" y2=\"538.4814814814814814814814816\"/><text dy=\"0.32em\" fill=\"#9c9c9c\" font-family=\"Monaco\" text-anchor=\"end\" x=\"-8\" y=\"538.4814814814814814814814816\">NE</text></g><g class=\"tick\"><line stroke=\"#eee\" stroke-width=\"1\" x1=\"-4\" x2=\"658.0\" y1=\"522.4074074074074074074074075\" y2=\"522.4074074074074074074074075\"/><text dy=\"0.32em\" fill=\"#9c9c9c\" font-family=\"Monaco\" text-anchor=\"end\" x=\"-8\" y=\"522.4074074074074074074074075\">NV</text></g><g class=\"tick\"><line stroke=\"#eee\" stroke-width=\"1\" x1=\"-4\" x2=\"658.0\" y1=\"506.3333333333333333333333335\" y2=\"506.3333333333333333333333335\"/><text dy=\"0.32em\" fill=\"#9c9c9c\" font-family=\"Monaco\" text-anchor=\"end\" x=\"-8\" y=\"506.3333333333333333333333335\">WV</text></g><g class=\"tick\"><line stroke=\"#eee\" stroke-width=\"1\" x1=\"-4\" x2=\"658.0\" y1=\"490.2592592592592592592592594\" y2=\"490.2592592592592592592592594\"/><text dy=\"0.32em\" fill=\"#9c9c9c\" font-family=\"Monaco\" text-anchor=\"end\" x=\"-8\" y=\"490.2592592592592592592592594\">MN</text></g><g class=\"tick\"><line stroke=\"#eee\" stroke-width=\"1\" x1=\"-4\" x2=\"658.0\" y1=\"474.1851851851851851851851853\" y2=\"474.1851851851851851851851853\"/><text dy=\"0.32em\" fill=\"#9c9c9c\" font-family=\"Monaco\" text-anchor=\"end\" x=\"-8\" y=\"474.1851851851851851851851853\">OR</text></g><g class=\"tick\"><line stroke=\"#eee\" stroke-width=\"1\" x1=\"-4\" x2=\"658.0\" y1=\"458.1111111111111111111111112\" y2=\"458.1111111111111111111111112\"/><text dy=\"0.32em\" fill=\"#9c9c9c\" font-family=\"Monaco\" text-anchor=\"end\" x=\"-8\" y=\"458.1111111111111111111111112\">KY</text></g><g class=\"tick\"><line stroke=\"#eee\" stroke-width=\"1\" x1=\"-4\" x2=\"658.0\" y1=\"442.0370370370370370370370372\" y2=\"442.0370370370370370370370372\"/><text dy=\"0.32em\" fill=\"#9c9c9c\" font-family=\"Monaco\" text-anchor=\"end\" x=\"-8\" y=\"442.0370370370370370370370372\">UT</text></g><g class=\"tick\"><line stroke=\"#eee\" stroke-width=\"1\" x1=\"-4\" x2=\"658.0\" y1=\"425.9629629629629629629629631\" y2=\"425.9629629629629629629629631\"/><text dy=\"0.32em\" fill=\"#9c9c9c\" font-family=\"Monaco\" text-anchor=\"end\" x=\"-8\" y=\"425.9629629629629629629629631\">IA</text></g><g class=\"tick\"><line stroke=\"#eee\" stroke-width=\"1\" x1=\"-4\" x2=\"658.0\" y1=\"409.8888888888888888888888890\" y2=\"409.8888888888888888888888890\"/><text dy=\"0.32em\" fill=\"#9c9c9c\" font-family=\"Monaco\" text-anchor=\"end\" x=\"-8\" y=\"409.8888888888888888888888890\">MS</text></g><g class=\"tick\"><line stroke=\"#eee\" stroke-width=\"1\" x1=\"-4\" x2=\"658.0\" y1=\"393.8148148148148148148148150\" y2=\"393.8148148148148148148148150\"/><text dy=\"0.32em\" fill=\"#9c9c9c\" font-family=\"Monaco\" text-anchor=\"end\" x=\"-8\" y=\"393.8148148148148148148148150\">TN</text></g><g class=\"tick\"><line stroke=\"#eee\" stroke-width=\"1\" x1=\"-4\" x2=\"658.0\" y1=\"377.7407407407407407407407409\" y2=\"377.7407407407407407407407409\"/><text dy=\"0.32em\" fill=\"#9c9c9c\" font-family=\"Monaco\" text-anchor=\"end\" x=\"-8\" y=\"377.7407407407407407407407409\">IN</text></g><g class=\"tick\"><line stroke=\"#eee\" stroke-width=\"1\" x1=\"-4\" x2=\"658.0\" y1=\"361.6666666666666666666666668\" y2=\"361.6666666666666666666666668\"/><text dy=\"0.32em\" fill=\"#9c9c9c\" font-family=\"Monaco\" text-anchor=\"end\" x=\"-8\" y=\"361.6666666666666666666666668\">CT</text></g><g class=\"tick\"><line stroke=\"#eee\" stroke-width=\"1\" x1=\"-4\" x2=\"658.0\" y1=\"345.5925925925925925925925928\" y2=\"345.5925925925925925925925928\"/><text dy=\"0.32em\" fill=\"#9c9c9c\" font-family=\"Monaco\" text-anchor=\"end\" x=\"-8\" y=\"345.5925925925925925925925928\">DC</text></g><g class=\"tick\"><line stroke=\"#eee\" stroke-width=\"1\" x1=\"-4\" x2=\"658.0\" y1=\"329.5185185185185185185185187\" y2=\"329.5185185185185185185185187\"/><text dy=\"0.32em\" fill=\"#9c9c9c\" font-family=\"Monaco\" text-anchor=\"end\" x=\"-8\" y=\"329.5185185185185185185185187\">NJ</text></g><g class=\"tick\"><line stroke=\"#eee\" stroke-width=\"1\" x1=\"-4\" x2=\"658.0\" y1=\"313.4444444444444444444444446\" y2=\"313.4444444444444444444444446\"/><text dy=\"0.32em\" fill=\"#9c9c9c\" font-family=\"Monaco\" text-anchor=\"end\" x=\"-8\" y=\"313.4444444444444444444444446\">AZ</text></g><g class=\"tick\"><line stroke=\"#eee\" stroke-width=\"1\" x1=\"-4\" x2=\"658.0\" y1=\"297.3703703703703703703703706\" y2=\"297.3703703703703703703703706\"/><text dy=\"0.32em\" fill=\"#9c9c9c\" font-family=\"Monaco\" text-anchor=\"end\" x=\"-8\" y=\"297.3703703703703703703703706\">MD</text></g><g class=\"tick\"><line stroke=\"#eee\" stroke-width=\"1\" x1=\"-4\" x2=\"658.0\" y1=\"281.2962962962962962962962965\" y2=\"281.2962962962962962962962965\"/><text dy=\"0.32em\" fill=\"#9c9c9c\" font-family=\"Monaco\" text-anchor=\"end\" x=\"-8\" y=\"281.2962962962962962962962965\">AL</text></g><g class=\"tick\"><line stroke=\"#eee\" stroke-width=\"1\" x1=\"-4\" x2=\"658.0\" y1=\"265.2222222222222222222222224\" y2=\"265.2222222222222222222222224\"/><text dy=\"0.32em\" fill=\"#9c9c9c\" font-family=\"Monaco\" text-anchor=\"end\" x=\"-8\" y=\"265.2222222222222222222222224\">GA</text></g><g class=\"tick\"><line stroke=\"#eee\" stroke-width=\"1\" x1=\"-4\" x2=\"658.0\" y1=\"249.1481481481481481481481483\" y2=\"249.1481481481481481481481483\"/><text dy=\"0.32em\" fill=\"#9c9c9c\" font-family=\"Monaco\" text-anchor=\"end\" x=\"-8\" y=\"249.1481481481481481481481483\">OK</text></g><g class=\"tick\"><line stroke=\"#eee\" stroke-width=\"1\" x1=\"-4\" x2=\"658.0\" y1=\"233.0740740740740740740740743\" y2=\"233.0740740740740740740740743\"/><text dy=\"0.32em\" fill=\"#9c9c9c\" font-family=\"Monaco\" text-anchor=\"end\" x=\"-8\" y=\"233.0740740740740740740740743\">NC</text></g><g class=\"tick\"><line stroke=\"#eee\" stroke-width=\"1\" x1=\"-4\" x2=\"658.0\" y1=\"217.0000000000000000000000002\" y2=\"217.0000000000000000000000002\"/><text dy=\"0.32em\" fill=\"#9c9c9c\" font-family=\"Monaco\" text-anchor=\"end\" x=\"-8\" y=\"217.0000000000000000000000002\">MO</text></g><g class=\"tick\"><line stroke=\"#eee\" stroke-width=\"1\" x1=\"-4\" x2=\"658.0\" y1=\"200.9259259259259259259259261\" y2=\"200.9259259259259259259259261\"/><text dy=\"0.32em\" fill=\"#9c9c9c\" font-family=\"Monaco\" text-anchor=\"end\" x=\"-8\" y=\"200.9259259259259259259259261\">WA</text></g><g class=\"tick\"><line stroke=\"#eee\" stroke-width=\"1\" x1=\"-4\" x2=\"658.0\" y1=\"184.8518518518518518518518521\" y2=\"184.8518518518518518518518521\"/><text dy=\"0.32em\" fill=\"#9c9c9c\" font-family=\"Monaco\" text-anchor=\"end\" x=\"-8\" y=\"184.8518518518518518518518521\">VA</text></g><g class=\"tick\"><line stroke=\"#eee\" stroke-width=\"1\" x1=\"-4\" x2=\"658.0\" y1=\"168.7777777777777777777777780\" y2=\"168.7777777777777777777777780\"/><text dy=\"0.32em\" fill=\"#9c9c9c\" font-family=\"Monaco\" text-anchor=\"end\" x=\"-8\" y=\"168.7777777777777777777777780\">MA</text></g><g class=\"tick\"><line stroke=\"#eee\" stroke-width=\"1\" x1=\"-4\" x2=\"658.0\" y1=\"152.7037037037037037037037039\" y2=\"152.7037037037037037037037039\"/><text dy=\"0.32em\" fill=\"#9c9c9c\" font-family=\"Monaco\" text-anchor=\"end\" x=\"-8\" y=\"152.7037037037037037037037039\">WI</text></g><g class=\"tick\"><line stroke=\"#eee\" stroke-width=\"1\" x1=\"-4\" x2=\"658.0\" y1=\"136.6296296296296296296296298\" y2=\"136.6296296296296296296296298\"/><text dy=\"0.32em\" fill=\"#9c9c9c\" font-family=\"Monaco\" text-anchor=\"end\" x=\"-8\" y=\"136.6296296296296296296296298\">LA</text></g><g class=\"tick\"><line stroke=\"#eee\" stroke-width=\"1\" x1=\"-4\" x2=\"658.0\" y1=\"120.5555555555555555555555558\" y2=\"120.5555555555555555555555558\"/><text dy=\"0.32em\" fill=\"#9c9c9c\" font-family=\"Monaco\" text-anchor=\"end\" x=\"-8\" y=\"120.5555555555555555555555558\">OH</text></g><g class=\"tick\"><line stroke=\"#eee\" stroke-width=\"1\" x1=\"-4\" x2=\"658.0\" y1=\"104.4814814814814814814814817\" y2=\"104.4814814814814814814814817\"/><text dy=\"0.32em\" fill=\"#9c9c9c\" font-family=\"Monaco\" text-anchor=\"end\" x=\"-8\" y=\"104.4814814814814814814814817\">PA</text></g><g class=\"tick\"><line stroke=\"#eee\" stroke-width=\"1\" x1=\"-4\" x2=\"658.0\" y1=\"88.40740740740740740740740756\" y2=\"88.40740740740740740740740756\"/><text dy=\"0.32em\" fill=\"#9c9c9c\" font-family=\"Monaco\" text-anchor=\"end\" x=\"-8\" y=\"88.40740740740740740740740756\">FL</text></g><g class=\"tick\"><line stroke=\"#eee\" stroke-width=\"1\" x1=\"-4\" x2=\"658.0\" y1=\"72.33333333333333333333333356\" y2=\"72.33333333333333333333333356\"/><text dy=\"0.32em\" fill=\"#9c9c9c\" font-family=\"Monaco\" text-anchor=\"end\" x=\"-8\" y=\"72.33333333333333333333333356\">MI</text></g><g class=\"tick\"><line stroke=\"#eee\" stroke-width=\"1\" x1=\"-4\" x2=\"658.0\" y1=\"56.25925925925925925925925946\" y2=\"56.25925925925925925925925946\"/><text dy=\"0.32em\" fill=\"#9c9c9c\" font-family=\"Monaco\" text-anchor=\"end\" x=\"-8\" y=\"56.25925925925925925925925946\">IL</text></g><g class=\"tick\"><line stroke=\"#eee\" stroke-width=\"1\" x1=\"-4\" x2=\"658.0\" y1=\"40.18518518518518518518518536\" y2=\"40.18518518518518518518518536\"/><text dy=\"0.32em\" fill=\"#9c9c9c\" font-family=\"Monaco\" text-anchor=\"end\" x=\"-8\" y=\"40.18518518518518518518518536\">CA</text></g><g class=\"tick\"><line stroke=\"#eee\" stroke-width=\"1\" x1=\"-4\" x2=\"658.0\" y1=\"24.11111111111111111111111136\" y2=\"24.11111111111111111111111136\"/><text dy=\"0.32em\" fill=\"#9c9c9c\" font-family=\"Monaco\" text-anchor=\"end\" x=\"-8\" y=\"24.11111111111111111111111136\">NY</text></g><g class=\"tick\"><line stroke=\"#eee\" stroke-width=\"1\" x1=\"-4\" x2=\"658.0\" y1=\"8.037037037037037037037037265\" y2=\"8.037037037037037037037037265\"/><text dy=\"0.32em\" fill=\"#9c9c9c\" font-family=\"Monaco\" text-anchor=\"end\" x=\"-8\" y=\"8.037037037037037037037037265\">TX</text></g></g><g><g class=\"series bars\"><rect fill=\"#e41a1c\" height=\"14.4666666666666666666666667\" width=\"2.193333333333333333333333333\" x=\"0\" y=\"852.7296296296296296296296296\"/><rect fill=\"#e41a1c\" height=\"14.4666666666666666666666666\" width=\"2.193333333333333333333333333\" x=\"0\" y=\"836.6555555555555555555555556\"/><rect fill=\"#e41a1c\" height=\"14.4666666666666666666666667\" width=\"2.193333333333333333333333333\" x=\"0\" y=\"820.5814814814814814814814815\"/><rect fill=\"#e41a1c\" height=\"14.4666666666666666666666667\" width=\"2.193333333333333333333333333\" x=\"0\" y=\"804.5074074074074074074074074\"/><rect fill=\"#e41a1c\" height=\"14.4666666666666666666666667\" width=\"4.386666666666666666666666667\" x=\"0\" y=\"788.4333333333333333333333333\"/><rect fill=\"#e41a1c\" height=\"14.4666666666666666666666666\" width=\"4.386666666666666666666666667\" x=\"0\" y=\"772.3592592592592592592592593\"/><rect fill=\"#e41a1c\" height=\"14.4666666666666666666666667\" width=\"6.58\" x=\"0\" y=\"756.2851851851851851851851852\"/><rect fill=\"#e41a1c\" height=\"14.4666666666666666666666667\" width=\"6.58\" x=\"0\" y=\"740.2111111111111111111111111\"/><rect fill=\"#e41a1c\" height=\"14.4666666666666666666666666\" width=\"6.58\" x=\"0\" y=\"724.1370370370370370370370371\"/><rect fill=\"#e41a1c\" height=\"14.4666666666666666666666667\" width=\"6.58\" x=\"0\" y=\"708.0629629629629629629629630\"/><rect fill=\"#e41a1c\" height=\"14.4666666666666666666666667\" width=\"8.773333333333333333333333331\" x=\"0\" y=\"691.9888888888888888888888889\"/><rect fill=\"#e41a1c\" height=\"14.4666666666666666666666666\" width=\"8.773333333333333333333333331\" x=\"0\" y=\"675.9148148148148148148148149\"/><rect fill=\"#e41a1c\" height=\"14.4666666666666666666666667\" width=\"8.773333333333333333333333331\" x=\"0\" y=\"659.8407407407407407407407408\"/><rect fill=\"#e41a1c\" height=\"14.4666666666666666666666667\" width=\"8.773333333333333333333333331\" x=\"0\" y=\"643.7666666666666666666666667\"/><rect fill=\"#e41a1c\" height=\"14.4666666666666666666666666\" width=\"10.96666666666666666666666667\" x=\"0\" y=\"627.6925925925925925925925927\"/><rect fill=\"#e41a1c\" height=\"14.4666666666666666666666667\" width=\"10.96666666666666666666666667\" x=\"0\" y=\"611.6185185185185185185185186\"/><rect fill=\"#e41a1c\" height=\"14.4666666666666666666666667\" width=\"10.96666666666666666666666667\" x=\"0\" y=\"595.5444444444444444444444445\"/><rect fill=\"#e41a1c\" height=\"14.4666666666666666666666667\" width=\"13.16\" x=\"0\" y=\"579.4703703703703703703703704\"/><rect fill=\"#e41a1c\" height=\"14.4666666666666666666666666\" width=\"13.16\" x=\"0\" y=\"563.3962962962962962962962964\"/><rect fill=\"#e41a1c\" height=\"14.4666666666666666666666667\" width=\"13.16\" x=\"0\" y=\"547.3222222222222222222222223\"/><rect fill=\"#e41a1c\" height=\"14.4666666666666666666666667\" width=\"19.74\" x=\"0\" y=\"531.2481481481481481481481482\"/><rect fill=\"#e41a1c\" height=\"14.4666666666666666666666666\" width=\"19.74\" x=\"0\" y=\"515.1740740740740740740740742\"/><rect fill=\"#e41a1c\" height=\"14.4666666666666666666666667\" width=\"19.74\" x=\"0\" y=\"499.1000000000000000000000001\"/><rect fill=\"#e41a1c\" height=\"14.4666666666666666666666667\" width=\"19.74\" x=\"0\" y=\"483.0259259259259259259259260\"/><rect fill=\"#e41a1c\" height=\"14.4666666666666666666666667\" width=\"21.93333333333333333333333333\" x=\"0\" y=\"466.9518518518518518518518519\"/><rect fill=\"#e41a1c\" height=\"14.4666666666666666666666666\" width=\"24.12666666666666666666666667\" x=\"0\" y=\"450.8777777777777777777777779\"/><rect fill=\"#e41a1c\" height=\"14.4666666666666666666666667\" width=\"24.12666666666666666666666667\" x=\"0\" y=\"434.8037037037037037037037038\"/><rect fill=\"#e41a1c\" height=\"14.4666666666666666666666667\" width=\"26.32\" x=\"0\" y=\"418.7296296296296296296296297\"/><rect fill=\"#e41a1c\" height=\"14.4666666666666666666666666\" width=\"32.90\" x=\"0\" y=\"402.6555555555555555555555557\"/><rect fill=\"#e41a1c\" height=\"14.4666666666666666666666667\" width=\"39.48\" x=\"0\" y=\"386.5814814814814814814814816\"/><rect fill=\"#e41a1c\" height=\"14.4666666666666666666666667\" width=\"39.48\" x=\"0\" y=\"370.5074074074074074074074075\"/><rect fill=\"#e41a1c\" height=\"14.4666666666666666666666666\" width=\"39.48\" x=\"0\" y=\"354.4333333333333333333333335\"/><rect fill=\"#e41a1c\" height=\"14.4666666666666666666666667\" width=\"41.67333333333333333333333333\" x=\"0\" y=\"338.3592592592592592592592594\"/><rect fill=\"#e41a1c\" height=\"14.4666666666666666666666667\" width=\"43.86666666666666666666666667\" x=\"0\" y=\"322.2851851851851851851851853\"/><rect fill=\"#e41a1c\" height=\"14.4666666666666666666666666\" width=\"46.06\" x=\"0\" y=\"306.2111111111111111111111113\"/><rect fill=\"#e41a1c\" height=\"14.4666666666666666666666667\" width=\"46.06\" x=\"0\" y=\"290.1370370370370370370370372\"/><rect fill=\"#e41a1c\" height=\"14.4666666666666666666666667\" width=\"50.44666666666666666666666667\" x=\"0\" y=\"274.0629629629629629629629631\"/><rect fill=\"#e41a1c\" height=\"14.4666666666666666666666667\" width=\"57.02666666666666666666666667\" x=\"0\" y=\"257.9888888888888888888888890\"/><rect fill=\"#e41a1c\" height=\"14.4666666666666666666666666\" width=\"61.41333333333333333333333333\" x=\"0\" y=\"241.9148148148148148148148150\"/><rect fill=\"#e41a1c\" height=\"14.4666666666666666666666667\" width=\"74.57333333333333333333333331\" x=\"0\" y=\"225.8407407407407407407407409\"/><rect fill=\"#e41a1c\" height=\"14.4666666666666666666666667\" width=\"81.15333333333333333333333331\" x=\"0\" y=\"209.7666666666666666666666668\"/><rect fill=\"#e41a1c\" height=\"14.4666666666666666666666666\" width=\"83.34666666666666666666666669\" x=\"0\" y=\"193.6925925925925925925925928\"/><rect fill=\"#e41a1c\" height=\"14.4666666666666666666666667\" width=\"89.92666666666666666666666669\" x=\"0\" y=\"177.6185185185185185185185187\"/><rect fill=\"#e41a1c\" height=\"14.4666666666666666666666667\" width=\"96.50666666666666666666666669\" x=\"0\" y=\"161.5444444444444444444444446\"/><rect fill=\"#e41a1c\" height=\"14.4666666666666666666666667\" width=\"103.0866666666666666666666667\" x=\"0\" y=\"145.4703703703703703703703705\"/><rect fill=\"#e41a1c\" height=\"14.4666666666666666666666666\" width=\"111.86\" x=\"0\" y=\"129.3962962962962962962962965\"/><rect fill=\"#e41a1c\" height=\"14.4666666666666666666666667\" width=\"120.6333333333333333333333333\" x=\"0\" y=\"113.3222222222222222222222224\"/><rect fill=\"#e41a1c\" height=\"14.46666666666666666666666670\" width=\"125.02\" x=\"0\" y=\"97.24814814814814814814814830\"/><rect fill=\"#e41a1c\" height=\"14.46666666666666666666666660\" width=\"131.6\" x=\"0\" y=\"81.17407407407407407407407430\"/><rect fill=\"#e41a1c\" height=\"14.46666666666666666666666670\" width=\"138.18\" x=\"0\" y=\"65.10000000000000000000000020\"/><rect fill=\"#e41a1c\" height=\"14.46666666666666666666666670\" width=\"346.5466666666666666666666667\" x=\"0\" y=\"49.02592592592592592592592610\"/><rect fill=\"#e41a1c\" height=\"14.46666666666666666666666660\" width=\"359.7066666666666666666666667\" x=\"0\" y=\"32.95185185185185185185185210\"/><rect fill=\"#e41a1c\" height=\"14.46666666666666666666666670\" width=\"458.4066666666666666666666667\" x=\"0\" y=\"16.87777777777777777777777800\"/><rect fill=\"#e41a1c\" height=\"14.46666666666666666666666670\" width=\"475.9533333333333333333333333\" x=\"0\" y=\"0.8037037037037037037037039035\"/></g></g></g></g></g></g></svg>"
      ],
      "text/plain": [
       "<IPython.core.display.SVG object>"
      ]
     },
     "execution_count": 35,
     "metadata": {},
     "output_type": "execute_result"
    }
   ],
   "source": [
    "sorted_totals.bar_chart('state', 'count', height=1000)"
   ]
  },
  {
   "cell_type": "markdown",
   "metadata": {
    "deletable": true,
    "editable": true
   },
   "source": [
    "Leather will try to maintain a reasonable aspect ratio for chart. In this case the chart is too short to display correctly. We've used the `height` argument to make the chart a little taller."
   ]
  },
  {
   "cell_type": "markdown",
   "metadata": {
    "deletable": true,
    "editable": true
   },
   "source": [
    "### Exonerations by age bracket\n",
    "\n",
    "When creating a chart you may omit the column name arguments. If you do so the first and second columns in the table will be used. This is especially useful for charting the output of [`TableSet.aggregate`](http://agate.readthedocs.io/en/1.5.6/api/tableset.html#agate.TableSet.aggregate) or [`Table.bins`](http://agate.readthedocs.io/en/1.5.6/api/table.html#agate.Table.bins)."
   ]
  },
  {
   "cell_type": "code",
   "execution_count": 36,
   "metadata": {
    "collapsed": false,
    "deletable": true,
    "editable": true
   },
   "outputs": [
    {
     "data": {
      "image/svg+xml": [
       "<svg height=\"600\" version=\"1.1\" width=\"800\" xmlns=\"http://www.w3.org/2000/svg\"><g><rect fill=\"#f9f9f9\" height=\"600\" width=\"800\" x=\"0\" y=\"0\"/><g transform=\"translate(40 40)\"><g transform=\"translate(110 0)\"/><g transform=\"translate(0 0)\"><g transform=\"translate(110 0)\"><g class=\"axis bottom\"><text dy=\"1em\" fill=\"#666\" font-family=\"Monaco\" text-anchor=\"middle\" transform=\"\" x=\"305.0\" y=\"506.0\">Count</text><g class=\"tick\"><line stroke=\"#eee\" stroke-width=\"1\" x1=\"203.3333333333333333333333333\" x2=\"203.3333333333333333333333333\" y1=\"0\" y2=\"472.0\"/><text dy=\"1em\" fill=\"#9c9c9c\" font-family=\"Monaco\" text-anchor=\"middle\" x=\"203.3333333333333333333333333\" y=\"476.0\">250</text></g><g class=\"tick\"><line stroke=\"#eee\" stroke-width=\"1\" x1=\"406.6666666666666666666666667\" x2=\"406.6666666666666666666666667\" y1=\"0\" y2=\"472.0\"/><text dy=\"1em\" fill=\"#9c9c9c\" font-family=\"Monaco\" text-anchor=\"middle\" x=\"406.6666666666666666666666667\" y=\"476.0\">500</text></g><g class=\"tick\"><line stroke=\"#eee\" stroke-width=\"1\" x1=\"610\" x2=\"610\" y1=\"0\" y2=\"472.0\"/><text dy=\"1em\" fill=\"#9c9c9c\" font-family=\"Monaco\" text-anchor=\"middle\" x=\"610\" y=\"476.0\">750</text></g><g class=\"tick\"><line stroke=\"#a8a8a8\" stroke-width=\"1\" x1=\"0\" x2=\"0\" y1=\"0\" y2=\"472.0\"/><text dy=\"1em\" fill=\"#9c9c9c\" font-family=\"Monaco\" text-anchor=\"middle\" x=\"0\" y=\"476.0\">0</text></g></g><g class=\"axis left\"><text dy=\"\" fill=\"#666\" font-family=\"Monaco\" text-anchor=\"middle\" transform=\"rotate(270 -88 234)\" x=\"-88\" y=\"234.0\">age</text><g class=\"tick\"><line stroke=\"#eee\" stroke-width=\"1\" x1=\"-4\" x2=\"610.0\" y1=\"442\" y2=\"442\"/><text dy=\"0.32em\" fill=\"#9c9c9c\" font-family=\"Monaco\" text-anchor=\"end\" x=\"-8\" y=\"442\">None</text></g><g class=\"tick\"><line stroke=\"#eee\" stroke-width=\"1\" x1=\"-4\" x2=\"610.0\" y1=\"390\" y2=\"390\"/><text dy=\"0.32em\" fill=\"#9c9c9c\" font-family=\"Monaco\" text-anchor=\"end\" x=\"-8\" y=\"390\">[82 - 91)</text></g><g class=\"tick\"><line stroke=\"#eee\" stroke-width=\"1\" x1=\"-4\" x2=\"610.0\" y1=\"338\" y2=\"338\"/><text dy=\"0.32em\" fill=\"#9c9c9c\" font-family=\"Monaco\" text-anchor=\"end\" x=\"-8\" y=\"338\">[64 - 73)</text></g><g class=\"tick\"><line stroke=\"#eee\" stroke-width=\"1\" x1=\"-4\" x2=\"610.0\" y1=\"286\" y2=\"286\"/><text dy=\"0.32em\" fill=\"#9c9c9c\" font-family=\"Monaco\" text-anchor=\"end\" x=\"-8\" y=\"286\">[55 - 64)</text></g><g class=\"tick\"><line stroke=\"#eee\" stroke-width=\"1\" x1=\"-4\" x2=\"610.0\" y1=\"234\" y2=\"234\"/><text dy=\"0.32em\" fill=\"#9c9c9c\" font-family=\"Monaco\" text-anchor=\"end\" x=\"-8\" y=\"234\">[46 - 55)</text></g><g class=\"tick\"><line stroke=\"#eee\" stroke-width=\"1\" x1=\"-4\" x2=\"610.0\" y1=\"182\" y2=\"182\"/><text dy=\"0.32em\" fill=\"#9c9c9c\" font-family=\"Monaco\" text-anchor=\"end\" x=\"-8\" y=\"182\">[37 - 46)</text></g><g class=\"tick\"><line stroke=\"#eee\" stroke-width=\"1\" x1=\"-4\" x2=\"610.0\" y1=\"130\" y2=\"130\"/><text dy=\"0.32em\" fill=\"#9c9c9c\" font-family=\"Monaco\" text-anchor=\"end\" x=\"-8\" y=\"130\">[28 - 37)</text></g><g class=\"tick\"><line stroke=\"#eee\" stroke-width=\"1\" x1=\"-4\" x2=\"610.0\" y1=\"78\" y2=\"78\"/><text dy=\"0.32em\" fill=\"#9c9c9c\" font-family=\"Monaco\" text-anchor=\"end\" x=\"-8\" y=\"78\">[19 - 28)</text></g><g class=\"tick\"><line stroke=\"#eee\" stroke-width=\"1\" x1=\"-4\" x2=\"610.0\" y1=\"26\" y2=\"26\"/><text dy=\"0.32em\" fill=\"#9c9c9c\" font-family=\"Monaco\" text-anchor=\"end\" x=\"-8\" y=\"26\">[10 - 19)</text></g></g><g><g class=\"series bars\"><rect fill=\"#e41a1c\" height=\"46.8\" width=\"0.8133333333333333333333333331\" x=\"0\" y=\"366.6\"/><rect fill=\"#e41a1c\" height=\"46.8\" width=\"2.440\" x=\"0\" y=\"314.6\"/><rect fill=\"#e41a1c\" height=\"46.8\" width=\"19.520\" x=\"0\" y=\"262.6\"/><rect fill=\"#e41a1c\" height=\"46.8\" width=\"65.880\" x=\"0\" y=\"210.6\"/><rect fill=\"#e41a1c\" height=\"46.8\" width=\"173.240\" x=\"0\" y=\"158.6\"/><rect fill=\"#e41a1c\" height=\"46.8\" width=\"329.40\" x=\"0\" y=\"106.6\"/><rect fill=\"#e41a1c\" height=\"46.8\" width=\"559.5733333333333333333333333\" x=\"0\" y=\"54.6\"/><rect fill=\"#e41a1c\" height=\"46.8\" width=\"184.6266666666666666666666667\" x=\"0\" y=\"2.6\"/></g></g></g></g></g></g></svg>"
      ],
      "text/plain": [
       "<IPython.core.display.SVG object>"
      ]
     },
     "execution_count": 36,
     "metadata": {},
     "output_type": "execute_result"
    }
   ],
   "source": [
    "binned_ages.bar_chart()"
   ]
  },
  {
   "cell_type": "markdown",
   "metadata": {
    "deletable": true,
    "editable": true
   },
   "source": [
    "### Exonerations by year"
   ]
  },
  {
   "cell_type": "code",
   "execution_count": 38,
   "metadata": {
    "collapsed": false,
    "deletable": true,
    "editable": true
   },
   "outputs": [
    {
     "data": {
      "image/svg+xml": [
       "<svg height=\"600\" version=\"1.1\" width=\"800\" xmlns=\"http://www.w3.org/2000/svg\"><g><rect fill=\"#f9f9f9\" height=\"600\" width=\"800\" x=\"0\" y=\"0\"/><g transform=\"translate(40 40)\"><g transform=\"translate(62 0)\"/><g transform=\"translate(0 0)\"><g transform=\"translate(62 0)\"><g class=\"axis bottom\"><text dy=\"1em\" fill=\"#666\" font-family=\"Monaco\" text-anchor=\"middle\" transform=\"\" x=\"329.0\" y=\"506.0\">exonerated</text><g class=\"tick\"><line stroke=\"#eee\" stroke-width=\"1\" x1=\"0\" x2=\"0\" y1=\"0\" y2=\"472.0\"/><text dy=\"1em\" fill=\"#9c9c9c\" font-family=\"Monaco\" text-anchor=\"middle\" x=\"0\" y=\"476.0\">1980</text></g><g class=\"tick\"><line stroke=\"#eee\" stroke-width=\"1\" x1=\"164.50\" x2=\"164.50\" y1=\"0\" y2=\"472.0\"/><text dy=\"1em\" fill=\"#9c9c9c\" font-family=\"Monaco\" text-anchor=\"middle\" x=\"164.50\" y=\"476.0\">1990</text></g><g class=\"tick\"><line stroke=\"#eee\" stroke-width=\"1\" x1=\"329.0\" x2=\"329.0\" y1=\"0\" y2=\"472.0\"/><text dy=\"1em\" fill=\"#9c9c9c\" font-family=\"Monaco\" text-anchor=\"middle\" x=\"329.0\" y=\"476.0\">2000</text></g><g class=\"tick\"><line stroke=\"#eee\" stroke-width=\"1\" x1=\"493.50\" x2=\"493.50\" y1=\"0\" y2=\"472.0\"/><text dy=\"1em\" fill=\"#9c9c9c\" font-family=\"Monaco\" text-anchor=\"middle\" x=\"493.50\" y=\"476.0\">2010</text></g><g class=\"tick\"><line stroke=\"#eee\" stroke-width=\"1\" x1=\"658\" x2=\"658\" y1=\"0\" y2=\"472.0\"/><text dy=\"1em\" fill=\"#9c9c9c\" font-family=\"Monaco\" text-anchor=\"middle\" x=\"658\" y=\"476.0\">2020</text></g></g><g class=\"axis left\"><text dy=\"\" fill=\"#666\" font-family=\"Monaco\" text-anchor=\"middle\" transform=\"rotate(270 -40 234)\" x=\"-40\" y=\"234.0\">count</text><g class=\"tick\"><line stroke=\"#eee\" stroke-width=\"1\" x1=\"-4\" x2=\"658.0\" y1=\"312.0000000000000000000000000\" y2=\"312.0000000000000000000000000\"/><text dy=\"0.32em\" fill=\"#9c9c9c\" font-family=\"Monaco\" text-anchor=\"end\" x=\"-8\" y=\"312.0000000000000000000000000\">50</text></g><g class=\"tick\"><line stroke=\"#eee\" stroke-width=\"1\" x1=\"-4\" x2=\"658.0\" y1=\"156.0000000000000000000000000\" y2=\"156.0000000000000000000000000\"/><text dy=\"0.32em\" fill=\"#9c9c9c\" font-family=\"Monaco\" text-anchor=\"end\" x=\"-8\" y=\"156.0000000000000000000000000\">100</text></g><g class=\"tick\"><line stroke=\"#eee\" stroke-width=\"1\" x1=\"-4\" x2=\"658.0\" y1=\"0\" y2=\"0\"/><text dy=\"0.32em\" fill=\"#9c9c9c\" font-family=\"Monaco\" text-anchor=\"end\" x=\"-8\" y=\"0\">150</text></g><g class=\"tick\"><line stroke=\"#a8a8a8\" stroke-width=\"1\" x1=\"-4\" x2=\"658.0\" y1=\"468\" y2=\"468\"/><text dy=\"0.32em\" fill=\"#9c9c9c\" font-family=\"Monaco\" text-anchor=\"end\" x=\"-8\" y=\"468\">0</text></g></g><g><g class=\"series lines\"><path d=\"M 148.050 399.3600000000000000000000000 L 164.50 383.76 L 180.950 349.4400000000000000000000000 L 197.4 358.8000000000000000000000000 L 213.850 361.9200000000000000000000000 L 230.30 371.2800000000000000000000000 L 246.750 352.5600000000000000000000000 L 263.2 324.4800000000000000000000000 L 279.650 324.4800000000000000000000000 L 296.10 365.04 L 312.550 308.88 L 329.0 237.1200000000000000000000000 L 345.450 199.6800000000000000000000000 L 361.90 287.0400000000000000000000000 L 378.350 227.7600000000000000000000000 L 394.8 290.16 L 411.250 280.8 L 427.70 271.44 L 444.150 246.4800000000000000000000000 L 460.6 268.3200000000000000000000000 L 477.050 190.3200000000000000000000000 L 493.50 243.36 L 509.950 246.4800000000000000000000000 L 526.4 171.6000000000000000000000000 L 542.850 180.9600000000000000000000000 L 559.30 43.6800000000000000000000000 L 575.750 199.6800000000000000000000000\" fill=\"none\" stroke=\"#e41a1c\" stroke-width=\"2\"/></g></g></g></g></g></g></svg>"
      ],
      "text/plain": [
       "<IPython.core.display.SVG object>"
      ]
     },
     "execution_count": 38,
     "metadata": {},
     "output_type": "execute_result"
    }
   ],
   "source": [
    "by_year_exonerated = exonerations.group_by('exonerated')\n",
    "\n",
    "counts = by_year_exonerated.aggregate([\n",
    "    ('count', agate.Count())\n",
    "])\n",
    "\n",
    "counts.order_by('exonerated').line_chart('exonerated', 'count')"
   ]
  },
  {
   "cell_type": "markdown",
   "metadata": {
    "deletable": true,
    "editable": true
   },
   "source": [
    "### Exonerations over time, for most commonly exonerated crimes\n",
    "\n",
    "The real power of agate's exploratory charting comes when we want to compare different facets of data. With leather, agate can automatically render a of chart for each group in a TableSet."
   ]
  },
  {
   "cell_type": "code",
   "execution_count": 41,
   "metadata": {
    "collapsed": false,
    "deletable": true,
    "editable": true
   },
   "outputs": [
    {
     "data": {
      "image/svg+xml": [
       "<svg height=\"1200\" version=\"1.1\" width=\"1600\" xmlns=\"http://www.w3.org/2000/svg\"><g><rect fill=\"#f9f9f9\" height=\"1200\" width=\"1600\" x=\"0\" y=\"0\"/><g><g transform=\"translate(0 0)\"><g><rect fill=\"#f9f9f9\" height=\"600.0\" width=\"800.0\" x=\"0\" y=\"0\"/><g transform=\"translate(40 40)\"><g transform=\"translate(54 0)\"><text fill=\"#333\" font-family=\"Monaco\" font-size=\"16\" x=\"0\" y=\"0\">Child Sex Abuse</text></g><g transform=\"translate(0 20)\"><g transform=\"translate(54 0)\"><g class=\"axis bottom\"><text dy=\"1em\" fill=\"#666\" font-family=\"Monaco\" text-anchor=\"middle\" transform=\"\" x=\"333.0\" y=\"486.0\">exonerated</text><g class=\"tick\"><line stroke=\"#eee\" stroke-width=\"1\" x1=\"0\" x2=\"0\" y1=\"0\" y2=\"452.0\"/><text dy=\"1em\" fill=\"#9c9c9c\" font-family=\"Monaco\" text-anchor=\"middle\" x=\"0\" y=\"456.0\">1980</text></g><g class=\"tick\"><line stroke=\"#eee\" stroke-width=\"1\" x1=\"166.50\" x2=\"166.50\" y1=\"0\" y2=\"452.0\"/><text dy=\"1em\" fill=\"#9c9c9c\" font-family=\"Monaco\" text-anchor=\"middle\" x=\"166.50\" y=\"456.0\">1990</text></g><g class=\"tick\"><line stroke=\"#eee\" stroke-width=\"1\" x1=\"333.0\" x2=\"333.0\" y1=\"0\" y2=\"452.0\"/><text dy=\"1em\" fill=\"#9c9c9c\" font-family=\"Monaco\" text-anchor=\"middle\" x=\"333.0\" y=\"456.0\">2000</text></g><g class=\"tick\"><line stroke=\"#eee\" stroke-width=\"1\" x1=\"499.50\" x2=\"499.50\" y1=\"0\" y2=\"452.0\"/><text dy=\"1em\" fill=\"#9c9c9c\" font-family=\"Monaco\" text-anchor=\"middle\" x=\"499.50\" y=\"456.0\">2010</text></g><g class=\"tick\"><line stroke=\"#eee\" stroke-width=\"1\" x1=\"666\" x2=\"666\" y1=\"0\" y2=\"452.0\"/><text dy=\"1em\" fill=\"#9c9c9c\" font-family=\"Monaco\" text-anchor=\"middle\" x=\"666\" y=\"456.0\">2020</text></g></g><g class=\"axis left\"><text dy=\"\" fill=\"#666\" font-family=\"Monaco\" text-anchor=\"middle\" transform=\"rotate(270 -32 224)\" x=\"-32\" y=\"224.0\">count</text><g class=\"tick\"><line stroke=\"#eee\" stroke-width=\"1\" x1=\"-4\" x2=\"666.0\" y1=\"358.4\" y2=\"358.4\"/><text dy=\"0.32em\" fill=\"#9c9c9c\" font-family=\"Monaco\" text-anchor=\"end\" x=\"-8\" y=\"358.4\">10</text></g><g class=\"tick\"><line stroke=\"#eee\" stroke-width=\"1\" x1=\"-4\" x2=\"666.0\" y1=\"268.8\" y2=\"268.8\"/><text dy=\"0.32em\" fill=\"#9c9c9c\" font-family=\"Monaco\" text-anchor=\"end\" x=\"-8\" y=\"268.8\">20</text></g><g class=\"tick\"><line stroke=\"#eee\" stroke-width=\"1\" x1=\"-4\" x2=\"666.0\" y1=\"179.2\" y2=\"179.2\"/><text dy=\"0.32em\" fill=\"#9c9c9c\" font-family=\"Monaco\" text-anchor=\"end\" x=\"-8\" y=\"179.2\">30</text></g><g class=\"tick\"><line stroke=\"#eee\" stroke-width=\"1\" x1=\"-4\" x2=\"666.0\" y1=\"89.6\" y2=\"89.6\"/><text dy=\"0.32em\" fill=\"#9c9c9c\" font-family=\"Monaco\" text-anchor=\"end\" x=\"-8\" y=\"89.6\">40</text></g><g class=\"tick\"><line stroke=\"#eee\" stroke-width=\"1\" x1=\"-4\" x2=\"666.0\" y1=\"0\" y2=\"0\"/><text dy=\"0.32em\" fill=\"#9c9c9c\" font-family=\"Monaco\" text-anchor=\"end\" x=\"-8\" y=\"0\">50</text></g><g class=\"tick\"><line stroke=\"#a8a8a8\" stroke-width=\"1\" x1=\"-4\" x2=\"666.0\" y1=\"448\" y2=\"448\"/><text dy=\"0.32em\" fill=\"#9c9c9c\" font-family=\"Monaco\" text-anchor=\"end\" x=\"-8\" y=\"448\">0</text></g></g><g><g class=\"series lines\"><path d=\"M 149.850 430.08 L 166.50 412.16 L 183.150 367.36 L 199.8 412.16 L 216.450 439.04 L 233.10 421.12 L 249.750 421.12 L 266.4 403.2 L 283.050 340.48 L 299.70 385.28 L 316.350 421.12 L 333.0 331.52 L 349.650 349.44 L 366.30 403.2 L 382.950 394.24 L 399.6 412.16 L 416.250 358.4 L 432.90 412.16 L 449.550 367.36 L 466.2 349.44 L 482.850 322.56 L 499.50 376.32 L 516.150 349.44 L 532.8 376.32 L 549.450 394.24 L 566.10 385.28 L 582.750 421.12\" fill=\"none\" stroke=\"#e41a1c\" stroke-width=\"2\"/></g></g></g></g></g></g></g><g transform=\"translate(800 0)\"><g><rect fill=\"#f9f9f9\" height=\"600.0\" width=\"800.0\" x=\"0\" y=\"0\"/><g transform=\"translate(40 40)\"><g transform=\"translate(54 0)\"><text fill=\"#333\" font-family=\"Monaco\" font-size=\"16\" x=\"0\" y=\"0\">Sexual Assault</text></g><g transform=\"translate(0 20)\"><g transform=\"translate(54 0)\"><g class=\"axis bottom\"><text dy=\"1em\" fill=\"#666\" font-family=\"Monaco\" text-anchor=\"middle\" transform=\"\" x=\"333.0\" y=\"486.0\">exonerated</text><g class=\"tick\"><line stroke=\"#eee\" stroke-width=\"1\" x1=\"0\" x2=\"0\" y1=\"0\" y2=\"452.0\"/><text dy=\"1em\" fill=\"#9c9c9c\" font-family=\"Monaco\" text-anchor=\"middle\" x=\"0\" y=\"456.0\">1980</text></g><g class=\"tick\"><line stroke=\"#eee\" stroke-width=\"1\" x1=\"166.50\" x2=\"166.50\" y1=\"0\" y2=\"452.0\"/><text dy=\"1em\" fill=\"#9c9c9c\" font-family=\"Monaco\" text-anchor=\"middle\" x=\"166.50\" y=\"456.0\">1990</text></g><g class=\"tick\"><line stroke=\"#eee\" stroke-width=\"1\" x1=\"333.0\" x2=\"333.0\" y1=\"0\" y2=\"452.0\"/><text dy=\"1em\" fill=\"#9c9c9c\" font-family=\"Monaco\" text-anchor=\"middle\" x=\"333.0\" y=\"456.0\">2000</text></g><g class=\"tick\"><line stroke=\"#eee\" stroke-width=\"1\" x1=\"499.50\" x2=\"499.50\" y1=\"0\" y2=\"452.0\"/><text dy=\"1em\" fill=\"#9c9c9c\" font-family=\"Monaco\" text-anchor=\"middle\" x=\"499.50\" y=\"456.0\">2010</text></g><g class=\"tick\"><line stroke=\"#eee\" stroke-width=\"1\" x1=\"666\" x2=\"666\" y1=\"0\" y2=\"452.0\"/><text dy=\"1em\" fill=\"#9c9c9c\" font-family=\"Monaco\" text-anchor=\"middle\" x=\"666\" y=\"456.0\">2020</text></g></g><g class=\"axis left\"><text dy=\"\" fill=\"#666\" font-family=\"Monaco\" text-anchor=\"middle\" transform=\"rotate(270 -32 224)\" x=\"-32\" y=\"224.0\">count</text><g class=\"tick\"><line stroke=\"#eee\" stroke-width=\"1\" x1=\"-4\" x2=\"666.0\" y1=\"358.4\" y2=\"358.4\"/><text dy=\"0.32em\" fill=\"#9c9c9c\" font-family=\"Monaco\" text-anchor=\"end\" x=\"-8\" y=\"358.4\">10</text></g><g class=\"tick\"><line stroke=\"#eee\" stroke-width=\"1\" x1=\"-4\" x2=\"666.0\" y1=\"268.8\" y2=\"268.8\"/><text dy=\"0.32em\" fill=\"#9c9c9c\" font-family=\"Monaco\" text-anchor=\"end\" x=\"-8\" y=\"268.8\">20</text></g><g class=\"tick\"><line stroke=\"#eee\" stroke-width=\"1\" x1=\"-4\" x2=\"666.0\" y1=\"179.2\" y2=\"179.2\"/><text dy=\"0.32em\" fill=\"#9c9c9c\" font-family=\"Monaco\" text-anchor=\"end\" x=\"-8\" y=\"179.2\">30</text></g><g class=\"tick\"><line stroke=\"#eee\" stroke-width=\"1\" x1=\"-4\" x2=\"666.0\" y1=\"89.6\" y2=\"89.6\"/><text dy=\"0.32em\" fill=\"#9c9c9c\" font-family=\"Monaco\" text-anchor=\"end\" x=\"-8\" y=\"89.6\">40</text></g><g class=\"tick\"><line stroke=\"#eee\" stroke-width=\"1\" x1=\"-4\" x2=\"666.0\" y1=\"0\" y2=\"0\"/><text dy=\"0.32em\" fill=\"#9c9c9c\" font-family=\"Monaco\" text-anchor=\"end\" x=\"-8\" y=\"0\">50</text></g><g class=\"tick\"><line stroke=\"#a8a8a8\" stroke-width=\"1\" x1=\"-4\" x2=\"666.0\" y1=\"448\" y2=\"448\"/><text dy=\"0.32em\" fill=\"#9c9c9c\" font-family=\"Monaco\" text-anchor=\"end\" x=\"-8\" y=\"448\">0</text></g></g><g><g class=\"series lines\"><path d=\"M 149.850 439.04 L 166.50 430.08 L 183.150 403.2 L 199.8 385.28 L 216.450 430.08 L 233.10 376.32 L 249.750 385.28 L 266.4 349.44 L 283.050 349.44 L 299.70 421.12 L 316.350 358.4 L 333.0 322.56 L 349.650 340.48 L 366.30 259.84 L 382.950 286.72 L 399.6 358.4 L 416.250 358.4 L 432.90 313.6 L 449.550 322.56 L 466.2 349.44 L 482.850 331.52 L 499.50 322.56 L 516.150 367.36 L 532.8 295.68 L 549.450 331.52 L 566.10 340.48 L 582.750 394.24\" fill=\"none\" stroke=\"#e41a1c\" stroke-width=\"2\"/></g></g></g></g></g></g></g><g transform=\"translate(0 600)\"><g><rect fill=\"#f9f9f9\" height=\"600.0\" width=\"800.0\" x=\"0\" y=\"0\"/><g transform=\"translate(40 40)\"><g transform=\"translate(54 0)\"><text fill=\"#333\" font-family=\"Monaco\" font-size=\"16\" x=\"0\" y=\"0\">Murder</text></g><g transform=\"translate(0 20)\"><g transform=\"translate(54 0)\"><g class=\"axis bottom\"><text dy=\"1em\" fill=\"#666\" font-family=\"Monaco\" text-anchor=\"middle\" transform=\"\" x=\"333.0\" y=\"486.0\">exonerated</text><g class=\"tick\"><line stroke=\"#eee\" stroke-width=\"1\" x1=\"0\" x2=\"0\" y1=\"0\" y2=\"452.0\"/><text dy=\"1em\" fill=\"#9c9c9c\" font-family=\"Monaco\" text-anchor=\"middle\" x=\"0\" y=\"456.0\">1980</text></g><g class=\"tick\"><line stroke=\"#eee\" stroke-width=\"1\" x1=\"166.50\" x2=\"166.50\" y1=\"0\" y2=\"452.0\"/><text dy=\"1em\" fill=\"#9c9c9c\" font-family=\"Monaco\" text-anchor=\"middle\" x=\"166.50\" y=\"456.0\">1990</text></g><g class=\"tick\"><line stroke=\"#eee\" stroke-width=\"1\" x1=\"333.0\" x2=\"333.0\" y1=\"0\" y2=\"452.0\"/><text dy=\"1em\" fill=\"#9c9c9c\" font-family=\"Monaco\" text-anchor=\"middle\" x=\"333.0\" y=\"456.0\">2000</text></g><g class=\"tick\"><line stroke=\"#eee\" stroke-width=\"1\" x1=\"499.50\" x2=\"499.50\" y1=\"0\" y2=\"452.0\"/><text dy=\"1em\" fill=\"#9c9c9c\" font-family=\"Monaco\" text-anchor=\"middle\" x=\"499.50\" y=\"456.0\">2010</text></g><g class=\"tick\"><line stroke=\"#eee\" stroke-width=\"1\" x1=\"666\" x2=\"666\" y1=\"0\" y2=\"452.0\"/><text dy=\"1em\" fill=\"#9c9c9c\" font-family=\"Monaco\" text-anchor=\"middle\" x=\"666\" y=\"456.0\">2020</text></g></g><g class=\"axis left\"><text dy=\"\" fill=\"#666\" font-family=\"Monaco\" text-anchor=\"middle\" transform=\"rotate(270 -32 224)\" x=\"-32\" y=\"224.0\">count</text><g class=\"tick\"><line stroke=\"#eee\" stroke-width=\"1\" x1=\"-4\" x2=\"666.0\" y1=\"358.4\" y2=\"358.4\"/><text dy=\"0.32em\" fill=\"#9c9c9c\" font-family=\"Monaco\" text-anchor=\"end\" x=\"-8\" y=\"358.4\">10</text></g><g class=\"tick\"><line stroke=\"#eee\" stroke-width=\"1\" x1=\"-4\" x2=\"666.0\" y1=\"268.8\" y2=\"268.8\"/><text dy=\"0.32em\" fill=\"#9c9c9c\" font-family=\"Monaco\" text-anchor=\"end\" x=\"-8\" y=\"268.8\">20</text></g><g class=\"tick\"><line stroke=\"#eee\" stroke-width=\"1\" x1=\"-4\" x2=\"666.0\" y1=\"179.2\" y2=\"179.2\"/><text dy=\"0.32em\" fill=\"#9c9c9c\" font-family=\"Monaco\" text-anchor=\"end\" x=\"-8\" y=\"179.2\">30</text></g><g class=\"tick\"><line stroke=\"#eee\" stroke-width=\"1\" x1=\"-4\" x2=\"666.0\" y1=\"89.6\" y2=\"89.6\"/><text dy=\"0.32em\" fill=\"#9c9c9c\" font-family=\"Monaco\" text-anchor=\"end\" x=\"-8\" y=\"89.6\">40</text></g><g class=\"tick\"><line stroke=\"#eee\" stroke-width=\"1\" x1=\"-4\" x2=\"666.0\" y1=\"0\" y2=\"0\"/><text dy=\"0.32em\" fill=\"#9c9c9c\" font-family=\"Monaco\" text-anchor=\"end\" x=\"-8\" y=\"0\">50</text></g><g class=\"tick\"><line stroke=\"#a8a8a8\" stroke-width=\"1\" x1=\"-4\" x2=\"666.0\" y1=\"448\" y2=\"448\"/><text dy=\"0.32em\" fill=\"#9c9c9c\" font-family=\"Monaco\" text-anchor=\"end\" x=\"-8\" y=\"448\">0</text></g></g><g><g class=\"series lines\"><path d=\"M 149.850 331.52 L 166.50 340.48 L 183.150 295.68 L 199.8 340.48 L 216.450 259.84 L 233.10 331.52 L 249.750 277.76 L 266.4 241.92 L 283.050 331.52 L 299.70 349.44 L 316.350 268.8 L 333.0 179.2 L 349.650 107.52 L 366.30 250.88 L 382.950 125.44 L 399.6 224.0 L 416.250 224.0 L 432.90 295.68 L 449.550 241.92 L 466.2 170.24 L 482.850 53.76 L 499.50 197.12 L 516.150 143.36 L 532.8 44.8 L 549.450 71.68 L 566.10 35.84 L 582.750 197.12\" fill=\"none\" stroke=\"#e41a1c\" stroke-width=\"2\"/></g></g></g></g></g></g></g><g transform=\"translate(800 600)\"><g><rect fill=\"#f9f9f9\" height=\"600.0\" width=\"800.0\" x=\"0\" y=\"0\"/><g transform=\"translate(40 40)\"><g transform=\"translate(54 0)\"><text fill=\"#333\" font-family=\"Monaco\" font-size=\"16\" x=\"0\" y=\"0\">Drug Possession or Sale</text></g><g transform=\"translate(0 20)\"><g transform=\"translate(54 0)\"><g class=\"axis bottom\"><text dy=\"1em\" fill=\"#666\" font-family=\"Monaco\" text-anchor=\"middle\" transform=\"\" x=\"333.0\" y=\"486.0\">exonerated</text><g class=\"tick\"><line stroke=\"#eee\" stroke-width=\"1\" x1=\"0\" x2=\"0\" y1=\"0\" y2=\"452.0\"/><text dy=\"1em\" fill=\"#9c9c9c\" font-family=\"Monaco\" text-anchor=\"middle\" x=\"0\" y=\"456.0\">1980</text></g><g class=\"tick\"><line stroke=\"#eee\" stroke-width=\"1\" x1=\"166.50\" x2=\"166.50\" y1=\"0\" y2=\"452.0\"/><text dy=\"1em\" fill=\"#9c9c9c\" font-family=\"Monaco\" text-anchor=\"middle\" x=\"166.50\" y=\"456.0\">1990</text></g><g class=\"tick\"><line stroke=\"#eee\" stroke-width=\"1\" x1=\"333.0\" x2=\"333.0\" y1=\"0\" y2=\"452.0\"/><text dy=\"1em\" fill=\"#9c9c9c\" font-family=\"Monaco\" text-anchor=\"middle\" x=\"333.0\" y=\"456.0\">2000</text></g><g class=\"tick\"><line stroke=\"#eee\" stroke-width=\"1\" x1=\"499.50\" x2=\"499.50\" y1=\"0\" y2=\"452.0\"/><text dy=\"1em\" fill=\"#9c9c9c\" font-family=\"Monaco\" text-anchor=\"middle\" x=\"499.50\" y=\"456.0\">2010</text></g><g class=\"tick\"><line stroke=\"#eee\" stroke-width=\"1\" x1=\"666\" x2=\"666\" y1=\"0\" y2=\"452.0\"/><text dy=\"1em\" fill=\"#9c9c9c\" font-family=\"Monaco\" text-anchor=\"middle\" x=\"666\" y=\"456.0\">2020</text></g></g><g class=\"axis left\"><text dy=\"\" fill=\"#666\" font-family=\"Monaco\" text-anchor=\"middle\" transform=\"rotate(270 -32 224)\" x=\"-32\" y=\"224.0\">count</text><g class=\"tick\"><line stroke=\"#eee\" stroke-width=\"1\" x1=\"-4\" x2=\"666.0\" y1=\"358.4\" y2=\"358.4\"/><text dy=\"0.32em\" fill=\"#9c9c9c\" font-family=\"Monaco\" text-anchor=\"end\" x=\"-8\" y=\"358.4\">10</text></g><g class=\"tick\"><line stroke=\"#eee\" stroke-width=\"1\" x1=\"-4\" x2=\"666.0\" y1=\"268.8\" y2=\"268.8\"/><text dy=\"0.32em\" fill=\"#9c9c9c\" font-family=\"Monaco\" text-anchor=\"end\" x=\"-8\" y=\"268.8\">20</text></g><g class=\"tick\"><line stroke=\"#eee\" stroke-width=\"1\" x1=\"-4\" x2=\"666.0\" y1=\"179.2\" y2=\"179.2\"/><text dy=\"0.32em\" fill=\"#9c9c9c\" font-family=\"Monaco\" text-anchor=\"end\" x=\"-8\" y=\"179.2\">30</text></g><g class=\"tick\"><line stroke=\"#eee\" stroke-width=\"1\" x1=\"-4\" x2=\"666.0\" y1=\"89.6\" y2=\"89.6\"/><text dy=\"0.32em\" fill=\"#9c9c9c\" font-family=\"Monaco\" text-anchor=\"end\" x=\"-8\" y=\"89.6\">40</text></g><g class=\"tick\"><line stroke=\"#eee\" stroke-width=\"1\" x1=\"-4\" x2=\"666.0\" y1=\"0\" y2=\"0\"/><text dy=\"0.32em\" fill=\"#9c9c9c\" font-family=\"Monaco\" text-anchor=\"end\" x=\"-8\" y=\"0\">50</text></g><g class=\"tick\"><line stroke=\"#a8a8a8\" stroke-width=\"1\" x1=\"-4\" x2=\"666.0\" y1=\"448\" y2=\"448\"/><text dy=\"0.32em\" fill=\"#9c9c9c\" font-family=\"Monaco\" text-anchor=\"end\" x=\"-8\" y=\"448\">0</text></g></g><g><g class=\"series lines\"><path d=\"M 149.850 439.04 L 199.8 439.04 L 233.10 421.12 L 249.750 439.04 L 283.050 412.16 L 299.70 439.04 L 316.350 439.04 L 333.0 385.28 L 349.650 412.16 L 366.30 439.04 L 382.950 421.12 L 399.6 439.04 L 416.250 421.12 L 432.90 376.32 L 449.550 421.12 L 466.2 439.04 L 482.850 421.12 L 499.50 403.2 L 516.150 421.12 L 532.8 403.2 L 549.450 349.44 L 566.10 89.6 L 582.750 224.0\" fill=\"none\" stroke=\"#e41a1c\" stroke-width=\"2\"/></g></g></g></g></g></g></g></g></g></svg>"
      ],
      "text/plain": [
       "<IPython.core.display.SVG object>"
      ]
     },
     "execution_count": 41,
     "metadata": {},
     "output_type": "execute_result"
    }
   ],
   "source": [
    "# Filter to crimes with at least 100 exonerations\n",
    "top_crimes = exonerations.group_by('crime').having([\n",
    "    ('count', agate.Count())\n",
    "], lambda t: t['count'] > 100)\n",
    "\n",
    "# Group by year of exoneration\n",
    "by_year = top_crimes.group_by('exonerated')\n",
    "\n",
    "# Count number of exonerations in each year\n",
    "counts = by_year.aggregate([\n",
    "    ('count', agate.Count())\n",
    "])\n",
    "\n",
    "# Group by crime\n",
    "by_crime = counts.group_by('crime')\n",
    "\n",
    "# Sort each group of exonerations by year and chart the results\n",
    "by_crime.order_by('exonerated').line_chart('exonerated', 'count')"
   ]
  },
  {
   "cell_type": "markdown",
   "metadata": {
    "deletable": true,
    "editable": true
   },
   "source": [
    "### Styling charts\n",
    "\n",
    "As mentioned above, leather is designed for making \"good enough\" charts. You are never going to create a polished chart. However, sometimes you may want more control than agate offers through it's own methods. You can take more control over how your charts are presented by using [leather](http://leather.readthedocs.io/) directly."
   ]
  },
  {
   "cell_type": "code",
   "execution_count": 52,
   "metadata": {
    "collapsed": false,
    "deletable": true,
    "editable": true
   },
   "outputs": [
    {
     "data": {
      "image/svg+xml": [
       "<svg height=\"1000\" version=\"1.1\" width=\"800\" xmlns=\"http://www.w3.org/2000/svg\"><g><rect fill=\"#f9f9f9\" height=\"1000\" width=\"800\" x=\"0\" y=\"0\"/><g transform=\"translate(40 40)\"><g transform=\"translate(62 0)\"><text fill=\"#333\" font-family=\"Monaco\" font-size=\"16\" x=\"0\" y=\"0\">Total exonerations by state</text></g><g transform=\"translate(0 20)\"><g transform=\"translate(62 0)\"><g class=\"axis bottom\"><text dy=\"1em\" fill=\"#666\" font-family=\"Monaco\" text-anchor=\"middle\" transform=\"\" x=\"329.0\" y=\"886.0\">Number of exonerations</text><g class=\"tick\"><line stroke=\"#eee\" stroke-width=\"1\" x1=\"219.3333333333333333333333333\" x2=\"219.3333333333333333333333333\" y1=\"0\" y2=\"852.0\"/><text dy=\"1em\" fill=\"#9c9c9c\" font-family=\"Monaco\" text-anchor=\"middle\" x=\"219.3333333333333333333333333\" y=\"856.0\">100</text></g><g class=\"tick\"><line stroke=\"#eee\" stroke-width=\"1\" x1=\"438.6666666666666666666666667\" x2=\"438.6666666666666666666666667\" y1=\"0\" y2=\"852.0\"/><text dy=\"1em\" fill=\"#9c9c9c\" font-family=\"Monaco\" text-anchor=\"middle\" x=\"438.6666666666666666666666667\" y=\"856.0\">200</text></g><g class=\"tick\"><line stroke=\"#eee\" stroke-width=\"1\" x1=\"658\" x2=\"658\" y1=\"0\" y2=\"852.0\"/><text dy=\"1em\" fill=\"#9c9c9c\" font-family=\"Monaco\" text-anchor=\"middle\" x=\"658\" y=\"856.0\">300</text></g><g class=\"tick\"><line stroke=\"#a8a8a8\" stroke-width=\"1\" x1=\"0\" x2=\"0\" y1=\"0\" y2=\"852.0\"/><text dy=\"1em\" fill=\"#9c9c9c\" font-family=\"Monaco\" text-anchor=\"middle\" x=\"0\" y=\"856.0\">0</text></g></g><g class=\"axis left\"><text dy=\"\" fill=\"#666\" font-family=\"Monaco\" text-anchor=\"middle\" transform=\"rotate(270 -40 424)\" x=\"-40\" y=\"424.0\">State</text><g class=\"tick\"><line stroke=\"#eee\" stroke-width=\"1\" x1=\"-4\" x2=\"658.0\" y1=\"840.1481481481481481481481482\" y2=\"840.1481481481481481481481482\"/><text dy=\"0.32em\" fill=\"#9c9c9c\" font-family=\"Monaco\" text-anchor=\"end\" x=\"-8\" y=\"840.1481481481481481481481482\">GU</text></g><g class=\"tick\"><line stroke=\"#eee\" stroke-width=\"1\" x1=\"-4\" x2=\"658.0\" y1=\"824.4444444444444444444444444\" y2=\"824.4444444444444444444444444\"/><text dy=\"0.32em\" fill=\"#9c9c9c\" font-family=\"Monaco\" text-anchor=\"end\" x=\"-8\" y=\"824.4444444444444444444444444\">VT</text></g><g class=\"tick\"><line stroke=\"#eee\" stroke-width=\"1\" x1=\"-4\" x2=\"658.0\" y1=\"808.7407407407407407407407408\" y2=\"808.7407407407407407407407408\"/><text dy=\"0.32em\" fill=\"#9c9c9c\" font-family=\"Monaco\" text-anchor=\"end\" x=\"-8\" y=\"808.7407407407407407407407408\">DE</text></g><g class=\"tick\"><line stroke=\"#eee\" stroke-width=\"1\" x1=\"-4\" x2=\"658.0\" y1=\"793.0370370370370370370370370\" y2=\"793.0370370370370370370370370\"/><text dy=\"0.32em\" fill=\"#9c9c9c\" font-family=\"Monaco\" text-anchor=\"end\" x=\"-8\" y=\"793.0370370370370370370370370\">NH</text></g><g class=\"tick\"><line stroke=\"#eee\" stroke-width=\"1\" x1=\"-4\" x2=\"658.0\" y1=\"777.3333333333333333333333334\" y2=\"777.3333333333333333333333334\"/><text dy=\"0.32em\" fill=\"#9c9c9c\" font-family=\"Monaco\" text-anchor=\"end\" x=\"-8\" y=\"777.3333333333333333333333334\">ME</text></g><g class=\"tick\"><line stroke=\"#eee\" stroke-width=\"1\" x1=\"-4\" x2=\"658.0\" y1=\"761.6296296296296296296296296\" y2=\"761.6296296296296296296296296\"/><text dy=\"0.32em\" fill=\"#9c9c9c\" font-family=\"Monaco\" text-anchor=\"end\" x=\"-8\" y=\"761.6296296296296296296296296\">ID</text></g><g class=\"tick\"><line stroke=\"#eee\" stroke-width=\"1\" x1=\"-4\" x2=\"658.0\" y1=\"745.9259259259259259259259260\" y2=\"745.9259259259259259259259260\"/><text dy=\"0.32em\" fill=\"#9c9c9c\" font-family=\"Monaco\" text-anchor=\"end\" x=\"-8\" y=\"745.9259259259259259259259260\">WY</text></g><g class=\"tick\"><line stroke=\"#eee\" stroke-width=\"1\" x1=\"-4\" x2=\"658.0\" y1=\"730.2222222222222222222222222\" y2=\"730.2222222222222222222222222\"/><text dy=\"0.32em\" fill=\"#9c9c9c\" font-family=\"Monaco\" text-anchor=\"end\" x=\"-8\" y=\"730.2222222222222222222222222\">PR</text></g><g class=\"tick\"><line stroke=\"#eee\" stroke-width=\"1\" x1=\"-4\" x2=\"658.0\" y1=\"714.5185185185185185185185186\" y2=\"714.5185185185185185185185186\"/><text dy=\"0.32em\" fill=\"#9c9c9c\" font-family=\"Monaco\" text-anchor=\"end\" x=\"-8\" y=\"714.5185185185185185185185186\">ND</text></g><g class=\"tick\"><line stroke=\"#eee\" stroke-width=\"1\" x1=\"-4\" x2=\"658.0\" y1=\"698.8148148148148148148148148\" y2=\"698.8148148148148148148148148\"/><text dy=\"0.32em\" fill=\"#9c9c9c\" font-family=\"Monaco\" text-anchor=\"end\" x=\"-8\" y=\"698.8148148148148148148148148\">HI</text></g><g class=\"tick\"><line stroke=\"#eee\" stroke-width=\"1\" x1=\"-4\" x2=\"658.0\" y1=\"683.1111111111111111111111112\" y2=\"683.1111111111111111111111112\"/><text dy=\"0.32em\" fill=\"#9c9c9c\" font-family=\"Monaco\" text-anchor=\"end\" x=\"-8\" y=\"683.1111111111111111111111112\">AK</text></g><g class=\"tick\"><line stroke=\"#eee\" stroke-width=\"1\" x1=\"-4\" x2=\"658.0\" y1=\"667.4074074074074074074074074\" y2=\"667.4074074074074074074074074\"/><text dy=\"0.32em\" fill=\"#9c9c9c\" font-family=\"Monaco\" text-anchor=\"end\" x=\"-8\" y=\"667.4074074074074074074074074\">MIL</text></g><g class=\"tick\"><line stroke=\"#eee\" stroke-width=\"1\" x1=\"-4\" x2=\"658.0\" y1=\"651.7037037037037037037037038\" y2=\"651.7037037037037037037037038\"/><text dy=\"0.32em\" fill=\"#9c9c9c\" font-family=\"Monaco\" text-anchor=\"end\" x=\"-8\" y=\"651.7037037037037037037037038\">CO</text></g><g class=\"tick\"><line stroke=\"#eee\" stroke-width=\"1\" x1=\"-4\" x2=\"658.0\" y1=\"636.0000000000000000000000000\" y2=\"636.0000000000000000000000000\"/><text dy=\"0.32em\" fill=\"#9c9c9c\" font-family=\"Monaco\" text-anchor=\"end\" x=\"-8\" y=\"636.0000000000000000000000000\">NM</text></g><g class=\"tick\"><line stroke=\"#eee\" stroke-width=\"1\" x1=\"-4\" x2=\"658.0\" y1=\"620.2962962962962962962962964\" y2=\"620.2962962962962962962962964\"/><text dy=\"0.32em\" fill=\"#9c9c9c\" font-family=\"Monaco\" text-anchor=\"end\" x=\"-8\" y=\"620.2962962962962962962962964\">SD</text></g><g class=\"tick\"><line stroke=\"#eee\" stroke-width=\"1\" x1=\"-4\" x2=\"658.0\" y1=\"604.5925925925925925925925926\" y2=\"604.5925925925925925925925926\"/><text dy=\"0.32em\" fill=\"#9c9c9c\" font-family=\"Monaco\" text-anchor=\"end\" x=\"-8\" y=\"604.5925925925925925925925926\">RI</text></g><g class=\"tick\"><line stroke=\"#eee\" stroke-width=\"1\" x1=\"-4\" x2=\"658.0\" y1=\"588.8888888888888888888888890\" y2=\"588.8888888888888888888888890\"/><text dy=\"0.32em\" fill=\"#9c9c9c\" font-family=\"Monaco\" text-anchor=\"end\" x=\"-8\" y=\"588.8888888888888888888888890\">AR</text></g><g class=\"tick\"><line stroke=\"#eee\" stroke-width=\"1\" x1=\"-4\" x2=\"658.0\" y1=\"573.1851851851851851851851852\" y2=\"573.1851851851851851851851852\"/><text dy=\"0.32em\" fill=\"#9c9c9c\" font-family=\"Monaco\" text-anchor=\"end\" x=\"-8\" y=\"573.1851851851851851851851852\">SC</text></g><g class=\"tick\"><line stroke=\"#eee\" stroke-width=\"1\" x1=\"-4\" x2=\"658.0\" y1=\"557.4814814814814814814814816\" y2=\"557.4814814814814814814814816\"/><text dy=\"0.32em\" fill=\"#9c9c9c\" font-family=\"Monaco\" text-anchor=\"end\" x=\"-8\" y=\"557.4814814814814814814814816\">KS</text></g><g class=\"tick\"><line stroke=\"#eee\" stroke-width=\"1\" x1=\"-4\" x2=\"658.0\" y1=\"541.7777777777777777777777778\" y2=\"541.7777777777777777777777778\"/><text dy=\"0.32em\" fill=\"#9c9c9c\" font-family=\"Monaco\" text-anchor=\"end\" x=\"-8\" y=\"541.7777777777777777777777778\">MT</text></g><g class=\"tick\"><line stroke=\"#eee\" stroke-width=\"1\" x1=\"-4\" x2=\"658.0\" y1=\"526.0740740740740740740740742\" y2=\"526.0740740740740740740740742\"/><text dy=\"0.32em\" fill=\"#9c9c9c\" font-family=\"Monaco\" text-anchor=\"end\" x=\"-8\" y=\"526.0740740740740740740740742\">NE</text></g><g class=\"tick\"><line stroke=\"#eee\" stroke-width=\"1\" x1=\"-4\" x2=\"658.0\" y1=\"510.3703703703703703703703704\" y2=\"510.3703703703703703703703704\"/><text dy=\"0.32em\" fill=\"#9c9c9c\" font-family=\"Monaco\" text-anchor=\"end\" x=\"-8\" y=\"510.3703703703703703703703704\">NV</text></g><g class=\"tick\"><line stroke=\"#eee\" stroke-width=\"1\" x1=\"-4\" x2=\"658.0\" y1=\"494.6666666666666666666666668\" y2=\"494.6666666666666666666666668\"/><text dy=\"0.32em\" fill=\"#9c9c9c\" font-family=\"Monaco\" text-anchor=\"end\" x=\"-8\" y=\"494.6666666666666666666666668\">WV</text></g><g class=\"tick\"><line stroke=\"#eee\" stroke-width=\"1\" x1=\"-4\" x2=\"658.0\" y1=\"478.9629629629629629629629630\" y2=\"478.9629629629629629629629630\"/><text dy=\"0.32em\" fill=\"#9c9c9c\" font-family=\"Monaco\" text-anchor=\"end\" x=\"-8\" y=\"478.9629629629629629629629630\">MN</text></g><g class=\"tick\"><line stroke=\"#eee\" stroke-width=\"1\" x1=\"-4\" x2=\"658.0\" y1=\"463.2592592592592592592592594\" y2=\"463.2592592592592592592592594\"/><text dy=\"0.32em\" fill=\"#9c9c9c\" font-family=\"Monaco\" text-anchor=\"end\" x=\"-8\" y=\"463.2592592592592592592592594\">OR</text></g><g class=\"tick\"><line stroke=\"#eee\" stroke-width=\"1\" x1=\"-4\" x2=\"658.0\" y1=\"447.5555555555555555555555556\" y2=\"447.5555555555555555555555556\"/><text dy=\"0.32em\" fill=\"#9c9c9c\" font-family=\"Monaco\" text-anchor=\"end\" x=\"-8\" y=\"447.5555555555555555555555556\">KY</text></g><g class=\"tick\"><line stroke=\"#eee\" stroke-width=\"1\" x1=\"-4\" x2=\"658.0\" y1=\"431.8518518518518518518518520\" y2=\"431.8518518518518518518518520\"/><text dy=\"0.32em\" fill=\"#9c9c9c\" font-family=\"Monaco\" text-anchor=\"end\" x=\"-8\" y=\"431.8518518518518518518518520\">UT</text></g><g class=\"tick\"><line stroke=\"#eee\" stroke-width=\"1\" x1=\"-4\" x2=\"658.0\" y1=\"416.1481481481481481481481482\" y2=\"416.1481481481481481481481482\"/><text dy=\"0.32em\" fill=\"#9c9c9c\" font-family=\"Monaco\" text-anchor=\"end\" x=\"-8\" y=\"416.1481481481481481481481482\">IA</text></g><g class=\"tick\"><line stroke=\"#eee\" stroke-width=\"1\" x1=\"-4\" x2=\"658.0\" y1=\"400.4444444444444444444444446\" y2=\"400.4444444444444444444444446\"/><text dy=\"0.32em\" fill=\"#9c9c9c\" font-family=\"Monaco\" text-anchor=\"end\" x=\"-8\" y=\"400.4444444444444444444444446\">MS</text></g><g class=\"tick\"><line stroke=\"#eee\" stroke-width=\"1\" x1=\"-4\" x2=\"658.0\" y1=\"384.7407407407407407407407408\" y2=\"384.7407407407407407407407408\"/><text dy=\"0.32em\" fill=\"#9c9c9c\" font-family=\"Monaco\" text-anchor=\"end\" x=\"-8\" y=\"384.7407407407407407407407408\">TN</text></g><g class=\"tick\"><line stroke=\"#eee\" stroke-width=\"1\" x1=\"-4\" x2=\"658.0\" y1=\"369.0370370370370370370370372\" y2=\"369.0370370370370370370370372\"/><text dy=\"0.32em\" fill=\"#9c9c9c\" font-family=\"Monaco\" text-anchor=\"end\" x=\"-8\" y=\"369.0370370370370370370370372\">IN</text></g><g class=\"tick\"><line stroke=\"#eee\" stroke-width=\"1\" x1=\"-4\" x2=\"658.0\" y1=\"353.3333333333333333333333334\" y2=\"353.3333333333333333333333334\"/><text dy=\"0.32em\" fill=\"#9c9c9c\" font-family=\"Monaco\" text-anchor=\"end\" x=\"-8\" y=\"353.3333333333333333333333334\">CT</text></g><g class=\"tick\"><line stroke=\"#eee\" stroke-width=\"1\" x1=\"-4\" x2=\"658.0\" y1=\"337.6296296296296296296296298\" y2=\"337.6296296296296296296296298\"/><text dy=\"0.32em\" fill=\"#9c9c9c\" font-family=\"Monaco\" text-anchor=\"end\" x=\"-8\" y=\"337.6296296296296296296296298\">DC</text></g><g class=\"tick\"><line stroke=\"#eee\" stroke-width=\"1\" x1=\"-4\" x2=\"658.0\" y1=\"321.9259259259259259259259260\" y2=\"321.9259259259259259259259260\"/><text dy=\"0.32em\" fill=\"#9c9c9c\" font-family=\"Monaco\" text-anchor=\"end\" x=\"-8\" y=\"321.9259259259259259259259260\">NJ</text></g><g class=\"tick\"><line stroke=\"#eee\" stroke-width=\"1\" x1=\"-4\" x2=\"658.0\" y1=\"306.2222222222222222222222224\" y2=\"306.2222222222222222222222224\"/><text dy=\"0.32em\" fill=\"#9c9c9c\" font-family=\"Monaco\" text-anchor=\"end\" x=\"-8\" y=\"306.2222222222222222222222224\">AZ</text></g><g class=\"tick\"><line stroke=\"#eee\" stroke-width=\"1\" x1=\"-4\" x2=\"658.0\" y1=\"290.5185185185185185185185186\" y2=\"290.5185185185185185185185186\"/><text dy=\"0.32em\" fill=\"#9c9c9c\" font-family=\"Monaco\" text-anchor=\"end\" x=\"-8\" y=\"290.5185185185185185185185186\">MD</text></g><g class=\"tick\"><line stroke=\"#eee\" stroke-width=\"1\" x1=\"-4\" x2=\"658.0\" y1=\"274.8148148148148148148148150\" y2=\"274.8148148148148148148148150\"/><text dy=\"0.32em\" fill=\"#9c9c9c\" font-family=\"Monaco\" text-anchor=\"end\" x=\"-8\" y=\"274.8148148148148148148148150\">AL</text></g><g class=\"tick\"><line stroke=\"#eee\" stroke-width=\"1\" x1=\"-4\" x2=\"658.0\" y1=\"259.1111111111111111111111112\" y2=\"259.1111111111111111111111112\"/><text dy=\"0.32em\" fill=\"#9c9c9c\" font-family=\"Monaco\" text-anchor=\"end\" x=\"-8\" y=\"259.1111111111111111111111112\">GA</text></g><g class=\"tick\"><line stroke=\"#eee\" stroke-width=\"1\" x1=\"-4\" x2=\"658.0\" y1=\"243.4074074074074074074074076\" y2=\"243.4074074074074074074074076\"/><text dy=\"0.32em\" fill=\"#9c9c9c\" font-family=\"Monaco\" text-anchor=\"end\" x=\"-8\" y=\"243.4074074074074074074074076\">OK</text></g><g class=\"tick\"><line stroke=\"#eee\" stroke-width=\"1\" x1=\"-4\" x2=\"658.0\" y1=\"227.7037037037037037037037038\" y2=\"227.7037037037037037037037038\"/><text dy=\"0.32em\" fill=\"#9c9c9c\" font-family=\"Monaco\" text-anchor=\"end\" x=\"-8\" y=\"227.7037037037037037037037038\">NC</text></g><g class=\"tick\"><line stroke=\"#eee\" stroke-width=\"1\" x1=\"-4\" x2=\"658.0\" y1=\"212.0000000000000000000000002\" y2=\"212.0000000000000000000000002\"/><text dy=\"0.32em\" fill=\"#9c9c9c\" font-family=\"Monaco\" text-anchor=\"end\" x=\"-8\" y=\"212.0000000000000000000000002\">MO</text></g><g class=\"tick\"><line stroke=\"#eee\" stroke-width=\"1\" x1=\"-4\" x2=\"658.0\" y1=\"196.2962962962962962962962964\" y2=\"196.2962962962962962962962964\"/><text dy=\"0.32em\" fill=\"#9c9c9c\" font-family=\"Monaco\" text-anchor=\"end\" x=\"-8\" y=\"196.2962962962962962962962964\">WA</text></g><g class=\"tick\"><line stroke=\"#eee\" stroke-width=\"1\" x1=\"-4\" x2=\"658.0\" y1=\"180.5925925925925925925925928\" y2=\"180.5925925925925925925925928\"/><text dy=\"0.32em\" fill=\"#9c9c9c\" font-family=\"Monaco\" text-anchor=\"end\" x=\"-8\" y=\"180.5925925925925925925925928\">VA</text></g><g class=\"tick\"><line stroke=\"#eee\" stroke-width=\"1\" x1=\"-4\" x2=\"658.0\" y1=\"164.8888888888888888888888890\" y2=\"164.8888888888888888888888890\"/><text dy=\"0.32em\" fill=\"#9c9c9c\" font-family=\"Monaco\" text-anchor=\"end\" x=\"-8\" y=\"164.8888888888888888888888890\">MA</text></g><g class=\"tick\"><line stroke=\"#eee\" stroke-width=\"1\" x1=\"-4\" x2=\"658.0\" y1=\"149.1851851851851851851851854\" y2=\"149.1851851851851851851851854\"/><text dy=\"0.32em\" fill=\"#9c9c9c\" font-family=\"Monaco\" text-anchor=\"end\" x=\"-8\" y=\"149.1851851851851851851851854\">WI</text></g><g class=\"tick\"><line stroke=\"#eee\" stroke-width=\"1\" x1=\"-4\" x2=\"658.0\" y1=\"133.4814814814814814814814816\" y2=\"133.4814814814814814814814816\"/><text dy=\"0.32em\" fill=\"#9c9c9c\" font-family=\"Monaco\" text-anchor=\"end\" x=\"-8\" y=\"133.4814814814814814814814816\">LA</text></g><g class=\"tick\"><line stroke=\"#eee\" stroke-width=\"1\" x1=\"-4\" x2=\"658.0\" y1=\"117.7777777777777777777777780\" y2=\"117.7777777777777777777777780\"/><text dy=\"0.32em\" fill=\"#9c9c9c\" font-family=\"Monaco\" text-anchor=\"end\" x=\"-8\" y=\"117.7777777777777777777777780\">OH</text></g><g class=\"tick\"><line stroke=\"#eee\" stroke-width=\"1\" x1=\"-4\" x2=\"658.0\" y1=\"102.0740740740740740740740742\" y2=\"102.0740740740740740740740742\"/><text dy=\"0.32em\" fill=\"#9c9c9c\" font-family=\"Monaco\" text-anchor=\"end\" x=\"-8\" y=\"102.0740740740740740740740742\">PA</text></g><g class=\"tick\"><line stroke=\"#eee\" stroke-width=\"1\" x1=\"-4\" x2=\"658.0\" y1=\"86.37037037037037037037037055\" y2=\"86.37037037037037037037037055\"/><text dy=\"0.32em\" fill=\"#9c9c9c\" font-family=\"Monaco\" text-anchor=\"end\" x=\"-8\" y=\"86.37037037037037037037037055\">FL</text></g><g class=\"tick\"><line stroke=\"#eee\" stroke-width=\"1\" x1=\"-4\" x2=\"658.0\" y1=\"70.66666666666666666666666685\" y2=\"70.66666666666666666666666685\"/><text dy=\"0.32em\" fill=\"#9c9c9c\" font-family=\"Monaco\" text-anchor=\"end\" x=\"-8\" y=\"70.66666666666666666666666685\">MI</text></g><g class=\"tick\"><line stroke=\"#eee\" stroke-width=\"1\" x1=\"-4\" x2=\"658.0\" y1=\"54.96296296296296296296296315\" y2=\"54.96296296296296296296296315\"/><text dy=\"0.32em\" fill=\"#9c9c9c\" font-family=\"Monaco\" text-anchor=\"end\" x=\"-8\" y=\"54.96296296296296296296296315\">IL</text></g><g class=\"tick\"><line stroke=\"#eee\" stroke-width=\"1\" x1=\"-4\" x2=\"658.0\" y1=\"39.25925925925925925925925945\" y2=\"39.25925925925925925925925945\"/><text dy=\"0.32em\" fill=\"#9c9c9c\" font-family=\"Monaco\" text-anchor=\"end\" x=\"-8\" y=\"39.25925925925925925925925945\">CA</text></g><g class=\"tick\"><line stroke=\"#eee\" stroke-width=\"1\" x1=\"-4\" x2=\"658.0\" y1=\"23.55555555555555555555555575\" y2=\"23.55555555555555555555555575\"/><text dy=\"0.32em\" fill=\"#9c9c9c\" font-family=\"Monaco\" text-anchor=\"end\" x=\"-8\" y=\"23.55555555555555555555555575\">NY</text></g><g class=\"tick\"><line stroke=\"#eee\" stroke-width=\"1\" x1=\"-4\" x2=\"658.0\" y1=\"7.85185185185185185185185205\" y2=\"7.85185185185185185185185205\"/><text dy=\"0.32em\" fill=\"#9c9c9c\" font-family=\"Monaco\" text-anchor=\"end\" x=\"-8\" y=\"7.85185185185185185185185205\">TX</text></g></g><g><g class=\"series bars\"><rect fill=\"#e41a1c\" height=\"14.1333333333333333333333333\" width=\"2.193333333333333333333333333\" x=\"0\" y=\"833.0814814814814814814814815\"/><rect fill=\"#e41a1c\" height=\"14.1333333333333333333333333\" width=\"2.193333333333333333333333333\" x=\"0\" y=\"817.3777777777777777777777778\"/><rect fill=\"#e41a1c\" height=\"14.1333333333333333333333333\" width=\"2.193333333333333333333333333\" x=\"0\" y=\"801.6740740740740740740740741\"/><rect fill=\"#e41a1c\" height=\"14.1333333333333333333333333\" width=\"2.193333333333333333333333333\" x=\"0\" y=\"785.9703703703703703703703704\"/><rect fill=\"#e41a1c\" height=\"14.1333333333333333333333333\" width=\"4.386666666666666666666666667\" x=\"0\" y=\"770.2666666666666666666666667\"/><rect fill=\"#e41a1c\" height=\"14.1333333333333333333333333\" width=\"4.386666666666666666666666667\" x=\"0\" y=\"754.5629629629629629629629630\"/><rect fill=\"#e41a1c\" height=\"14.1333333333333333333333333\" width=\"6.58\" x=\"0\" y=\"738.8592592592592592592592593\"/><rect fill=\"#e41a1c\" height=\"14.1333333333333333333333333\" width=\"6.58\" x=\"0\" y=\"723.1555555555555555555555556\"/><rect fill=\"#e41a1c\" height=\"14.1333333333333333333333333\" width=\"6.58\" x=\"0\" y=\"707.4518518518518518518518519\"/><rect fill=\"#e41a1c\" height=\"14.1333333333333333333333333\" width=\"6.58\" x=\"0\" y=\"691.7481481481481481481481482\"/><rect fill=\"#e41a1c\" height=\"14.1333333333333333333333333\" width=\"8.773333333333333333333333331\" x=\"0\" y=\"676.0444444444444444444444445\"/><rect fill=\"#e41a1c\" height=\"14.1333333333333333333333333\" width=\"8.773333333333333333333333331\" x=\"0\" y=\"660.3407407407407407407407408\"/><rect fill=\"#e41a1c\" height=\"14.1333333333333333333333333\" width=\"8.773333333333333333333333331\" x=\"0\" y=\"644.6370370370370370370370371\"/><rect fill=\"#e41a1c\" height=\"14.1333333333333333333333333\" width=\"8.773333333333333333333333331\" x=\"0\" y=\"628.9333333333333333333333334\"/><rect fill=\"#e41a1c\" height=\"14.1333333333333333333333333\" width=\"10.96666666666666666666666667\" x=\"0\" y=\"613.2296296296296296296296297\"/><rect fill=\"#e41a1c\" height=\"14.1333333333333333333333333\" width=\"10.96666666666666666666666667\" x=\"0\" y=\"597.5259259259259259259259260\"/><rect fill=\"#e41a1c\" height=\"14.1333333333333333333333333\" width=\"10.96666666666666666666666667\" x=\"0\" y=\"581.8222222222222222222222223\"/><rect fill=\"#e41a1c\" height=\"14.1333333333333333333333333\" width=\"13.16\" x=\"0\" y=\"566.1185185185185185185185186\"/><rect fill=\"#e41a1c\" height=\"14.1333333333333333333333333\" width=\"13.16\" x=\"0\" y=\"550.4148148148148148148148149\"/><rect fill=\"#e41a1c\" height=\"14.1333333333333333333333333\" width=\"13.16\" x=\"0\" y=\"534.7111111111111111111111112\"/><rect fill=\"#e41a1c\" height=\"14.1333333333333333333333333\" width=\"19.74\" x=\"0\" y=\"519.0074074074074074074074075\"/><rect fill=\"#e41a1c\" height=\"14.1333333333333333333333333\" width=\"19.74\" x=\"0\" y=\"503.3037037037037037037037038\"/><rect fill=\"#e41a1c\" height=\"14.1333333333333333333333333\" width=\"19.74\" x=\"0\" y=\"487.6000000000000000000000001\"/><rect fill=\"#e41a1c\" height=\"14.1333333333333333333333333\" width=\"19.74\" x=\"0\" y=\"471.8962962962962962962962964\"/><rect fill=\"#e41a1c\" height=\"14.1333333333333333333333333\" width=\"21.93333333333333333333333333\" x=\"0\" y=\"456.1925925925925925925925927\"/><rect fill=\"#e41a1c\" height=\"14.1333333333333333333333333\" width=\"24.12666666666666666666666667\" x=\"0\" y=\"440.4888888888888888888888890\"/><rect fill=\"#e41a1c\" height=\"14.1333333333333333333333333\" width=\"24.12666666666666666666666667\" x=\"0\" y=\"424.7851851851851851851851853\"/><rect fill=\"#e41a1c\" height=\"14.1333333333333333333333333\" width=\"26.32\" x=\"0\" y=\"409.0814814814814814814814816\"/><rect fill=\"#e41a1c\" height=\"14.1333333333333333333333333\" width=\"32.90\" x=\"0\" y=\"393.3777777777777777777777779\"/><rect fill=\"#e41a1c\" height=\"14.1333333333333333333333333\" width=\"39.48\" x=\"0\" y=\"377.6740740740740740740740742\"/><rect fill=\"#e41a1c\" height=\"14.1333333333333333333333333\" width=\"39.48\" x=\"0\" y=\"361.9703703703703703703703705\"/><rect fill=\"#e41a1c\" height=\"14.1333333333333333333333333\" width=\"39.48\" x=\"0\" y=\"346.2666666666666666666666668\"/><rect fill=\"#e41a1c\" height=\"14.1333333333333333333333333\" width=\"41.67333333333333333333333333\" x=\"0\" y=\"330.5629629629629629629629631\"/><rect fill=\"#e41a1c\" height=\"14.1333333333333333333333333\" width=\"43.86666666666666666666666667\" x=\"0\" y=\"314.8592592592592592592592594\"/><rect fill=\"#e41a1c\" height=\"14.1333333333333333333333333\" width=\"46.06\" x=\"0\" y=\"299.1555555555555555555555557\"/><rect fill=\"#e41a1c\" height=\"14.1333333333333333333333333\" width=\"46.06\" x=\"0\" y=\"283.4518518518518518518518520\"/><rect fill=\"#e41a1c\" height=\"14.1333333333333333333333333\" width=\"50.44666666666666666666666667\" x=\"0\" y=\"267.7481481481481481481481483\"/><rect fill=\"#e41a1c\" height=\"14.1333333333333333333333333\" width=\"57.02666666666666666666666667\" x=\"0\" y=\"252.0444444444444444444444446\"/><rect fill=\"#e41a1c\" height=\"14.1333333333333333333333333\" width=\"61.41333333333333333333333333\" x=\"0\" y=\"236.3407407407407407407407409\"/><rect fill=\"#e41a1c\" height=\"14.1333333333333333333333333\" width=\"74.57333333333333333333333331\" x=\"0\" y=\"220.6370370370370370370370372\"/><rect fill=\"#e41a1c\" height=\"14.1333333333333333333333333\" width=\"81.15333333333333333333333331\" x=\"0\" y=\"204.9333333333333333333333335\"/><rect fill=\"#e41a1c\" height=\"14.1333333333333333333333333\" width=\"83.34666666666666666666666669\" x=\"0\" y=\"189.2296296296296296296296298\"/><rect fill=\"#e41a1c\" height=\"14.1333333333333333333333333\" width=\"89.92666666666666666666666669\" x=\"0\" y=\"173.5259259259259259259259261\"/><rect fill=\"#e41a1c\" height=\"14.1333333333333333333333333\" width=\"96.50666666666666666666666669\" x=\"0\" y=\"157.8222222222222222222222224\"/><rect fill=\"#e41a1c\" height=\"14.1333333333333333333333333\" width=\"103.0866666666666666666666667\" x=\"0\" y=\"142.1185185185185185185185187\"/><rect fill=\"#e41a1c\" height=\"14.1333333333333333333333333\" width=\"111.86\" x=\"0\" y=\"126.4148148148148148148148150\"/><rect fill=\"#e41a1c\" height=\"14.1333333333333333333333333\" width=\"120.6333333333333333333333333\" x=\"0\" y=\"110.7111111111111111111111113\"/><rect fill=\"#e41a1c\" height=\"14.13333333333333333333333332\" width=\"125.02\" x=\"0\" y=\"95.00740740740740740740740758\"/><rect fill=\"#e41a1c\" height=\"14.13333333333333333333333334\" width=\"131.6\" x=\"0\" y=\"79.30370370370370370370370388\"/><rect fill=\"#e41a1c\" height=\"14.13333333333333333333333334\" width=\"138.18\" x=\"0\" y=\"63.60000000000000000000000018\"/><rect fill=\"#e41a1c\" height=\"14.13333333333333333333333334\" width=\"346.5466666666666666666666667\" x=\"0\" y=\"47.89629629629629629629629648\"/><rect fill=\"#e41a1c\" height=\"14.13333333333333333333333334\" width=\"359.7066666666666666666666667\" x=\"0\" y=\"32.19259259259259259259259278\"/><rect fill=\"#e41a1c\" height=\"14.13333333333333333333333334\" width=\"458.4066666666666666666666667\" x=\"0\" y=\"16.48888888888888888888888908\"/><rect fill=\"#e41a1c\" height=\"14.13333333333333333333333334\" width=\"475.9533333333333333333333333\" x=\"0\" y=\"0.785185185185185185185185385\"/></g></g></g></g></g></g></svg>"
      ],
      "text/plain": [
       "<IPython.core.display.SVG object>"
      ]
     },
     "execution_count": 52,
     "metadata": {},
     "output_type": "execute_result"
    }
   ],
   "source": [
    "import leather\n",
    "\n",
    "chart = leather.Chart('Total exonerations by state')\n",
    "chart.add_y_axis(name='State')\n",
    "chart.add_x_axis(name='Number of exonerations')\n",
    "chart.add_bars(sorted_totals, x='count', y='state')\n",
    "chart.to_svg(height=1000)"
   ]
  },
  {
   "cell_type": "markdown",
   "metadata": {
    "collapsed": true,
    "deletable": true,
    "editable": true
   },
   "source": [
    "Where to go next\n",
    "================\n",
    "\n",
    "This tutorial only scratches the surface of agate's features. For many more ideas on how to apply agate, check out the [`Cookbook`](http://agate.readthedocs.io/en/1.5.6/cookbook.html), which includes dozens of examples of specific features of agate as well as recipes for substituting agate for Excel, SQL, R and more. Also check out the agate's [`Extensions`](http://agate.readthedocs.io/en/1.5.6/extensions.html) which add support for reading/writing SQL tables, performing statistical analysis and more.\n",
    "\n",
    "Also, if you're going to be doing data processing in Python you really ought to check out [`proof`](http://proof.readthedocs.org/en/1.5.6/), a library for building data processing pipelines that are repeatable and self-documenting. It will make your code cleaner and save you tons of time.\n",
    "\n",
    "Good luck in your reporting!"
   ]
  },
  {
   "cell_type": "code",
   "execution_count": null,
   "metadata": {
    "collapsed": true,
    "deletable": true,
    "editable": true
   },
   "outputs": [],
   "source": []
  }
 ],
 "metadata": {
  "kernelspec": {
   "display_name": "Python 3",
   "language": "python",
   "name": "python3"
  },
  "language_info": {
   "codemirror_mode": {
    "name": "ipython",
    "version": 3
   },
   "file_extension": ".py",
   "mimetype": "text/x-python",
   "name": "python",
   "nbconvert_exporter": "python",
   "pygments_lexer": "ipython3",
   "version": "3.6.0"
  }
 },
 "nbformat": 4,
 "nbformat_minor": 0
}
