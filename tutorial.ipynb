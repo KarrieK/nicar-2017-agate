{
 "cells": [
  {
   "cell_type": "markdown",
   "metadata": {
    "deletable": true,
    "editable": true
   },
   "source": [
    "# NICAR 2017 agate hands-on    "
   ]
  },
  {
   "cell_type": "markdown",
   "metadata": {
    "deletable": true,
    "editable": true
   },
   "source": [
    "## How do I import agate?"
   ]
  },
  {
   "cell_type": "code",
   "execution_count": 3,
   "metadata": {
    "collapsed": false,
    "deletable": true,
    "editable": true
   },
   "outputs": [
    {
     "name": "stderr",
     "output_type": "stream",
     "text": [
      "/Users/cgroskopf/.pyenv/versions/3.6.0/lib/python3.6/json/encoder.py:199: DeprecationWarning: Interpreting naive datetime as local 2017-02-27 09:35:52.680895. Please add timezone info to timestamps.\n"
     ]
    }
   ],
   "source": [
    "import agate"
   ]
  },
  {
   "cell_type": "markdown",
   "metadata": {
    "deletable": true,
    "editable": true
   },
   "source": [
    "## How do I load my alligator data from a CSV?"
   ]
  },
  {
   "cell_type": "code",
   "execution_count": 4,
   "metadata": {
    "collapsed": false,
    "deletable": true,
    "editable": true
   },
   "outputs": [
    {
     "name": "stderr",
     "output_type": "stream",
     "text": [
      "/Users/cgroskopf/src/nicar-2017-agate/.venv/lib/python3.6/site-packages/babel/localtime/_unix.py:8: DeprecationWarning: Flags not at the start of the expression ^Time Zone: (.*)$(?m (truncated)\n",
      "/Users/cgroskopf/.pyenv/versions/3.6.0/lib/python3.6/json/encoder.py:199: DeprecationWarning: Interpreting naive datetime as local 2017-02-27 09:35:53.949458. Please add timezone info to timestamps.\n"
     ]
    }
   ],
   "source": [
    "alligators = agate.Table.from_csv('alligators.csv')"
   ]
  },
  {
   "cell_type": "markdown",
   "metadata": {
    "deletable": true,
    "editable": true
   },
   "source": [
    "## How do I figure out what the data are?"
   ]
  },
  {
   "cell_type": "code",
   "execution_count": 5,
   "metadata": {
    "collapsed": false,
    "deletable": true,
    "editable": true,
    "scrolled": true
   },
   "outputs": [
    {
     "name": "stdout",
     "output_type": "stream",
     "text": [
      "| column       | data_type |\n",
      "| ------------ | --------- |\n",
      "| Year         | Number    |\n",
      "| Area Number  | Number    |\n",
      "| Area Name    | Text      |\n",
      "| Carcass Size | Text      |\n",
      "| Size         | Number    |\n",
      "| Harvest Date | Date      |\n",
      "\n"
     ]
    },
    {
     "name": "stderr",
     "output_type": "stream",
     "text": [
      "/Users/cgroskopf/.pyenv/versions/3.6.0/lib/python3.6/json/encoder.py:199: DeprecationWarning: Interpreting naive datetime as local 2017-02-27 09:36:28.104884. Please add timezone info to timestamps.\n"
     ]
    }
   ],
   "source": [
    "print(alligators)"
   ]
  },
  {
   "cell_type": "code",
   "execution_count": 6,
   "metadata": {
    "collapsed": false,
    "deletable": true,
    "editable": true
   },
   "outputs": [
    {
     "data": {
      "text/plain": [
       "87181"
      ]
     },
     "execution_count": 6,
     "metadata": {},
     "output_type": "execute_result"
    },
    {
     "name": "stderr",
     "output_type": "stream",
     "text": [
      "/Users/cgroskopf/.pyenv/versions/3.6.0/lib/python3.6/json/encoder.py:199: DeprecationWarning: Interpreting naive datetime as local 2017-02-27 09:36:28.112360. Please add timezone info to timestamps.\n"
     ]
    }
   ],
   "source": [
    "len(alligators)"
   ]
  },
  {
   "cell_type": "code",
   "execution_count": 7,
   "metadata": {
    "collapsed": false,
    "deletable": true,
    "editable": true
   },
   "outputs": [
    {
     "name": "stdout",
     "output_type": "stream",
     "text": [
      "|  Year | Area Number | Area Name   | Carcass Size  |    Size | Harvest Date |\n",
      "| ----- | ----------- | ----------- | ------------- | ------- | ------------ |\n",
      "| 2,000 |         101 | LAKE PIERCE | 11 ft. 5 in.  | 11.417… |   2000-09-22 |\n",
      "| 2,000 |         101 | LAKE PIERCE | 9 ft. 0 in.   |  9.000… |   2000-10-02 |\n",
      "| 2,000 |         101 | LAKE PIERCE | 8 ft. 10 in.  |  8.833… |   2000-10-06 |\n",
      "| 2,000 |         101 | LAKE PIERCE | 8 ft. 0 in.   |  8.000… |   2000-09-25 |\n",
      "| 2,000 |         101 | LAKE PIERCE | 8 ft. 0 in.   |  8.000… |   2000-10-07 |\n",
      "| 2,000 |         101 | LAKE PIERCE | 8 ft. 0 in.   |  8.000… |   2000-09-22 |\n",
      "| 2,000 |         101 | LAKE PIERCE | 7 ft. 2 in.   |  7.167… |   2000-09-21 |\n",
      "| 2,000 |         101 | LAKE PIERCE | 7 ft. 1 in.   |  7.083… |   2000-09-21 |\n",
      "| 2,000 |         101 | LAKE PIERCE | 6 ft. 11 in.  |  6.917… |   2000-09-25 |\n",
      "| 2,000 |         101 | LAKE PIERCE | 6 ft. 7 in.   |  6.583… |   2000-09-25 |\n",
      "| 2,000 |         101 | LAKE PIERCE | 6 ft. 6 in.   |  6.500… |   2000-09-15 |\n",
      "| 2,000 |         101 | LAKE PIERCE | 6 ft. 3 in.   |  6.250… |   2000-10-07 |\n",
      "| 2,000 |         102 | LAKE MARIAN | 12 ft. 7 in.  | 12.583… |   2000-09-04 |\n",
      "| 2,000 |         102 | LAKE MARIAN | 12 ft. 3 in.  | 12.250… |   2000-09-10 |\n",
      "| 2,000 |         102 | LAKE MARIAN | 12 ft. 3 in.  | 12.250… |   2000-09-03 |\n",
      "| 2,000 |         102 | LAKE MARIAN | 12 ft. 2 in.  | 12.167… |   2000-09-25 |\n",
      "| 2,000 |         102 | LAKE MARIAN | 12 ft. 0 in.  | 12.000… |   2000-09-27 |\n",
      "| 2,000 |         102 | LAKE MARIAN | 11 ft. 10 in. | 11.833… |   2000-09-09 |\n",
      "| 2,000 |         102 | LAKE MARIAN | 11 ft. 7 in.  | 11.583… |   2000-09-10 |\n",
      "| 2,000 |         102 | LAKE MARIAN | 11 ft. 1 in.  | 11.083… |   2000-10-07 |\n",
      "|   ... |         ... | ...         | ...           |     ... |          ... |\n"
     ]
    },
    {
     "name": "stderr",
     "output_type": "stream",
     "text": [
      "/Users/cgroskopf/.pyenv/versions/3.6.0/lib/python3.6/json/encoder.py:199: DeprecationWarning: Interpreting naive datetime as local 2017-02-27 09:36:28.142579. Please add timezone info to timestamps.\n"
     ]
    }
   ],
   "source": [
    "alligators.print_table()"
   ]
  },
  {
   "cell_type": "markdown",
   "metadata": {
    "deletable": true,
    "editable": true
   },
   "source": [
    "## How many alligators were harvest in 2015?"
   ]
  },
  {
   "cell_type": "code",
   "execution_count": 8,
   "metadata": {
    "collapsed": false,
    "deletable": true,
    "editable": true
   },
   "outputs": [
    {
     "data": {
      "text/plain": [
       "6726"
      ]
     },
     "execution_count": 8,
     "metadata": {},
     "output_type": "execute_result"
    },
    {
     "name": "stderr",
     "output_type": "stream",
     "text": [
      "/Users/cgroskopf/.pyenv/versions/3.6.0/lib/python3.6/json/encoder.py:199: DeprecationWarning: Interpreting naive datetime as local 2017-02-27 09:36:29.037809. Please add timezone info to timestamps.\n"
     ]
    }
   ],
   "source": [
    "alligators.aggregate(agate.Count('Year', 2015))"
   ]
  },
  {
   "cell_type": "markdown",
   "metadata": {
    "deletable": true,
    "editable": true
   },
   "source": [
    "## What is the median size of all harvested alligators?"
   ]
  },
  {
   "cell_type": "code",
   "execution_count": 7,
   "metadata": {
    "collapsed": false,
    "deletable": true,
    "editable": true
   },
   "outputs": [
    {
     "data": {
      "text/plain": [
       "Decimal('8.166666667')"
      ]
     },
     "execution_count": 7,
     "metadata": {},
     "output_type": "execute_result"
    },
    {
     "name": "stderr",
     "output_type": "stream",
     "text": [
      "/Users/cgroskopf/.pyenv/versions/3.6.0/lib/python3.6/json/encoder.py:199: DeprecationWarning: Interpreting naive datetime as local 2017-02-27 08:07:08.373933. Please add timezone info to timestamps.\n"
     ]
    }
   ],
   "source": [
    "alligators.aggregate(agate.Median('Size'))"
   ]
  },
  {
   "cell_type": "markdown",
   "metadata": {
    "deletable": true,
    "editable": true
   },
   "source": [
    "## Are Lake Pierce's gators bigger or smaller than gators elsewhere?"
   ]
  },
  {
   "cell_type": "code",
   "execution_count": 16,
   "metadata": {
    "collapsed": false,
    "deletable": true,
    "editable": true
   },
   "outputs": [
    {
     "data": {
      "text/plain": [
       "284"
      ]
     },
     "execution_count": 16,
     "metadata": {},
     "output_type": "execute_result"
    },
    {
     "name": "stderr",
     "output_type": "stream",
     "text": [
      "/Users/cgroskopf/.pyenv/versions/3.6.0/lib/python3.6/json/encoder.py:199: DeprecationWarning: Interpreting naive datetime as local 2017-02-27 09:42:31.630379. Please add timezone info to timestamps.\n"
     ]
    }
   ],
   "source": [
    "lake_pierce_gators = alligators.where(lambda row: row['Area Name'] == 'LAKE PIERCE')\n",
    "\n",
    "len(lake_pierce_gators)"
   ]
  },
  {
   "cell_type": "code",
   "execution_count": 11,
   "metadata": {
    "collapsed": false,
    "deletable": true,
    "editable": true
   },
   "outputs": [
    {
     "data": {
      "text/plain": [
       "Decimal('7.833333333')"
      ]
     },
     "execution_count": 11,
     "metadata": {},
     "output_type": "execute_result"
    },
    {
     "name": "stderr",
     "output_type": "stream",
     "text": [
      "/Users/cgroskopf/.pyenv/versions/3.6.0/lib/python3.6/json/encoder.py:199: DeprecationWarning: Interpreting naive datetime as local 2017-02-27 09:36:52.267958. Please add timezone info to timestamps.\n"
     ]
    }
   ],
   "source": [
    "lake_pierce_gators.aggregate(agate.Median('Size'))"
   ]
  },
  {
   "cell_type": "markdown",
   "metadata": {
    "deletable": true,
    "editable": true
   },
   "source": [
    "## How big would these gators be in Europe?"
   ]
  },
  {
   "cell_type": "code",
   "execution_count": 13,
   "metadata": {
    "collapsed": false,
    "deletable": true,
    "editable": true
   },
   "outputs": [
    {
     "data": {
      "text/plain": [
       "Decimal('4.343400000000000218958184917')"
      ]
     },
     "execution_count": 13,
     "metadata": {},
     "output_type": "execute_result"
    },
    {
     "name": "stderr",
     "output_type": "stream",
     "text": [
      "/Users/cgroskopf/.pyenv/versions/3.6.0/lib/python3.6/json/encoder.py:199: DeprecationWarning: Interpreting naive datetime as local 2017-02-27 09:37:45.871397. Please add timezone info to timestamps.\n"
     ]
    }
   ],
   "source": [
    "import decimal\n",
    "\n",
    "metric_gators = alligators.compute([\n",
    "    ('size_meters', agate.Formula(agate.Number(), lambda row: row['Size'] * decimal.Decimal(0.3048)))\n",
    "])\n",
    "\n",
    "metric_gators.aggregate(agate.Max('size_meters'))"
   ]
  },
  {
   "cell_type": "markdown",
   "metadata": {
    "deletable": true,
    "editable": true
   },
   "source": [
    "## Where were the largest alligators harvested?"
   ]
  },
  {
   "cell_type": "code",
   "execution_count": 14,
   "metadata": {
    "collapsed": false,
    "deletable": true,
    "editable": true,
    "scrolled": true
   },
   "outputs": [
    {
     "name": "stdout",
     "output_type": "stream",
     "text": [
      "|  Year | Area Number | Area Name            | Carcass Size  |    Size | Harvest Date |\n",
      "| ----- | ----------- | -------------------- | ------------- | ------- | ------------ |\n",
      "| 2,010 |         502 | ST. JOHNS RIVER (... | 14 ft. 3 in.  | 14.250… |   2010-10-31 |\n",
      "| 2,014 |         828 | HIGHLANDS COUNTY     | 14 ft. 3 in.  | 14.250… |   2014-10-28 |\n",
      "| 2,008 |         510 | LAKE JESUP           | 14 ft. 1 in.  | 14.083… |   2008-08-26 |\n",
      "| 2,013 |         733 | LAKE TALQUIN         | 14 ft. 1 in.  | 14.083… |   2013-09-02 |\n",
      "| 2,012 |         828 | HIGHLANDS COUNTY     | 14 ft. 0 in.  | 14.000… |   2012-10-31 |\n",
      "| 2,008 |         508 | CRESCENT LAKE        | 13 ft. 11 in. | 13.917… |   2008-09-21 |\n",
      "| 2,007 |         823 | GULF COUNTY          | 13 ft. 10 in. | 13.833… |   2007-08-16 |\n",
      "| 2,007 |         103 | KISSIMMEE RIVER (... | 13 ft. 9 in.  | 13.750… |   2007-08-30 |\n",
      "| 2,008 |         864 | VOLUSIA COUNTY       | 13 ft. 9 in.  | 13.750… |   2008-11-30 |\n",
      "| 2,013 |         852 | PINELLAS COUNTY      | 13 ft. 9 in.  | 13.750… |   2013-09-25 |\n"
     ]
    },
    {
     "name": "stderr",
     "output_type": "stream",
     "text": [
      "/Users/cgroskopf/.pyenv/versions/3.6.0/lib/python3.6/json/encoder.py:199: DeprecationWarning: Interpreting naive datetime as local 2017-02-27 09:37:48.004119. Please add timezone info to timestamps.\n"
     ]
    }
   ],
   "source": [
    "sorted_by_size = alligators.order_by('Size', reverse=True).limit(10)\n",
    "\n",
    "biggest_gators = sorted_by_size.limit(10)\n",
    "\n",
    "biggest_gators.print_table()"
   ]
  },
  {
   "cell_type": "markdown",
   "metadata": {
    "deletable": true,
    "editable": true
   },
   "source": [
    "## What is the distribution of alligator sizes?"
   ]
  },
  {
   "cell_type": "code",
   "execution_count": 19,
   "metadata": {
    "collapsed": false,
    "deletable": true,
    "editable": true
   },
   "outputs": [
    {
     "name": "stdout",
     "output_type": "stream",
     "text": [
      "Size       Count\n",
      "[0 - 2)       91 ▓                                                                                  \n",
      "[2 - 4)      307 ▓░                                                                                 \n",
      "[4 - 6)    5,824 ▓░░░░░░░░░░░░                                                                      \n",
      "[6 - 8)   32,041 ▓░░░░░░░░░░░░░░░░░░░░░░░░░░░░░░░░░░░░░░░░░░░░░░░░░░░░░░░░░░░░░░░░░░                \n",
      "[8 - 10)  30,523 ▓░░░░░░░░░░░░░░░░░░░░░░░░░░░░░░░░░░░░░░░░░░░░░░░░░░░░░░░░░░░░░░░                   \n",
      "[10 - 12) 16,341 ▓░░░░░░░░░░░░░░░░░░░░░░░░░░░░░░░░░                                                 \n",
      "[12 - 14)  2,049 ▓░░░░                                                                              \n",
      "[14 - 16)      5 ▓                                                                                  \n",
      "                 +-------------------+--------------------+--------------------+-------------------+\n",
      "                 0                10,000               20,000               30,000            40,000\n"
     ]
    },
    {
     "name": "stderr",
     "output_type": "stream",
     "text": [
      "/Users/cgroskopf/.pyenv/versions/3.6.0/lib/python3.6/json/encoder.py:199: DeprecationWarning: Interpreting naive datetime as local 2017-02-27 09:43:31.535128. Please add timezone info to timestamps.\n"
     ]
    }
   ],
   "source": [
    "binned_sizes = alligators.bins('Size')\n",
    "binned_sizes.print_bars('Size', 'Count', width=100)"
   ]
  },
  {
   "cell_type": "markdown",
   "metadata": {
    "deletable": true,
    "editable": true
   },
   "source": [
    "## Which area harvests the most alligators?"
   ]
  },
  {
   "cell_type": "code",
   "execution_count": 14,
   "metadata": {
    "collapsed": false,
    "deletable": true,
    "editable": true,
    "scrolled": true
   },
   "outputs": [
    {
     "name": "stdout",
     "output_type": "stream",
     "text": [
      "| Area Name                       | count |\n",
      "| ------------------------------- | ----- |\n",
      "| ST. JOHNS RIVER (LAKE POINSETT) | 5,188 |\n",
      "| LAKE OKEECHOBEE (SOUTH)         | 4,122 |\n",
      "| ORANGE LAKE                     | 3,110 |\n",
      "| LAKE OKEECHOBEE (WEST)          | 3,073 |\n",
      "| KISSIMMEE RIVER                 | 2,978 |\n",
      "| ...                             |   ... |\n"
     ]
    },
    {
     "name": "stderr",
     "output_type": "stream",
     "text": [
      "/Users/cgroskopf/.pyenv/versions/3.6.0/lib/python3.6/json/encoder.py:199: DeprecationWarning: Interpreting naive datetime as local 2017-02-27 08:07:12.102265. Please add timezone info to timestamps.\n"
     ]
    }
   ],
   "source": [
    "by_area = alligators.group_by('Area Name')\n",
    "\n",
    "area_totals = by_area.aggregate([\n",
    "    ('count', agate.Count())\n",
    "])\n",
    "\n",
    "sorted_totals = area_totals.order_by('count', reverse=True)\n",
    "\n",
    "sorted_totals.print_table(max_rows=5, max_column_width=40)"
   ]
  },
  {
   "cell_type": "markdown",
   "metadata": {
    "deletable": true,
    "editable": true
   },
   "source": [
    "## Which area harvests the largest alligators?"
   ]
  },
  {
   "cell_type": "code",
   "execution_count": 15,
   "metadata": {
    "collapsed": false,
    "deletable": true,
    "editable": true
   },
   "outputs": [
    {
     "name": "stdout",
     "output_type": "stream",
     "text": [
      "| Area Name         | count | median_size |\n",
      "| ----------------- | ----- | ----------- |\n",
      "| ST. JOHNS         |     1 |     11.583… |\n",
      "| LAKE              |     2 |     10.500… |\n",
      "| STICK MARSH       |   503 |     10.417… |\n",
      "| LAKE PARKER       |    25 |     10.250… |\n",
      "| PALM BEACH COUNTY |    82 |      9.750… |\n",
      "| ...               |   ... |         ... |\n"
     ]
    },
    {
     "name": "stderr",
     "output_type": "stream",
     "text": [
      "/Users/cgroskopf/.pyenv/versions/3.6.0/lib/python3.6/json/encoder.py:199: DeprecationWarning: Interpreting naive datetime as local 2017-02-27 08:07:12.927551. Please add timezone info to timestamps.\n"
     ]
    }
   ],
   "source": [
    "area_medians = by_area.aggregate([\n",
    "    ('count', agate.Count()),\n",
    "    ('median_size', agate.Median('Size'))\n",
    "])\n",
    "\n",
    "sorted_medians = area_medians.order_by('median_size', reverse=True)\n",
    "\n",
    "sorted_medians.print_table(max_rows=5, max_column_width=40)"
   ]
  },
  {
   "cell_type": "markdown",
   "metadata": {
    "deletable": true,
    "editable": true
   },
   "source": [
    "## Where and when was the largest concentration of big alligators harvested?"
   ]
  },
  {
   "cell_type": "code",
   "execution_count": 16,
   "metadata": {
    "collapsed": false,
    "deletable": true,
    "editable": true
   },
   "outputs": [
    {
     "name": "stdout",
     "output_type": "stream",
     "text": [
      "| Area Name            |  Year | count |\n",
      "| -------------------- | ----- | ----- |\n",
      "| LAKE OKEECHOBEE (... | 2,000 |    43 |\n",
      "| LAKE OKEECHOBEE (... | 2,006 |    34 |\n",
      "| LAKE JESUP           | 2,009 |    32 |\n",
      "| LAKE OKEECHOBEE (... | 2,001 |    26 |\n",
      "| LAKE GEORGE          | 2,005 |    22 |\n",
      "| LAKE OKEECHOBEE (... | 2,006 |    20 |\n",
      "| LAKE GEORGE          | 2,013 |    20 |\n",
      "| LAKE OKEECHOBEE (... | 2,000 |    18 |\n",
      "| LAKE GEORGE          | 2,006 |    18 |\n",
      "| LAKE GEORGE          | 2,007 |    18 |\n",
      "| LAKE JESUP           | 2,008 |    17 |\n",
      "| LAKE GEORGE          | 2,011 |    17 |\n",
      "| LAKE OKEECHOBEE (... | 2,004 |    16 |\n",
      "| LAKE GEORGE          | 2,010 |    16 |\n",
      "| PUTNAM COUNTY        | 2,011 |    16 |\n",
      "| LAKE OKEECHOBEE (... | 2,007 |    15 |\n",
      "| LAKE JESUP           | 2,010 |    14 |\n",
      "| LAKE OKEECHOBEE (... | 2,000 |    14 |\n",
      "| LAKE OKEECHOBEE (... | 2,001 |    14 |\n",
      "| LAKE COUNTY          | 2,011 |    14 |\n",
      "| ...                  |   ... |   ... |\n"
     ]
    },
    {
     "name": "stderr",
     "output_type": "stream",
     "text": [
      "/Users/cgroskopf/.pyenv/versions/3.6.0/lib/python3.6/json/encoder.py:199: DeprecationWarning: Interpreting naive datetime as local 2017-02-27 08:07:13.382628. Please add timezone info to timestamps.\n"
     ]
    }
   ],
   "source": [
    "by_area_and_year = by_area.group_by('Year')\n",
    "\n",
    "bigguns = by_area_and_year.where(lambda row: row['Size'] >= 12)\n",
    "\n",
    "biggun_groups = bigguns.aggregate([\n",
    "    ('count', agate.Count())\n",
    "])\n",
    "\n",
    "sorted_groups = biggun_groups.order_by('count', reverse=True)\n",
    "\n",
    "sorted_groups.print_table()"
   ]
  },
  {
   "cell_type": "markdown",
   "metadata": {
    "deletable": true,
    "editable": true
   },
   "source": [
    "Leather will try to maintain a reasonable aspect ratio for chart. In this case the chart is too short to display correctly. We've used the `height` argument to make the chart a little taller."
   ]
  },
  {
   "cell_type": "markdown",
   "metadata": {
    "deletable": true,
    "editable": true
   },
   "source": [
    "## What's the gator trend?"
   ]
  },
  {
   "cell_type": "code",
   "execution_count": 19,
   "metadata": {
    "collapsed": false,
    "deletable": true,
    "editable": true
   },
   "outputs": [
    {
     "data": {
      "image/svg+xml": [
       "<svg height=\"600\" version=\"1.1\" width=\"800\" xmlns=\"http://www.w3.org/2000/svg\"><g><rect fill=\"#f9f9f9\" height=\"600\" width=\"800\" x=\"0\" y=\"0\"/><g transform=\"translate(40 40)\"><g transform=\"translate(78 0)\"/><g transform=\"translate(0 0)\"><g transform=\"translate(78 0)\"><g class=\"axis bottom\"><text dy=\"1em\" fill=\"#666\" font-family=\"Monaco\" text-anchor=\"middle\" transform=\"\" x=\"321.0\" y=\"506.0\">Year</text><g class=\"tick\"><line stroke=\"#eee\" stroke-width=\"1\" x1=\"0\" x2=\"0\" y1=\"0\" y2=\"472.0\"/><text dy=\"1em\" fill=\"#9c9c9c\" font-family=\"Monaco\" text-anchor=\"middle\" x=\"0\" y=\"476.0\">2000</text></g><g class=\"tick\"><line stroke=\"#eee\" stroke-width=\"1\" x1=\"214.0000000000000000000000000\" x2=\"214.0000000000000000000000000\" y1=\"0\" y2=\"472.0\"/><text dy=\"1em\" fill=\"#9c9c9c\" font-family=\"Monaco\" text-anchor=\"middle\" x=\"214.0000000000000000000000000\" y=\"476.0\">2005</text></g><g class=\"tick\"><line stroke=\"#eee\" stroke-width=\"1\" x1=\"428.0000000000000000000000000\" x2=\"428.0000000000000000000000000\" y1=\"0\" y2=\"472.0\"/><text dy=\"1em\" fill=\"#9c9c9c\" font-family=\"Monaco\" text-anchor=\"middle\" x=\"428.0000000000000000000000000\" y=\"476.0\">2010</text></g><g class=\"tick\"><line stroke=\"#eee\" stroke-width=\"1\" x1=\"642\" x2=\"642\" y1=\"0\" y2=\"472.0\"/><text dy=\"1em\" fill=\"#9c9c9c\" font-family=\"Monaco\" text-anchor=\"middle\" x=\"642\" y=\"476.0\">2015</text></g></g><g class=\"axis left\"><text dy=\"\" fill=\"#666\" font-family=\"Monaco\" text-anchor=\"middle\" transform=\"rotate(270 -56 234)\" x=\"-56\" y=\"234.0\">count</text><g class=\"tick\"><line stroke=\"#eee\" stroke-width=\"1\" x1=\"-4\" x2=\"642.0\" y1=\"468\" y2=\"468\"/><text dy=\"0.32em\" fill=\"#9c9c9c\" font-family=\"Monaco\" text-anchor=\"end\" x=\"-8\" y=\"468\">2000</text></g><g class=\"tick\"><line stroke=\"#eee\" stroke-width=\"1\" x1=\"-4\" x2=\"642.0\" y1=\"351.00\" y2=\"351.00\"/><text dy=\"0.32em\" fill=\"#9c9c9c\" font-family=\"Monaco\" text-anchor=\"end\" x=\"-8\" y=\"351.00\">4000</text></g><g class=\"tick\"><line stroke=\"#eee\" stroke-width=\"1\" x1=\"-4\" x2=\"642.0\" y1=\"234.0\" y2=\"234.0\"/><text dy=\"0.32em\" fill=\"#9c9c9c\" font-family=\"Monaco\" text-anchor=\"end\" x=\"-8\" y=\"234.0\">6000</text></g><g class=\"tick\"><line stroke=\"#eee\" stroke-width=\"1\" x1=\"-4\" x2=\"642.0\" y1=\"117.00\" y2=\"117.00\"/><text dy=\"0.32em\" fill=\"#9c9c9c\" font-family=\"Monaco\" text-anchor=\"end\" x=\"-8\" y=\"117.00\">8000</text></g><g class=\"tick\"><line stroke=\"#eee\" stroke-width=\"1\" x1=\"-4\" x2=\"642.0\" y1=\"0\" y2=\"0\"/><text dy=\"0.32em\" fill=\"#9c9c9c\" font-family=\"Monaco\" text-anchor=\"end\" x=\"-8\" y=\"0\">10000</text></g></g><g><g class=\"series lines\"><path d=\"M 0 436.000500 L 42.80000000000000000000000000 452.67300 L 85.59999999999999999999999998 458.932500 L 128.4 420.088500 L 171.2000000000000000000000000 396.220500 L 214.0000000000000000000000000 382.999500 L 256.8 209.4300 L 299.6000000000000000000000000 236.808 L 342.4000000000000000000000000 222.241500 L 385.2 131.976 L 428.0000000000000000000000000 137.24100 L 470.8000000000000000000000000 116.356500 L 513.6 195.565500 L 556.4000000000000000000000000 118.228500 L 599.2000000000000000000000000 153.62100 L 642 191.52900\" fill=\"none\" stroke=\"#e41a1c\" stroke-width=\"2\"/></g></g></g></g></g></g></svg>"
      ],
      "text/plain": [
       "<IPython.core.display.SVG object>"
      ]
     },
     "execution_count": 19,
     "metadata": {},
     "output_type": "execute_result"
    },
    {
     "name": "stderr",
     "output_type": "stream",
     "text": [
      "/Users/cgroskopf/.pyenv/versions/3.6.0/lib/python3.6/json/encoder.py:199: DeprecationWarning: Interpreting naive datetime as local 2017-02-27 08:07:14.788269. Please add timezone info to timestamps.\n"
     ]
    }
   ],
   "source": [
    "by_year_alligators = alligators.group_by('Year')\n",
    "\n",
    "counts = by_year_alligators.aggregate([\n",
    "    ('count', agate.Count())\n",
    "])\n",
    "\n",
    "counts.order_by('Year').line_chart('Year', 'count')"
   ]
  },
  {
   "cell_type": "markdown",
   "metadata": {
    "deletable": true,
    "editable": true
   },
   "source": [
    "## What's the gator trend in the top gator harvesting areas?"
   ]
  },
  {
   "cell_type": "code",
   "execution_count": 20,
   "metadata": {
    "collapsed": false,
    "deletable": true,
    "editable": true,
    "scrolled": false
   },
   "outputs": [
    {
     "data": {
      "image/svg+xml": [
       "<svg height=\"1200\" version=\"1.1\" width=\"1600\" xmlns=\"http://www.w3.org/2000/svg\"><g><rect fill=\"#f9f9f9\" height=\"1200\" width=\"1600\" x=\"0\" y=\"0\"/><g><g transform=\"translate(0 0)\"><g><rect fill=\"#f9f9f9\" height=\"600.0\" width=\"800.0\" x=\"0\" y=\"0\"/><g transform=\"translate(40 40)\"><g transform=\"translate(70 0)\"><text fill=\"#333\" font-family=\"Monaco\" font-size=\"16\" x=\"0\" y=\"0\">LAKE OKEECHOBEE (WEST)</text></g><g transform=\"translate(0 20)\"><g transform=\"translate(70 0)\"><g class=\"axis bottom\"><text dy=\"1em\" fill=\"#666\" font-family=\"Monaco\" text-anchor=\"middle\" transform=\"\" x=\"325.0\" y=\"486.0\">Year</text><g class=\"tick\"><line stroke=\"#eee\" stroke-width=\"1\" x1=\"0\" x2=\"0\" y1=\"0\" y2=\"452.0\"/><text dy=\"1em\" fill=\"#9c9c9c\" font-family=\"Monaco\" text-anchor=\"middle\" x=\"0\" y=\"456.0\">2000</text></g><g class=\"tick\"><line stroke=\"#eee\" stroke-width=\"1\" x1=\"216.6666666666666666666666666\" x2=\"216.6666666666666666666666666\" y1=\"0\" y2=\"452.0\"/><text dy=\"1em\" fill=\"#9c9c9c\" font-family=\"Monaco\" text-anchor=\"middle\" x=\"216.6666666666666666666666666\" y=\"456.0\">2005</text></g><g class=\"tick\"><line stroke=\"#eee\" stroke-width=\"1\" x1=\"433.3333333333333333333333334\" x2=\"433.3333333333333333333333334\" y1=\"0\" y2=\"452.0\"/><text dy=\"1em\" fill=\"#9c9c9c\" font-family=\"Monaco\" text-anchor=\"middle\" x=\"433.3333333333333333333333334\" y=\"456.0\">2010</text></g><g class=\"tick\"><line stroke=\"#eee\" stroke-width=\"1\" x1=\"650\" x2=\"650\" y1=\"0\" y2=\"452.0\"/><text dy=\"1em\" fill=\"#9c9c9c\" font-family=\"Monaco\" text-anchor=\"middle\" x=\"650\" y=\"456.0\">2015</text></g></g><g class=\"axis left\"><text dy=\"\" fill=\"#666\" font-family=\"Monaco\" text-anchor=\"middle\" transform=\"rotate(270 -48 224)\" x=\"-48\" y=\"224.0\">count</text><g class=\"tick\"><line stroke=\"#eee\" stroke-width=\"1\" x1=\"-4\" x2=\"650.0\" y1=\"336.00\" y2=\"336.00\"/><text dy=\"0.32em\" fill=\"#9c9c9c\" font-family=\"Monaco\" text-anchor=\"end\" x=\"-8\" y=\"336.00\">250</text></g><g class=\"tick\"><line stroke=\"#eee\" stroke-width=\"1\" x1=\"-4\" x2=\"650.0\" y1=\"224.0\" y2=\"224.0\"/><text dy=\"0.32em\" fill=\"#9c9c9c\" font-family=\"Monaco\" text-anchor=\"end\" x=\"-8\" y=\"224.0\">500</text></g><g class=\"tick\"><line stroke=\"#eee\" stroke-width=\"1\" x1=\"-4\" x2=\"650.0\" y1=\"112.00\" y2=\"112.00\"/><text dy=\"0.32em\" fill=\"#9c9c9c\" font-family=\"Monaco\" text-anchor=\"end\" x=\"-8\" y=\"112.00\">750</text></g><g class=\"tick\"><line stroke=\"#eee\" stroke-width=\"1\" x1=\"-4\" x2=\"650.0\" y1=\"0\" y2=\"0\"/><text dy=\"0.32em\" fill=\"#9c9c9c\" font-family=\"Monaco\" text-anchor=\"end\" x=\"-8\" y=\"0\">1000</text></g><g class=\"tick\"><line stroke=\"#a8a8a8\" stroke-width=\"1\" x1=\"-4\" x2=\"650.0\" y1=\"448\" y2=\"448\"/><text dy=\"0.32em\" fill=\"#9c9c9c\" font-family=\"Monaco\" text-anchor=\"end\" x=\"-8\" y=\"448\">0</text></g></g><g><g class=\"series lines\"><path d=\"M 0 245.056 L 43.33333333333333333333333334 318.528 L 173.3333333333333333333333334 318.08 L 216.6666666666666666666666666 334.656 L 260.0 246.848 L 303.3333333333333333333333334 345.856 L 346.6666666666666666666666666 357.952 L 390.0 246.40 L 433.3333333333333333333333334 241.92\" fill=\"none\" stroke=\"#e41a1c\" stroke-width=\"2\"/></g></g></g></g></g></g></g><g transform=\"translate(800 0)\"><g><rect fill=\"#f9f9f9\" height=\"600.0\" width=\"800.0\" x=\"0\" y=\"0\"/><g transform=\"translate(40 40)\"><g transform=\"translate(70 0)\"><text fill=\"#333\" font-family=\"Monaco\" font-size=\"16\" x=\"0\" y=\"0\">LAKE OKEECHOBEE (SOUTH)</text></g><g transform=\"translate(0 20)\"><g transform=\"translate(70 0)\"><g class=\"axis bottom\"><text dy=\"1em\" fill=\"#666\" font-family=\"Monaco\" text-anchor=\"middle\" transform=\"\" x=\"325.0\" y=\"486.0\">Year</text><g class=\"tick\"><line stroke=\"#eee\" stroke-width=\"1\" x1=\"0\" x2=\"0\" y1=\"0\" y2=\"452.0\"/><text dy=\"1em\" fill=\"#9c9c9c\" font-family=\"Monaco\" text-anchor=\"middle\" x=\"0\" y=\"456.0\">2000</text></g><g class=\"tick\"><line stroke=\"#eee\" stroke-width=\"1\" x1=\"216.6666666666666666666666666\" x2=\"216.6666666666666666666666666\" y1=\"0\" y2=\"452.0\"/><text dy=\"1em\" fill=\"#9c9c9c\" font-family=\"Monaco\" text-anchor=\"middle\" x=\"216.6666666666666666666666666\" y=\"456.0\">2005</text></g><g class=\"tick\"><line stroke=\"#eee\" stroke-width=\"1\" x1=\"433.3333333333333333333333334\" x2=\"433.3333333333333333333333334\" y1=\"0\" y2=\"452.0\"/><text dy=\"1em\" fill=\"#9c9c9c\" font-family=\"Monaco\" text-anchor=\"middle\" x=\"433.3333333333333333333333334\" y=\"456.0\">2010</text></g><g class=\"tick\"><line stroke=\"#eee\" stroke-width=\"1\" x1=\"650\" x2=\"650\" y1=\"0\" y2=\"452.0\"/><text dy=\"1em\" fill=\"#9c9c9c\" font-family=\"Monaco\" text-anchor=\"middle\" x=\"650\" y=\"456.0\">2015</text></g></g><g class=\"axis left\"><text dy=\"\" fill=\"#666\" font-family=\"Monaco\" text-anchor=\"middle\" transform=\"rotate(270 -48 224)\" x=\"-48\" y=\"224.0\">count</text><g class=\"tick\"><line stroke=\"#eee\" stroke-width=\"1\" x1=\"-4\" x2=\"650.0\" y1=\"336.00\" y2=\"336.00\"/><text dy=\"0.32em\" fill=\"#9c9c9c\" font-family=\"Monaco\" text-anchor=\"end\" x=\"-8\" y=\"336.00\">250</text></g><g class=\"tick\"><line stroke=\"#eee\" stroke-width=\"1\" x1=\"-4\" x2=\"650.0\" y1=\"224.0\" y2=\"224.0\"/><text dy=\"0.32em\" fill=\"#9c9c9c\" font-family=\"Monaco\" text-anchor=\"end\" x=\"-8\" y=\"224.0\">500</text></g><g class=\"tick\"><line stroke=\"#eee\" stroke-width=\"1\" x1=\"-4\" x2=\"650.0\" y1=\"112.00\" y2=\"112.00\"/><text dy=\"0.32em\" fill=\"#9c9c9c\" font-family=\"Monaco\" text-anchor=\"end\" x=\"-8\" y=\"112.00\">750</text></g><g class=\"tick\"><line stroke=\"#eee\" stroke-width=\"1\" x1=\"-4\" x2=\"650.0\" y1=\"0\" y2=\"0\"/><text dy=\"0.32em\" fill=\"#9c9c9c\" font-family=\"Monaco\" text-anchor=\"end\" x=\"-8\" y=\"0\">1000</text></g><g class=\"tick\"><line stroke=\"#a8a8a8\" stroke-width=\"1\" x1=\"-4\" x2=\"650.0\" y1=\"448\" y2=\"448\"/><text dy=\"0.32em\" fill=\"#9c9c9c\" font-family=\"Monaco\" text-anchor=\"end\" x=\"-8\" y=\"448\">0</text></g></g><g><g class=\"series lines\"><path d=\"M 0 303.296 L 43.33333333333333333333333334 379.456 L 173.3333333333333333333333334 382.592 L 216.6666666666666666666666666 390.656 L 260.0 51.520 L 303.3333333333333333333333334 255.36 L 346.6666666666666666666666666 331.072 L 390.0 42.560 L 433.3333333333333333333333334 48.832\" fill=\"none\" stroke=\"#e41a1c\" stroke-width=\"2\"/></g></g></g></g></g></g></g><g transform=\"translate(0 600)\"><g><rect fill=\"#f9f9f9\" height=\"600.0\" width=\"800.0\" x=\"0\" y=\"0\"/><g transform=\"translate(40 40)\"><g transform=\"translate(70 0)\"><text fill=\"#333\" font-family=\"Monaco\" font-size=\"16\" x=\"0\" y=\"0\">ORANGE LAKE</text></g><g transform=\"translate(0 20)\"><g transform=\"translate(70 0)\"><g class=\"axis bottom\"><text dy=\"1em\" fill=\"#666\" font-family=\"Monaco\" text-anchor=\"middle\" transform=\"\" x=\"325.0\" y=\"486.0\">Year</text><g class=\"tick\"><line stroke=\"#eee\" stroke-width=\"1\" x1=\"0\" x2=\"0\" y1=\"0\" y2=\"452.0\"/><text dy=\"1em\" fill=\"#9c9c9c\" font-family=\"Monaco\" text-anchor=\"middle\" x=\"0\" y=\"456.0\">2000</text></g><g class=\"tick\"><line stroke=\"#eee\" stroke-width=\"1\" x1=\"216.6666666666666666666666666\" x2=\"216.6666666666666666666666666\" y1=\"0\" y2=\"452.0\"/><text dy=\"1em\" fill=\"#9c9c9c\" font-family=\"Monaco\" text-anchor=\"middle\" x=\"216.6666666666666666666666666\" y=\"456.0\">2005</text></g><g class=\"tick\"><line stroke=\"#eee\" stroke-width=\"1\" x1=\"433.3333333333333333333333334\" x2=\"433.3333333333333333333333334\" y1=\"0\" y2=\"452.0\"/><text dy=\"1em\" fill=\"#9c9c9c\" font-family=\"Monaco\" text-anchor=\"middle\" x=\"433.3333333333333333333333334\" y=\"456.0\">2010</text></g><g class=\"tick\"><line stroke=\"#eee\" stroke-width=\"1\" x1=\"650\" x2=\"650\" y1=\"0\" y2=\"452.0\"/><text dy=\"1em\" fill=\"#9c9c9c\" font-family=\"Monaco\" text-anchor=\"middle\" x=\"650\" y=\"456.0\">2015</text></g></g><g class=\"axis left\"><text dy=\"\" fill=\"#666\" font-family=\"Monaco\" text-anchor=\"middle\" transform=\"rotate(270 -48 224)\" x=\"-48\" y=\"224.0\">count</text><g class=\"tick\"><line stroke=\"#eee\" stroke-width=\"1\" x1=\"-4\" x2=\"650.0\" y1=\"336.00\" y2=\"336.00\"/><text dy=\"0.32em\" fill=\"#9c9c9c\" font-family=\"Monaco\" text-anchor=\"end\" x=\"-8\" y=\"336.00\">250</text></g><g class=\"tick\"><line stroke=\"#eee\" stroke-width=\"1\" x1=\"-4\" x2=\"650.0\" y1=\"224.0\" y2=\"224.0\"/><text dy=\"0.32em\" fill=\"#9c9c9c\" font-family=\"Monaco\" text-anchor=\"end\" x=\"-8\" y=\"224.0\">500</text></g><g class=\"tick\"><line stroke=\"#eee\" stroke-width=\"1\" x1=\"-4\" x2=\"650.0\" y1=\"112.00\" y2=\"112.00\"/><text dy=\"0.32em\" fill=\"#9c9c9c\" font-family=\"Monaco\" text-anchor=\"end\" x=\"-8\" y=\"112.00\">750</text></g><g class=\"tick\"><line stroke=\"#eee\" stroke-width=\"1\" x1=\"-4\" x2=\"650.0\" y1=\"0\" y2=\"0\"/><text dy=\"0.32em\" fill=\"#9c9c9c\" font-family=\"Monaco\" text-anchor=\"end\" x=\"-8\" y=\"0\">1000</text></g><g class=\"tick\"><line stroke=\"#a8a8a8\" stroke-width=\"1\" x1=\"-4\" x2=\"650.0\" y1=\"448\" y2=\"448\"/><text dy=\"0.32em\" fill=\"#9c9c9c\" font-family=\"Monaco\" text-anchor=\"end\" x=\"-8\" y=\"448\">0</text></g></g><g><g class=\"series lines\"><path d=\"M 0 392.000 L 130.0 420.224 L 173.3333333333333333333333334 404.992 L 216.6666666666666666666666666 391.104 L 260.0 297.024 L 303.3333333333333333333333334 317.184 L 346.6666666666666666666666666 265.664 L 390.0 248.192 L 433.3333333333333333333333334 268.8 L 476.6666666666666666666666666 230.720 L 563.3333333333333333333333334 398.72 L 606.6666666666666666666666666 384.832 L 650 411.264\" fill=\"none\" stroke=\"#e41a1c\" stroke-width=\"2\"/></g></g></g></g></g></g></g><g transform=\"translate(800 600)\"><g><rect fill=\"#f9f9f9\" height=\"600.0\" width=\"800.0\" x=\"0\" y=\"0\"/><g transform=\"translate(40 40)\"><g transform=\"translate(70 0)\"><text fill=\"#333\" font-family=\"Monaco\" font-size=\"16\" x=\"0\" y=\"0\">ST. JOHNS RIVER (LAKE POINSETT)</text></g><g transform=\"translate(0 20)\"><g transform=\"translate(70 0)\"><g class=\"axis bottom\"><text dy=\"1em\" fill=\"#666\" font-family=\"Monaco\" text-anchor=\"middle\" transform=\"\" x=\"325.0\" y=\"486.0\">Year</text><g class=\"tick\"><line stroke=\"#eee\" stroke-width=\"1\" x1=\"0\" x2=\"0\" y1=\"0\" y2=\"452.0\"/><text dy=\"1em\" fill=\"#9c9c9c\" font-family=\"Monaco\" text-anchor=\"middle\" x=\"0\" y=\"456.0\">2000</text></g><g class=\"tick\"><line stroke=\"#eee\" stroke-width=\"1\" x1=\"216.6666666666666666666666666\" x2=\"216.6666666666666666666666666\" y1=\"0\" y2=\"452.0\"/><text dy=\"1em\" fill=\"#9c9c9c\" font-family=\"Monaco\" text-anchor=\"middle\" x=\"216.6666666666666666666666666\" y=\"456.0\">2005</text></g><g class=\"tick\"><line stroke=\"#eee\" stroke-width=\"1\" x1=\"433.3333333333333333333333334\" x2=\"433.3333333333333333333333334\" y1=\"0\" y2=\"452.0\"/><text dy=\"1em\" fill=\"#9c9c9c\" font-family=\"Monaco\" text-anchor=\"middle\" x=\"433.3333333333333333333333334\" y=\"456.0\">2010</text></g><g class=\"tick\"><line stroke=\"#eee\" stroke-width=\"1\" x1=\"650\" x2=\"650\" y1=\"0\" y2=\"452.0\"/><text dy=\"1em\" fill=\"#9c9c9c\" font-family=\"Monaco\" text-anchor=\"middle\" x=\"650\" y=\"456.0\">2015</text></g></g><g class=\"axis left\"><text dy=\"\" fill=\"#666\" font-family=\"Monaco\" text-anchor=\"middle\" transform=\"rotate(270 -48 224)\" x=\"-48\" y=\"224.0\">count</text><g class=\"tick\"><line stroke=\"#eee\" stroke-width=\"1\" x1=\"-4\" x2=\"650.0\" y1=\"336.00\" y2=\"336.00\"/><text dy=\"0.32em\" fill=\"#9c9c9c\" font-family=\"Monaco\" text-anchor=\"end\" x=\"-8\" y=\"336.00\">250</text></g><g class=\"tick\"><line stroke=\"#eee\" stroke-width=\"1\" x1=\"-4\" x2=\"650.0\" y1=\"224.0\" y2=\"224.0\"/><text dy=\"0.32em\" fill=\"#9c9c9c\" font-family=\"Monaco\" text-anchor=\"end\" x=\"-8\" y=\"224.0\">500</text></g><g class=\"tick\"><line stroke=\"#eee\" stroke-width=\"1\" x1=\"-4\" x2=\"650.0\" y1=\"112.00\" y2=\"112.00\"/><text dy=\"0.32em\" fill=\"#9c9c9c\" font-family=\"Monaco\" text-anchor=\"end\" x=\"-8\" y=\"112.00\">750</text></g><g class=\"tick\"><line stroke=\"#eee\" stroke-width=\"1\" x1=\"-4\" x2=\"650.0\" y1=\"0\" y2=\"0\"/><text dy=\"0.32em\" fill=\"#9c9c9c\" font-family=\"Monaco\" text-anchor=\"end\" x=\"-8\" y=\"0\">1000</text></g><g class=\"tick\"><line stroke=\"#a8a8a8\" stroke-width=\"1\" x1=\"-4\" x2=\"650.0\" y1=\"448\" y2=\"448\"/><text dy=\"0.32em\" fill=\"#9c9c9c\" font-family=\"Monaco\" text-anchor=\"end\" x=\"-8\" y=\"448\">0</text></g></g><g><g class=\"series lines\"><path d=\"M 43.33333333333333333333333334 387.520 L 86.66666666666666666666666664 394.688 L 130.0 383.936 L 173.3333333333333333333333334 395.136 L 216.6666666666666666666666666 366.464 L 260.0 154.112 L 303.3333333333333333333333334 205.184 L 346.6666666666666666666666666 173.824 L 390.0 117.824 L 433.3333333333333333333333334 129.024 L 476.6666666666666666666666666 256.256 L 520.0 374.528 L 563.3333333333333333333333334 369.152 L 606.6666666666666666666666666 335.552 L 650 352.576\" fill=\"none\" stroke=\"#e41a1c\" stroke-width=\"2\"/></g></g></g></g></g></g></g></g></g></svg>"
      ],
      "text/plain": [
       "<IPython.core.display.SVG object>"
      ]
     },
     "execution_count": 20,
     "metadata": {},
     "output_type": "execute_result"
    },
    {
     "name": "stderr",
     "output_type": "stream",
     "text": [
      "/Users/cgroskopf/.pyenv/versions/3.6.0/lib/python3.6/json/encoder.py:199: DeprecationWarning: Interpreting naive datetime as local 2017-02-27 08:07:15.370343. Please add timezone info to timestamps.\n"
     ]
    }
   ],
   "source": [
    "top_areas = alligators.group_by('Area Name').having([\n",
    "    ('count', agate.Count())\n",
    "], lambda t: t['count'] > 3000)\n",
    "\n",
    "by_year = top_areas.group_by('Year')\n",
    "\n",
    "counts = by_year.aggregate([\n",
    "    ('count', agate.Count())\n",
    "])\n",
    "\n",
    "by_area = counts.group_by('Area Name')\n",
    "\n",
    "by_area.order_by('Area Name').line_chart('Year', 'count')"
   ]
  },
  {
   "cell_type": "markdown",
   "metadata": {
    "deletable": true,
    "editable": true
   },
   "source": [
    "### Styling charts"
   ]
  },
  {
   "cell_type": "markdown",
   "metadata": {
    "collapsed": true,
    "deletable": true,
    "editable": true
   },
   "source": [
    "Where to go next\n",
    "================\n",
    "\n",
    "* Check out the [`cookbook`](http://agate.readthedocs.io/en/latest/cookbook.html) \n",
    "* Learn about [`extensions`](http://agate.readthedocs.io/en/latest/extensions.html)\n",
    "* Think about [`contributing`](http://agate.readthedocs.io/en/latest/contributing.html)\n",
    "* Report any [`issues`](https://github.com/wireservice/agate/issues)\n",
    "\n",
    "Good luck in your reporting!"
   ]
  }
 ],
 "metadata": {
  "kernelspec": {
   "display_name": "Python 3",
   "language": "python",
   "name": "python3"
  },
  "language_info": {
   "codemirror_mode": {
    "name": "ipython",
    "version": 3
   },
   "file_extension": ".py",
   "mimetype": "text/x-python",
   "name": "python",
   "nbconvert_exporter": "python",
   "pygments_lexer": "ipython3",
   "version": "3.6.0"
  }
 },
 "nbformat": 4,
 "nbformat_minor": 0
}
